{
 "cells": [
  {
   "cell_type": "markdown",
   "metadata": {},
   "source": [
    "<h1>E-commerce — Анализ товарного ассортимента</h1>"
   ]
  },
  {
   "cell_type": "markdown",
   "metadata": {},
   "source": [
    "<h3>Стадии проекта:</h3>\n",
    "\n",
    "- прояснение запроса;\n",
    "- декомпозиция задачи;\n",
    "- предобработка данных;\n",
    "- исследовательский анализ данных;\n",
    "- проверка гипотез;\n",
    "- работа с метриками и бизнес-показателями;\n",
    "- подготовка презентации.\n"
   ]
  },
  {
   "cell_type": "markdown",
   "metadata": {},
   "source": [
    "<h3>Цель:</h3>\n",
    "\n",
    "- оптимизация закупок;\n",
    "\n",
    "- Увеличение выручки за счет дополнительных продаж через корректные товарные рекомендации;"
   ]
  },
  {
   "cell_type": "markdown",
   "metadata": {},
   "source": [
    "<h3>Заказчик:</h3>\n",
    "\n",
    "Менеджер проекта, который отвечает за актуальность товарного ассортимента"
   ]
  },
  {
   "cell_type": "markdown",
   "metadata": {},
   "source": [
    "<h3>Задача:</h3>\n",
    "\n",
    "Определить какие товары входят в основной и дополнительный ассортимент."
   ]
  },
  {
   "cell_type": "markdown",
   "metadata": {},
   "source": [
    "### Этапы:\n",
    "\n",
    "Провести анализ ассортимента товаров:\n",
    "\n",
    "- Провести исследовательский анализ данных;\n",
    "- Провести анализ торгового ассортимента;\n",
    "- Сформулировать и проверить статистические гипотезы."
   ]
  },
  {
   "cell_type": "markdown",
   "metadata": {},
   "source": [
    "<h3> Описание данных:</h3>\n",
    "\n",
    "Датасет описывает транзакции интернет-магазина товаров для дома и быта «Пока все ещё тут» за период с 01 октября 2018 года по 31 октября 2019 года. \n",
    "\n",
    "Всего в датасете описано 6737 наблюдений (строк). Датасет вертикально ориентированный: каждая строка соответствует приобретению одного товара, который можем входить в один из заказов, совершенных одним из покупателей;\n",
    "\n",
    "Колонки в  *ecommerce_dataset.csv* :\n",
    "\n",
    "- `date` — дата заказа;\n",
    "- `customer_id` — идентификатор покупателя;\n",
    "- `order_id` — идентификатор заказа;\n",
    "- `product` — наименование товара;\n",
    "- `quantity` — количество товара в заказе;\n",
    "- `price` — цена товара."
   ]
  },
  {
   "cell_type": "markdown",
   "metadata": {},
   "source": [
    "<h3>Декомпозиция:</h3>"
   ]
  },
  {
   "cell_type": "markdown",
   "metadata": {},
   "source": [
    "- [ШАГ 1: Предобрадотка данных](#step1)\n",
    "\t- [1.1. Изучить общие данные по имеющемуся датасету;](#step1.1.)\n",
    "\t- [1.2. Обработка названий столбцов (устранение пропусков, приведение к нижнему регистру и тд.);](#step1.2.)\n",
    "\t- [1.3. Приведение столбцов к нужным типам данных;](#step1.3.)\n",
    "\t- [1.4. Выявлеие и обработка пропущеных значений;](#step1.4.)\n",
    "\t- [1.5. Выявление и обработка дубликатов;](#step1.5.)\n",
    "- [ШАГ 2: Исследовательский анализ данных](#step2)\n",
    "\t- [2.1. Определить период, за который представлены данные;](#step2.1.)\n",
    "\t- [2.2. Изучить распределение количества заказов за представленный период; (Поможет убедиться, что данные представленны полностью, нет пропущенных периодов; А такде посмотрим на сезонность)](#step2.2.)\n",
    "\t- [2.3. Определить количество уникальных покупателей:](#step2.3.)\n",
    "\t\t- [2.3.1. Определить сколько покупок приходится на покупателя за имеющийся период;](#step2.3.1.)\n",
    "\t\t- [2.3.2. Определить аномалии;](#step2.3.2.)\n",
    "\t\t- [2.3.3. Посчитать среднее количество покупок, которое будет считаться нормальным;](#step2.3.3.)\n",
    "\t- [2.4. Посчитать количество товаров в заказе:](#step2.4.)\n",
    "\t\t- [2.4.1. Определить сколько товаров приходится на заказ за имеющийся период;](#step2.4.1.)\n",
    "\t\t- [2.4.2. Определить аномалии;](#step2.4.2.)\n",
    "\t\t- [2.4.3. Посчитать среднее количество товаров, которое будет считаться нормальным;](#step2.4.3.)\n",
    "\t- [2.5. Посчитать среднюю стоимость товара в заказе:](#step2.5.)\n",
    "\t\t- [2.5.1. Выявить аномалии;](#step2.5.1.)\n",
    "\t\t- [2.5.2. Определить \"нормальную\" стоимость товара;](#step2.5.2.)\n",
    "\t- [2.6. Посчитать средний чек](#step2.6.)\n",
    "\n",
    "\t- [2.7. Выделить и визуализировать категории товаров. Присовить категорию каждому товару;](#step2.7.)\n",
    "\t\t- [2.7.1 Определить средний количетсво товаров из каждой категории;](#step2.7.1.)\n",
    "\t\t- [2.7.2. Посмотреть средний чек по каждой категории, выручку, кол-во продаж;](#step2.7.1.)\n",
    "\t\t- [2.7.3. Посмотреть кол-во покупок по каждой категории;](#step2.7.3.)\n",
    "- [ШАГ 3: Проверка гипотез](#step3)\n",
    "\t-  [3.1. Проверить спрос на различные группы товаров в разные сезоны/месяцы;](#step3.1.)\n",
    "    - [3.2. Сколько товаров из категории покупают в день/Неделю/Месяц;](#step3.2.)\n",
    "\n",
    "\n",
    "- [ШАГ 4: Метрики и бизнес-показатели](#step4)\n",
    "    - [Сколько товаров из категории покупают в день/Неделю/Месяц;](#step4.1.)\n",
    "    - [Как часто покупают товары из этих категорий;](#step4.2.)\n",
    "\n",
    "[Выводы](#step999)"
   ]
  },
  {
   "cell_type": "code",
   "execution_count": 1,
   "metadata": {},
   "outputs": [],
   "source": [
    "import pandas as pd\n",
    "import numpy as np\n",
    "import seaborn as sns\n",
    "from matplotlib import pyplot as plt\n",
    "import plotly.express as px\n",
    "from plotly import graph_objects as go\n",
    "from scipy import stats as st\n",
    "import math as mth"
   ]
  },
  {
   "cell_type": "markdown",
   "metadata": {},
   "source": [
    "### ШАГ 1: Предобрадотка данных <a id=\"step1\"></a>"
   ]
  },
  {
   "cell_type": "markdown",
   "metadata": {},
   "source": [
    "#### 1.1. Изучить общие данные по имеющемуся датасету; <a id=\"step1.1.\"></a>"
   ]
  },
  {
   "cell_type": "code",
   "execution_count": 2,
   "metadata": {},
   "outputs": [],
   "source": [
    "df = pd.read_csv(\"/Users/maksim_kirichenko/Desktop/Python3/my_env/praktikum/final_project/ecommerce_dataset.csv\")"
   ]
  },
  {
   "cell_type": "code",
   "execution_count": 3,
   "metadata": {},
   "outputs": [
    {
     "data": {
      "text/html": [
       "<div>\n",
       "<style scoped>\n",
       "    .dataframe tbody tr th:only-of-type {\n",
       "        vertical-align: middle;\n",
       "    }\n",
       "\n",
       "    .dataframe tbody tr th {\n",
       "        vertical-align: top;\n",
       "    }\n",
       "\n",
       "    .dataframe thead th {\n",
       "        text-align: right;\n",
       "    }\n",
       "</style>\n",
       "<table border=\"1\" class=\"dataframe\">\n",
       "  <thead>\n",
       "    <tr style=\"text-align: right;\">\n",
       "      <th></th>\n",
       "      <th>date</th>\n",
       "      <th>customer_id</th>\n",
       "      <th>order_id</th>\n",
       "      <th>product</th>\n",
       "      <th>quantity</th>\n",
       "      <th>price</th>\n",
       "    </tr>\n",
       "  </thead>\n",
       "  <tbody>\n",
       "    <tr>\n",
       "      <th>0</th>\n",
       "      <td>2018100100</td>\n",
       "      <td>ee47d746-6d2f-4d3c-9622-c31412542920</td>\n",
       "      <td>68477</td>\n",
       "      <td>Комнатное растение в горшке Алое Вера, d12, h30</td>\n",
       "      <td>1</td>\n",
       "      <td>142.0</td>\n",
       "    </tr>\n",
       "    <tr>\n",
       "      <th>1</th>\n",
       "      <td>2018100100</td>\n",
       "      <td>ee47d746-6d2f-4d3c-9622-c31412542920</td>\n",
       "      <td>68477</td>\n",
       "      <td>Комнатное растение в горшке Кофе Арабика, d12,...</td>\n",
       "      <td>1</td>\n",
       "      <td>194.0</td>\n",
       "    </tr>\n",
       "    <tr>\n",
       "      <th>2</th>\n",
       "      <td>2018100100</td>\n",
       "      <td>ee47d746-6d2f-4d3c-9622-c31412542920</td>\n",
       "      <td>68477</td>\n",
       "      <td>Радермахера d-12 см h-20 см</td>\n",
       "      <td>1</td>\n",
       "      <td>112.0</td>\n",
       "    </tr>\n",
       "    <tr>\n",
       "      <th>3</th>\n",
       "      <td>2018100100</td>\n",
       "      <td>ee47d746-6d2f-4d3c-9622-c31412542920</td>\n",
       "      <td>68477</td>\n",
       "      <td>Хризолидокарпус Лутесценс d-9 см</td>\n",
       "      <td>1</td>\n",
       "      <td>179.0</td>\n",
       "    </tr>\n",
       "    <tr>\n",
       "      <th>4</th>\n",
       "      <td>2018100100</td>\n",
       "      <td>ee47d746-6d2f-4d3c-9622-c31412542920</td>\n",
       "      <td>68477</td>\n",
       "      <td>Циперус Зумула d-12 см h-25 см</td>\n",
       "      <td>1</td>\n",
       "      <td>112.0</td>\n",
       "    </tr>\n",
       "  </tbody>\n",
       "</table>\n",
       "</div>"
      ],
      "text/plain": [
       "         date                           customer_id  order_id  \\\n",
       "0  2018100100  ee47d746-6d2f-4d3c-9622-c31412542920     68477   \n",
       "1  2018100100  ee47d746-6d2f-4d3c-9622-c31412542920     68477   \n",
       "2  2018100100  ee47d746-6d2f-4d3c-9622-c31412542920     68477   \n",
       "3  2018100100  ee47d746-6d2f-4d3c-9622-c31412542920     68477   \n",
       "4  2018100100  ee47d746-6d2f-4d3c-9622-c31412542920     68477   \n",
       "\n",
       "                                             product  quantity  price  \n",
       "0    Комнатное растение в горшке Алое Вера, d12, h30         1  142.0  \n",
       "1  Комнатное растение в горшке Кофе Арабика, d12,...         1  194.0  \n",
       "2                        Радермахера d-12 см h-20 см         1  112.0  \n",
       "3                   Хризолидокарпус Лутесценс d-9 см         1  179.0  \n",
       "4                     Циперус Зумула d-12 см h-25 см         1  112.0  "
      ]
     },
     "execution_count": 3,
     "metadata": {},
     "output_type": "execute_result"
    }
   ],
   "source": [
    "df.head()"
   ]
  },
  {
   "cell_type": "code",
   "execution_count": 4,
   "metadata": {},
   "outputs": [
    {
     "name": "stdout",
     "output_type": "stream",
     "text": [
      "<class 'pandas.core.frame.DataFrame'>\n",
      "RangeIndex: 6737 entries, 0 to 6736\n",
      "Data columns (total 6 columns):\n",
      " #   Column       Non-Null Count  Dtype  \n",
      "---  ------       --------------  -----  \n",
      " 0   date         6737 non-null   int64  \n",
      " 1   customer_id  6737 non-null   object \n",
      " 2   order_id     6737 non-null   int64  \n",
      " 3   product      6737 non-null   object \n",
      " 4   quantity     6737 non-null   int64  \n",
      " 5   price        6737 non-null   float64\n",
      "dtypes: float64(1), int64(3), object(2)\n",
      "memory usage: 315.9+ KB\n"
     ]
    }
   ],
   "source": [
    "df.info()"
   ]
  },
  {
   "cell_type": "markdown",
   "metadata": {},
   "source": [
    "Датасет имеет 6 737 строк и 6 колонок. Пропущенныз значений в датасете нет. Столбец date требует приведения его в соответствующий тип даных. Остальные столюцы имеют корректный тип данных."
   ]
  },
  {
   "cell_type": "markdown",
   "metadata": {},
   "source": [
    "#### 1.2. Обработка названий столбцов (устранение пропусков, приведение к нижнему регистру и тд. <a id=\"step1.2.\"></a>"
   ]
  },
  {
   "cell_type": "code",
   "execution_count": 5,
   "metadata": {},
   "outputs": [
    {
     "data": {
      "text/plain": [
       "Index(['date', 'customer_id', 'order_id', 'product', 'quantity', 'price'], dtype='object')"
      ]
     },
     "execution_count": 5,
     "metadata": {},
     "output_type": "execute_result"
    }
   ],
   "source": [
    "df.columns"
   ]
  },
  {
   "cell_type": "markdown",
   "metadata": {},
   "source": [
    "В названии столбцов отсутсвуют пропуски и буквы верхнего регистра."
   ]
  },
  {
   "cell_type": "code",
   "execution_count": 6,
   "metadata": {},
   "outputs": [],
   "source": [
    "#Приведем к нижнему регистру значеия всех текстовых столбоцов\n",
    "for i in ['customer_id', 'product']:\n",
    "    df[i] = df[i].str.lower()"
   ]
  },
  {
   "cell_type": "markdown",
   "metadata": {},
   "source": [
    "#### 1.3. Приведение столбцов к нужным типам данных;<a id=\"step1.3.></a>"
   ]
  },
  {
   "cell_type": "code",
   "execution_count": 7,
   "metadata": {},
   "outputs": [],
   "source": [
    "df['date'] = pd.to_datetime(df['date'], format='%Y%m%d%H')"
   ]
  },
  {
   "cell_type": "code",
   "execution_count": 8,
   "metadata": {},
   "outputs": [
    {
     "name": "stdout",
     "output_type": "stream",
     "text": [
      "<class 'pandas.core.frame.DataFrame'>\n",
      "RangeIndex: 6737 entries, 0 to 6736\n",
      "Data columns (total 6 columns):\n",
      " #   Column       Non-Null Count  Dtype         \n",
      "---  ------       --------------  -----         \n",
      " 0   date         6737 non-null   datetime64[ns]\n",
      " 1   customer_id  6737 non-null   object        \n",
      " 2   order_id     6737 non-null   int64         \n",
      " 3   product      6737 non-null   object        \n",
      " 4   quantity     6737 non-null   int64         \n",
      " 5   price        6737 non-null   float64       \n",
      "dtypes: datetime64[ns](1), float64(1), int64(2), object(2)\n",
      "memory usage: 315.9+ KB\n"
     ]
    }
   ],
   "source": [
    "df.info()"
   ]
  },
  {
   "cell_type": "code",
   "execution_count": 9,
   "metadata": {},
   "outputs": [
    {
     "data": {
      "text/html": [
       "<div>\n",
       "<style scoped>\n",
       "    .dataframe tbody tr th:only-of-type {\n",
       "        vertical-align: middle;\n",
       "    }\n",
       "\n",
       "    .dataframe tbody tr th {\n",
       "        vertical-align: top;\n",
       "    }\n",
       "\n",
       "    .dataframe thead th {\n",
       "        text-align: right;\n",
       "    }\n",
       "</style>\n",
       "<table border=\"1\" class=\"dataframe\">\n",
       "  <thead>\n",
       "    <tr style=\"text-align: right;\">\n",
       "      <th></th>\n",
       "      <th>date</th>\n",
       "      <th>customer_id</th>\n",
       "      <th>order_id</th>\n",
       "      <th>product</th>\n",
       "      <th>quantity</th>\n",
       "      <th>price</th>\n",
       "    </tr>\n",
       "  </thead>\n",
       "  <tbody>\n",
       "    <tr>\n",
       "      <th>0</th>\n",
       "      <td>2018-10-01</td>\n",
       "      <td>ee47d746-6d2f-4d3c-9622-c31412542920</td>\n",
       "      <td>68477</td>\n",
       "      <td>комнатное растение в горшке алое вера, d12, h30</td>\n",
       "      <td>1</td>\n",
       "      <td>142.0</td>\n",
       "    </tr>\n",
       "    <tr>\n",
       "      <th>1</th>\n",
       "      <td>2018-10-01</td>\n",
       "      <td>ee47d746-6d2f-4d3c-9622-c31412542920</td>\n",
       "      <td>68477</td>\n",
       "      <td>комнатное растение в горшке кофе арабика, d12,...</td>\n",
       "      <td>1</td>\n",
       "      <td>194.0</td>\n",
       "    </tr>\n",
       "    <tr>\n",
       "      <th>2</th>\n",
       "      <td>2018-10-01</td>\n",
       "      <td>ee47d746-6d2f-4d3c-9622-c31412542920</td>\n",
       "      <td>68477</td>\n",
       "      <td>радермахера d-12 см h-20 см</td>\n",
       "      <td>1</td>\n",
       "      <td>112.0</td>\n",
       "    </tr>\n",
       "    <tr>\n",
       "      <th>3</th>\n",
       "      <td>2018-10-01</td>\n",
       "      <td>ee47d746-6d2f-4d3c-9622-c31412542920</td>\n",
       "      <td>68477</td>\n",
       "      <td>хризолидокарпус лутесценс d-9 см</td>\n",
       "      <td>1</td>\n",
       "      <td>179.0</td>\n",
       "    </tr>\n",
       "    <tr>\n",
       "      <th>4</th>\n",
       "      <td>2018-10-01</td>\n",
       "      <td>ee47d746-6d2f-4d3c-9622-c31412542920</td>\n",
       "      <td>68477</td>\n",
       "      <td>циперус зумула d-12 см h-25 см</td>\n",
       "      <td>1</td>\n",
       "      <td>112.0</td>\n",
       "    </tr>\n",
       "  </tbody>\n",
       "</table>\n",
       "</div>"
      ],
      "text/plain": [
       "        date                           customer_id  order_id  \\\n",
       "0 2018-10-01  ee47d746-6d2f-4d3c-9622-c31412542920     68477   \n",
       "1 2018-10-01  ee47d746-6d2f-4d3c-9622-c31412542920     68477   \n",
       "2 2018-10-01  ee47d746-6d2f-4d3c-9622-c31412542920     68477   \n",
       "3 2018-10-01  ee47d746-6d2f-4d3c-9622-c31412542920     68477   \n",
       "4 2018-10-01  ee47d746-6d2f-4d3c-9622-c31412542920     68477   \n",
       "\n",
       "                                             product  quantity  price  \n",
       "0    комнатное растение в горшке алое вера, d12, h30         1  142.0  \n",
       "1  комнатное растение в горшке кофе арабика, d12,...         1  194.0  \n",
       "2                        радермахера d-12 см h-20 см         1  112.0  \n",
       "3                   хризолидокарпус лутесценс d-9 см         1  179.0  \n",
       "4                     циперус зумула d-12 см h-25 см         1  112.0  "
      ]
     },
     "execution_count": 9,
     "metadata": {},
     "output_type": "execute_result"
    }
   ],
   "source": [
    "df.head()"
   ]
  },
  {
   "cell_type": "markdown",
   "metadata": {},
   "source": [
    "Значеия столбца date приведены к типу данных datetime64"
   ]
  },
  {
   "cell_type": "code",
   "execution_count": 10,
   "metadata": {},
   "outputs": [],
   "source": [
    " #Извлечем из стобца date даты, время, день недели и тд\n",
    "df['dt'] = df['date'].dt.date\n",
    "df['month_year'] = df['dt'].values.astype('datetime64[M]')\n",
    "df['month'] = df['date'].dt.month\n",
    "df['year'] = df['date'].dt.year\n",
    "df['hour'] = df['date'].dt.hour\n",
    "df['weekday'] = df['date'].dt.weekday\n",
    "\n",
    "df['dt'] = pd.to_datetime(df['dt'], format='%Y-%m-%d')"
   ]
  },
  {
   "cell_type": "code",
   "execution_count": 11,
   "metadata": {},
   "outputs": [
    {
     "name": "stdout",
     "output_type": "stream",
     "text": [
      "<class 'pandas.core.frame.DataFrame'>\n",
      "RangeIndex: 6737 entries, 0 to 6736\n",
      "Data columns (total 12 columns):\n",
      " #   Column       Non-Null Count  Dtype         \n",
      "---  ------       --------------  -----         \n",
      " 0   date         6737 non-null   datetime64[ns]\n",
      " 1   customer_id  6737 non-null   object        \n",
      " 2   order_id     6737 non-null   int64         \n",
      " 3   product      6737 non-null   object        \n",
      " 4   quantity     6737 non-null   int64         \n",
      " 5   price        6737 non-null   float64       \n",
      " 6   dt           6737 non-null   datetime64[ns]\n",
      " 7   month_year   6737 non-null   datetime64[ns]\n",
      " 8   month        6737 non-null   int64         \n",
      " 9   year         6737 non-null   int64         \n",
      " 10  hour         6737 non-null   int64         \n",
      " 11  weekday      6737 non-null   int64         \n",
      "dtypes: datetime64[ns](3), float64(1), int64(6), object(2)\n",
      "memory usage: 631.7+ KB\n"
     ]
    }
   ],
   "source": [
    "df.info()"
   ]
  },
  {
   "cell_type": "code",
   "execution_count": 12,
   "metadata": {},
   "outputs": [
    {
     "data": {
      "text/html": [
       "<div>\n",
       "<style scoped>\n",
       "    .dataframe tbody tr th:only-of-type {\n",
       "        vertical-align: middle;\n",
       "    }\n",
       "\n",
       "    .dataframe tbody tr th {\n",
       "        vertical-align: top;\n",
       "    }\n",
       "\n",
       "    .dataframe thead th {\n",
       "        text-align: right;\n",
       "    }\n",
       "</style>\n",
       "<table border=\"1\" class=\"dataframe\">\n",
       "  <thead>\n",
       "    <tr style=\"text-align: right;\">\n",
       "      <th></th>\n",
       "      <th>date</th>\n",
       "      <th>customer_id</th>\n",
       "      <th>order_id</th>\n",
       "      <th>product</th>\n",
       "      <th>quantity</th>\n",
       "      <th>price</th>\n",
       "      <th>dt</th>\n",
       "      <th>month_year</th>\n",
       "      <th>month</th>\n",
       "      <th>year</th>\n",
       "      <th>hour</th>\n",
       "      <th>weekday</th>\n",
       "    </tr>\n",
       "  </thead>\n",
       "  <tbody>\n",
       "    <tr>\n",
       "      <th>0</th>\n",
       "      <td>2018-10-01</td>\n",
       "      <td>ee47d746-6d2f-4d3c-9622-c31412542920</td>\n",
       "      <td>68477</td>\n",
       "      <td>комнатное растение в горшке алое вера, d12, h30</td>\n",
       "      <td>1</td>\n",
       "      <td>142.0</td>\n",
       "      <td>2018-10-01</td>\n",
       "      <td>2018-10-01</td>\n",
       "      <td>10</td>\n",
       "      <td>2018</td>\n",
       "      <td>0</td>\n",
       "      <td>0</td>\n",
       "    </tr>\n",
       "    <tr>\n",
       "      <th>1</th>\n",
       "      <td>2018-10-01</td>\n",
       "      <td>ee47d746-6d2f-4d3c-9622-c31412542920</td>\n",
       "      <td>68477</td>\n",
       "      <td>комнатное растение в горшке кофе арабика, d12,...</td>\n",
       "      <td>1</td>\n",
       "      <td>194.0</td>\n",
       "      <td>2018-10-01</td>\n",
       "      <td>2018-10-01</td>\n",
       "      <td>10</td>\n",
       "      <td>2018</td>\n",
       "      <td>0</td>\n",
       "      <td>0</td>\n",
       "    </tr>\n",
       "    <tr>\n",
       "      <th>2</th>\n",
       "      <td>2018-10-01</td>\n",
       "      <td>ee47d746-6d2f-4d3c-9622-c31412542920</td>\n",
       "      <td>68477</td>\n",
       "      <td>радермахера d-12 см h-20 см</td>\n",
       "      <td>1</td>\n",
       "      <td>112.0</td>\n",
       "      <td>2018-10-01</td>\n",
       "      <td>2018-10-01</td>\n",
       "      <td>10</td>\n",
       "      <td>2018</td>\n",
       "      <td>0</td>\n",
       "      <td>0</td>\n",
       "    </tr>\n",
       "    <tr>\n",
       "      <th>3</th>\n",
       "      <td>2018-10-01</td>\n",
       "      <td>ee47d746-6d2f-4d3c-9622-c31412542920</td>\n",
       "      <td>68477</td>\n",
       "      <td>хризолидокарпус лутесценс d-9 см</td>\n",
       "      <td>1</td>\n",
       "      <td>179.0</td>\n",
       "      <td>2018-10-01</td>\n",
       "      <td>2018-10-01</td>\n",
       "      <td>10</td>\n",
       "      <td>2018</td>\n",
       "      <td>0</td>\n",
       "      <td>0</td>\n",
       "    </tr>\n",
       "    <tr>\n",
       "      <th>4</th>\n",
       "      <td>2018-10-01</td>\n",
       "      <td>ee47d746-6d2f-4d3c-9622-c31412542920</td>\n",
       "      <td>68477</td>\n",
       "      <td>циперус зумула d-12 см h-25 см</td>\n",
       "      <td>1</td>\n",
       "      <td>112.0</td>\n",
       "      <td>2018-10-01</td>\n",
       "      <td>2018-10-01</td>\n",
       "      <td>10</td>\n",
       "      <td>2018</td>\n",
       "      <td>0</td>\n",
       "      <td>0</td>\n",
       "    </tr>\n",
       "  </tbody>\n",
       "</table>\n",
       "</div>"
      ],
      "text/plain": [
       "        date                           customer_id  order_id  \\\n",
       "0 2018-10-01  ee47d746-6d2f-4d3c-9622-c31412542920     68477   \n",
       "1 2018-10-01  ee47d746-6d2f-4d3c-9622-c31412542920     68477   \n",
       "2 2018-10-01  ee47d746-6d2f-4d3c-9622-c31412542920     68477   \n",
       "3 2018-10-01  ee47d746-6d2f-4d3c-9622-c31412542920     68477   \n",
       "4 2018-10-01  ee47d746-6d2f-4d3c-9622-c31412542920     68477   \n",
       "\n",
       "                                             product  quantity  price  \\\n",
       "0    комнатное растение в горшке алое вера, d12, h30         1  142.0   \n",
       "1  комнатное растение в горшке кофе арабика, d12,...         1  194.0   \n",
       "2                        радермахера d-12 см h-20 см         1  112.0   \n",
       "3                   хризолидокарпус лутесценс d-9 см         1  179.0   \n",
       "4                     циперус зумула d-12 см h-25 см         1  112.0   \n",
       "\n",
       "          dt month_year  month  year  hour  weekday  \n",
       "0 2018-10-01 2018-10-01     10  2018     0        0  \n",
       "1 2018-10-01 2018-10-01     10  2018     0        0  \n",
       "2 2018-10-01 2018-10-01     10  2018     0        0  \n",
       "3 2018-10-01 2018-10-01     10  2018     0        0  \n",
       "4 2018-10-01 2018-10-01     10  2018     0        0  "
      ]
     },
     "execution_count": 12,
     "metadata": {},
     "output_type": "execute_result"
    }
   ],
   "source": [
    "df.head()"
   ]
  },
  {
   "cell_type": "markdown",
   "metadata": {},
   "source": [
    "#### 1.4. Выявлеие и обработка пропущеных значений; <a id=\"step1.4.\"></a>"
   ]
  },
  {
   "cell_type": "code",
   "execution_count": 13,
   "metadata": {},
   "outputs": [
    {
     "name": "stdout",
     "output_type": "stream",
     "text": [
      "date\n",
      "0\n",
      "customer_id\n",
      "0\n",
      "order_id\n",
      "0\n",
      "product\n",
      "0\n",
      "quantity\n",
      "0\n",
      "price\n",
      "0\n",
      "dt\n",
      "0\n",
      "month_year\n",
      "0\n",
      "month\n",
      "0\n",
      "year\n",
      "0\n",
      "hour\n",
      "0\n",
      "weekday\n",
      "0\n"
     ]
    }
   ],
   "source": [
    "for i in df.columns:\n",
    "    print(i)\n",
    "    print(df[i].isna().sum())"
   ]
  },
  {
   "cell_type": "markdown",
   "metadata": {},
   "source": [
    "Пропущенные значеия отсутствуют. Проверим столбцы на наличие некорректнных значений"
   ]
  },
  {
   "cell_type": "code",
   "execution_count": 14,
   "metadata": {},
   "outputs": [
    {
     "data": {
      "text/html": [
       "<div>\n",
       "<style scoped>\n",
       "    .dataframe tbody tr th:only-of-type {\n",
       "        vertical-align: middle;\n",
       "    }\n",
       "\n",
       "    .dataframe tbody tr th {\n",
       "        vertical-align: top;\n",
       "    }\n",
       "\n",
       "    .dataframe thead th {\n",
       "        text-align: right;\n",
       "    }\n",
       "</style>\n",
       "<table border=\"1\" class=\"dataframe\">\n",
       "  <thead>\n",
       "    <tr style=\"text-align: right;\">\n",
       "      <th></th>\n",
       "      <th>date</th>\n",
       "    </tr>\n",
       "  </thead>\n",
       "  <tbody>\n",
       "    <tr>\n",
       "      <th>2018-10-01 00:00:00</th>\n",
       "      <td>7</td>\n",
       "    </tr>\n",
       "    <tr>\n",
       "      <th>2018-10-01 08:00:00</th>\n",
       "      <td>2</td>\n",
       "    </tr>\n",
       "    <tr>\n",
       "      <th>2018-10-01 09:00:00</th>\n",
       "      <td>1</td>\n",
       "    </tr>\n",
       "    <tr>\n",
       "      <th>2018-10-01 11:00:00</th>\n",
       "      <td>1</td>\n",
       "    </tr>\n",
       "    <tr>\n",
       "      <th>2018-10-01 12:00:00</th>\n",
       "      <td>1</td>\n",
       "    </tr>\n",
       "    <tr>\n",
       "      <th>...</th>\n",
       "      <td>...</td>\n",
       "    </tr>\n",
       "    <tr>\n",
       "      <th>2019-10-31 11:00:00</th>\n",
       "      <td>2</td>\n",
       "    </tr>\n",
       "    <tr>\n",
       "      <th>2019-10-31 12:00:00</th>\n",
       "      <td>1</td>\n",
       "    </tr>\n",
       "    <tr>\n",
       "      <th>2019-10-31 13:00:00</th>\n",
       "      <td>1</td>\n",
       "    </tr>\n",
       "    <tr>\n",
       "      <th>2019-10-31 14:00:00</th>\n",
       "      <td>1</td>\n",
       "    </tr>\n",
       "    <tr>\n",
       "      <th>2019-10-31 16:00:00</th>\n",
       "      <td>1</td>\n",
       "    </tr>\n",
       "  </tbody>\n",
       "</table>\n",
       "<p>2606 rows × 1 columns</p>\n",
       "</div>"
      ],
      "text/plain": [
       "                     date\n",
       "2018-10-01 00:00:00     7\n",
       "2018-10-01 08:00:00     2\n",
       "2018-10-01 09:00:00     1\n",
       "2018-10-01 11:00:00     1\n",
       "2018-10-01 12:00:00     1\n",
       "...                   ...\n",
       "2019-10-31 11:00:00     2\n",
       "2019-10-31 12:00:00     1\n",
       "2019-10-31 13:00:00     1\n",
       "2019-10-31 14:00:00     1\n",
       "2019-10-31 16:00:00     1\n",
       "\n",
       "[2606 rows x 1 columns]"
      ]
     },
     "execution_count": 14,
     "metadata": {},
     "output_type": "execute_result"
    }
   ],
   "source": [
    "df['date'].value_counts().to_frame().sort_index()"
   ]
  },
  {
   "cell_type": "code",
   "execution_count": 15,
   "metadata": {},
   "outputs": [
    {
     "data": {
      "text/html": [
       "<div>\n",
       "<style scoped>\n",
       "    .dataframe tbody tr th:only-of-type {\n",
       "        vertical-align: middle;\n",
       "    }\n",
       "\n",
       "    .dataframe tbody tr th {\n",
       "        vertical-align: top;\n",
       "    }\n",
       "\n",
       "    .dataframe thead th {\n",
       "        text-align: right;\n",
       "    }\n",
       "</style>\n",
       "<table border=\"1\" class=\"dataframe\">\n",
       "  <thead>\n",
       "    <tr style=\"text-align: right;\">\n",
       "      <th></th>\n",
       "      <th>customer_id</th>\n",
       "    </tr>\n",
       "  </thead>\n",
       "  <tbody>\n",
       "    <tr>\n",
       "      <th>000d6849-084e-4d9f-ac03-37174eaf60c4</th>\n",
       "      <td>4</td>\n",
       "    </tr>\n",
       "    <tr>\n",
       "      <th>001cee7f-0b29-4716-b202-0042213ab038</th>\n",
       "      <td>1</td>\n",
       "    </tr>\n",
       "    <tr>\n",
       "      <th>00299f34-5385-4d13-9aea-c80b81658e1b</th>\n",
       "      <td>1</td>\n",
       "    </tr>\n",
       "    <tr>\n",
       "      <th>002d4d3a-4a59-406b-86ec-c3314357e498</th>\n",
       "      <td>1</td>\n",
       "    </tr>\n",
       "    <tr>\n",
       "      <th>003bbd39-0000-41ff-b7f9-2ddaec152037</th>\n",
       "      <td>1</td>\n",
       "    </tr>\n",
       "    <tr>\n",
       "      <th>...</th>\n",
       "      <td>...</td>\n",
       "    </tr>\n",
       "    <tr>\n",
       "      <th>ff601403-b094-4b86-9ac6-264d725b9277</th>\n",
       "      <td>1</td>\n",
       "    </tr>\n",
       "    <tr>\n",
       "      <th>ffaeab76-3a8d-49ee-860f-17273b2fc8a2</th>\n",
       "      <td>3</td>\n",
       "    </tr>\n",
       "    <tr>\n",
       "      <th>ffb5976a-7a4d-460b-95c4-5ffaba31cb24</th>\n",
       "      <td>2</td>\n",
       "    </tr>\n",
       "    <tr>\n",
       "      <th>ffb80538-3fda-4351-8ea9-9d2bec58bb07</th>\n",
       "      <td>1</td>\n",
       "    </tr>\n",
       "    <tr>\n",
       "      <th>ffe82299-3f5b-4214-87fe-3d36ecccfac3</th>\n",
       "      <td>1</td>\n",
       "    </tr>\n",
       "  </tbody>\n",
       "</table>\n",
       "<p>2451 rows × 1 columns</p>\n",
       "</div>"
      ],
      "text/plain": [
       "                                      customer_id\n",
       "000d6849-084e-4d9f-ac03-37174eaf60c4            4\n",
       "001cee7f-0b29-4716-b202-0042213ab038            1\n",
       "00299f34-5385-4d13-9aea-c80b81658e1b            1\n",
       "002d4d3a-4a59-406b-86ec-c3314357e498            1\n",
       "003bbd39-0000-41ff-b7f9-2ddaec152037            1\n",
       "...                                           ...\n",
       "ff601403-b094-4b86-9ac6-264d725b9277            1\n",
       "ffaeab76-3a8d-49ee-860f-17273b2fc8a2            3\n",
       "ffb5976a-7a4d-460b-95c4-5ffaba31cb24            2\n",
       "ffb80538-3fda-4351-8ea9-9d2bec58bb07            1\n",
       "ffe82299-3f5b-4214-87fe-3d36ecccfac3            1\n",
       "\n",
       "[2451 rows x 1 columns]"
      ]
     },
     "execution_count": 15,
     "metadata": {},
     "output_type": "execute_result"
    }
   ],
   "source": [
    "df['customer_id'].value_counts().to_frame().sort_index()"
   ]
  },
  {
   "cell_type": "code",
   "execution_count": 16,
   "metadata": {},
   "outputs": [
    {
     "data": {
      "text/html": [
       "<div>\n",
       "<style scoped>\n",
       "    .dataframe tbody tr th:only-of-type {\n",
       "        vertical-align: middle;\n",
       "    }\n",
       "\n",
       "    .dataframe tbody tr th {\n",
       "        vertical-align: top;\n",
       "    }\n",
       "\n",
       "    .dataframe thead th {\n",
       "        text-align: right;\n",
       "    }\n",
       "</style>\n",
       "<table border=\"1\" class=\"dataframe\">\n",
       "  <thead>\n",
       "    <tr style=\"text-align: right;\">\n",
       "      <th></th>\n",
       "      <th>order_id</th>\n",
       "    </tr>\n",
       "  </thead>\n",
       "  <tbody>\n",
       "    <tr>\n",
       "      <th>12624</th>\n",
       "      <td>2</td>\n",
       "    </tr>\n",
       "    <tr>\n",
       "      <th>13547</th>\n",
       "      <td>21</td>\n",
       "    </tr>\n",
       "    <tr>\n",
       "      <th>14480</th>\n",
       "      <td>3</td>\n",
       "    </tr>\n",
       "    <tr>\n",
       "      <th>14481</th>\n",
       "      <td>4</td>\n",
       "    </tr>\n",
       "    <tr>\n",
       "      <th>14482</th>\n",
       "      <td>2</td>\n",
       "    </tr>\n",
       "    <tr>\n",
       "      <th>...</th>\n",
       "      <td>...</td>\n",
       "    </tr>\n",
       "    <tr>\n",
       "      <th>73155</th>\n",
       "      <td>1</td>\n",
       "    </tr>\n",
       "    <tr>\n",
       "      <th>73156</th>\n",
       "      <td>1</td>\n",
       "    </tr>\n",
       "    <tr>\n",
       "      <th>73158</th>\n",
       "      <td>1</td>\n",
       "    </tr>\n",
       "    <tr>\n",
       "      <th>73162</th>\n",
       "      <td>1</td>\n",
       "    </tr>\n",
       "    <tr>\n",
       "      <th>73164</th>\n",
       "      <td>1</td>\n",
       "    </tr>\n",
       "  </tbody>\n",
       "</table>\n",
       "<p>2784 rows × 1 columns</p>\n",
       "</div>"
      ],
      "text/plain": [
       "       order_id\n",
       "12624         2\n",
       "13547        21\n",
       "14480         3\n",
       "14481         4\n",
       "14482         2\n",
       "...         ...\n",
       "73155         1\n",
       "73156         1\n",
       "73158         1\n",
       "73162         1\n",
       "73164         1\n",
       "\n",
       "[2784 rows x 1 columns]"
      ]
     },
     "execution_count": 16,
     "metadata": {},
     "output_type": "execute_result"
    }
   ],
   "source": [
    "df['order_id'].value_counts().to_frame().sort_index()"
   ]
  },
  {
   "cell_type": "code",
   "execution_count": 17,
   "metadata": {},
   "outputs": [
    {
     "data": {
      "text/html": [
       "<div>\n",
       "<style scoped>\n",
       "    .dataframe tbody tr th:only-of-type {\n",
       "        vertical-align: middle;\n",
       "    }\n",
       "\n",
       "    .dataframe tbody tr th {\n",
       "        vertical-align: top;\n",
       "    }\n",
       "\n",
       "    .dataframe thead th {\n",
       "        text-align: right;\n",
       "    }\n",
       "</style>\n",
       "<table border=\"1\" class=\"dataframe\">\n",
       "  <thead>\n",
       "    <tr style=\"text-align: right;\">\n",
       "      <th></th>\n",
       "      <th>product</th>\n",
       "    </tr>\n",
       "  </thead>\n",
       "  <tbody>\n",
       "    <tr>\n",
       "      <th>tepмокружка avex freeflow 700 мл зеленый avex0759</th>\n",
       "      <td>1</td>\n",
       "    </tr>\n",
       "    <tr>\n",
       "      <th>tepмокружка avex freeflow 700 мл сталь avex0776</th>\n",
       "      <td>1</td>\n",
       "    </tr>\n",
       "    <tr>\n",
       "      <th>tepмокружка avex recharge 500 мл голубой avex0681</th>\n",
       "      <td>2</td>\n",
       "    </tr>\n",
       "    <tr>\n",
       "      <th>автоматическая щетка leifheit для мытья окон с ручкой 43 см. 51114</th>\n",
       "      <td>1</td>\n",
       "    </tr>\n",
       "    <tr>\n",
       "      <th>агератум рассада однолетних цветов в кассете по 10 шт</th>\n",
       "      <td>2</td>\n",
       "    </tr>\n",
       "    <tr>\n",
       "      <th>...</th>\n",
       "      <td>...</td>\n",
       "    </tr>\n",
       "    <tr>\n",
       "      <th>ёрш радиаторный без ручки 1807007</th>\n",
       "      <td>1</td>\n",
       "    </tr>\n",
       "    <tr>\n",
       "      <th>ёрш унитазный пластмассовый, ваир 1712002</th>\n",
       "      <td>1</td>\n",
       "    </tr>\n",
       "    <tr>\n",
       "      <th>ёрш унитазный с деревянной ручкой , ваир 1712012</th>\n",
       "      <td>9</td>\n",
       "    </tr>\n",
       "    <tr>\n",
       "      <th>ёрш унитазный с подставкой wc \"люкс\", мультипласт, 1712007</th>\n",
       "      <td>2</td>\n",
       "    </tr>\n",
       "    <tr>\n",
       "      <th>ёрш унитазный с подставкой wc \"стандарт\", мультипласт 1712010</th>\n",
       "      <td>1</td>\n",
       "    </tr>\n",
       "  </tbody>\n",
       "</table>\n",
       "<p>2341 rows × 1 columns</p>\n",
       "</div>"
      ],
      "text/plain": [
       "                                                    product\n",
       "tepмокружка avex freeflow 700 мл зеленый avex0759         1\n",
       "tepмокружка avex freeflow 700 мл сталь avex0776           1\n",
       "tepмокружка avex recharge 500 мл голубой avex0681         2\n",
       "автоматическая щетка leifheit для мытья окон с ...        1\n",
       "агератум рассада однолетних цветов в кассете по...        2\n",
       "...                                                     ...\n",
       "ёрш радиаторный без ручки 1807007                         1\n",
       "ёрш унитазный пластмассовый, ваир 1712002                 1\n",
       "ёрш унитазный с деревянной ручкой , ваир 1712012          9\n",
       "ёрш унитазный с подставкой wc \"люкс\", мультипла...        2\n",
       "ёрш унитазный с подставкой wc \"стандарт\", мульт...        1\n",
       "\n",
       "[2341 rows x 1 columns]"
      ]
     },
     "execution_count": 17,
     "metadata": {},
     "output_type": "execute_result"
    }
   ],
   "source": [
    "df['product'].value_counts().to_frame().sort_index()"
   ]
  },
  {
   "cell_type": "code",
   "execution_count": 18,
   "metadata": {},
   "outputs": [
    {
     "data": {
      "text/html": [
       "<div>\n",
       "<style scoped>\n",
       "    .dataframe tbody tr th:only-of-type {\n",
       "        vertical-align: middle;\n",
       "    }\n",
       "\n",
       "    .dataframe tbody tr th {\n",
       "        vertical-align: top;\n",
       "    }\n",
       "\n",
       "    .dataframe thead th {\n",
       "        text-align: right;\n",
       "    }\n",
       "</style>\n",
       "<table border=\"1\" class=\"dataframe\">\n",
       "  <thead>\n",
       "    <tr style=\"text-align: right;\">\n",
       "      <th></th>\n",
       "      <th>quantity</th>\n",
       "    </tr>\n",
       "  </thead>\n",
       "  <tbody>\n",
       "    <tr>\n",
       "      <th>1</th>\n",
       "      <td>5504</td>\n",
       "    </tr>\n",
       "    <tr>\n",
       "      <th>2</th>\n",
       "      <td>528</td>\n",
       "    </tr>\n",
       "    <tr>\n",
       "      <th>3</th>\n",
       "      <td>161</td>\n",
       "    </tr>\n",
       "    <tr>\n",
       "      <th>4</th>\n",
       "      <td>104</td>\n",
       "    </tr>\n",
       "    <tr>\n",
       "      <th>5</th>\n",
       "      <td>75</td>\n",
       "    </tr>\n",
       "    <tr>\n",
       "      <th>6</th>\n",
       "      <td>46</td>\n",
       "    </tr>\n",
       "    <tr>\n",
       "      <th>7</th>\n",
       "      <td>24</td>\n",
       "    </tr>\n",
       "    <tr>\n",
       "      <th>8</th>\n",
       "      <td>17</td>\n",
       "    </tr>\n",
       "    <tr>\n",
       "      <th>9</th>\n",
       "      <td>9</td>\n",
       "    </tr>\n",
       "    <tr>\n",
       "      <th>10</th>\n",
       "      <td>91</td>\n",
       "    </tr>\n",
       "    <tr>\n",
       "      <th>11</th>\n",
       "      <td>7</td>\n",
       "    </tr>\n",
       "    <tr>\n",
       "      <th>12</th>\n",
       "      <td>15</td>\n",
       "    </tr>\n",
       "    <tr>\n",
       "      <th>13</th>\n",
       "      <td>5</td>\n",
       "    </tr>\n",
       "    <tr>\n",
       "      <th>14</th>\n",
       "      <td>3</td>\n",
       "    </tr>\n",
       "    <tr>\n",
       "      <th>15</th>\n",
       "      <td>30</td>\n",
       "    </tr>\n",
       "    <tr>\n",
       "      <th>16</th>\n",
       "      <td>4</td>\n",
       "    </tr>\n",
       "    <tr>\n",
       "      <th>17</th>\n",
       "      <td>1</td>\n",
       "    </tr>\n",
       "    <tr>\n",
       "      <th>18</th>\n",
       "      <td>1</td>\n",
       "    </tr>\n",
       "    <tr>\n",
       "      <th>20</th>\n",
       "      <td>20</td>\n",
       "    </tr>\n",
       "    <tr>\n",
       "      <th>22</th>\n",
       "      <td>3</td>\n",
       "    </tr>\n",
       "    <tr>\n",
       "      <th>23</th>\n",
       "      <td>1</td>\n",
       "    </tr>\n",
       "    <tr>\n",
       "      <th>24</th>\n",
       "      <td>3</td>\n",
       "    </tr>\n",
       "    <tr>\n",
       "      <th>25</th>\n",
       "      <td>16</td>\n",
       "    </tr>\n",
       "    <tr>\n",
       "      <th>26</th>\n",
       "      <td>1</td>\n",
       "    </tr>\n",
       "    <tr>\n",
       "      <th>27</th>\n",
       "      <td>2</td>\n",
       "    </tr>\n",
       "    <tr>\n",
       "      <th>29</th>\n",
       "      <td>1</td>\n",
       "    </tr>\n",
       "    <tr>\n",
       "      <th>30</th>\n",
       "      <td>20</td>\n",
       "    </tr>\n",
       "    <tr>\n",
       "      <th>31</th>\n",
       "      <td>1</td>\n",
       "    </tr>\n",
       "    <tr>\n",
       "      <th>37</th>\n",
       "      <td>1</td>\n",
       "    </tr>\n",
       "    <tr>\n",
       "      <th>40</th>\n",
       "      <td>6</td>\n",
       "    </tr>\n",
       "    <tr>\n",
       "      <th>43</th>\n",
       "      <td>1</td>\n",
       "    </tr>\n",
       "    <tr>\n",
       "      <th>45</th>\n",
       "      <td>1</td>\n",
       "    </tr>\n",
       "    <tr>\n",
       "      <th>50</th>\n",
       "      <td>10</td>\n",
       "    </tr>\n",
       "    <tr>\n",
       "      <th>57</th>\n",
       "      <td>1</td>\n",
       "    </tr>\n",
       "    <tr>\n",
       "      <th>59</th>\n",
       "      <td>1</td>\n",
       "    </tr>\n",
       "    <tr>\n",
       "      <th>60</th>\n",
       "      <td>2</td>\n",
       "    </tr>\n",
       "    <tr>\n",
       "      <th>64</th>\n",
       "      <td>2</td>\n",
       "    </tr>\n",
       "    <tr>\n",
       "      <th>65</th>\n",
       "      <td>1</td>\n",
       "    </tr>\n",
       "    <tr>\n",
       "      <th>70</th>\n",
       "      <td>1</td>\n",
       "    </tr>\n",
       "    <tr>\n",
       "      <th>80</th>\n",
       "      <td>1</td>\n",
       "    </tr>\n",
       "    <tr>\n",
       "      <th>96</th>\n",
       "      <td>1</td>\n",
       "    </tr>\n",
       "    <tr>\n",
       "      <th>100</th>\n",
       "      <td>4</td>\n",
       "    </tr>\n",
       "    <tr>\n",
       "      <th>140</th>\n",
       "      <td>1</td>\n",
       "    </tr>\n",
       "    <tr>\n",
       "      <th>150</th>\n",
       "      <td>5</td>\n",
       "    </tr>\n",
       "    <tr>\n",
       "      <th>170</th>\n",
       "      <td>1</td>\n",
       "    </tr>\n",
       "    <tr>\n",
       "      <th>200</th>\n",
       "      <td>1</td>\n",
       "    </tr>\n",
       "    <tr>\n",
       "      <th>300</th>\n",
       "      <td>1</td>\n",
       "    </tr>\n",
       "    <tr>\n",
       "      <th>334</th>\n",
       "      <td>1</td>\n",
       "    </tr>\n",
       "    <tr>\n",
       "      <th>1000</th>\n",
       "      <td>1</td>\n",
       "    </tr>\n",
       "  </tbody>\n",
       "</table>\n",
       "</div>"
      ],
      "text/plain": [
       "      quantity\n",
       "1         5504\n",
       "2          528\n",
       "3          161\n",
       "4          104\n",
       "5           75\n",
       "6           46\n",
       "7           24\n",
       "8           17\n",
       "9            9\n",
       "10          91\n",
       "11           7\n",
       "12          15\n",
       "13           5\n",
       "14           3\n",
       "15          30\n",
       "16           4\n",
       "17           1\n",
       "18           1\n",
       "20          20\n",
       "22           3\n",
       "23           1\n",
       "24           3\n",
       "25          16\n",
       "26           1\n",
       "27           2\n",
       "29           1\n",
       "30          20\n",
       "31           1\n",
       "37           1\n",
       "40           6\n",
       "43           1\n",
       "45           1\n",
       "50          10\n",
       "57           1\n",
       "59           1\n",
       "60           2\n",
       "64           2\n",
       "65           1\n",
       "70           1\n",
       "80           1\n",
       "96           1\n",
       "100          4\n",
       "140          1\n",
       "150          5\n",
       "170          1\n",
       "200          1\n",
       "300          1\n",
       "334          1\n",
       "1000         1"
      ]
     },
     "execution_count": 18,
     "metadata": {},
     "output_type": "execute_result"
    }
   ],
   "source": [
    "df['quantity'].value_counts().to_frame().sort_index()"
   ]
  },
  {
   "cell_type": "code",
   "execution_count": 19,
   "metadata": {},
   "outputs": [
    {
     "data": {
      "text/html": [
       "<div>\n",
       "<style scoped>\n",
       "    .dataframe tbody tr th:only-of-type {\n",
       "        vertical-align: middle;\n",
       "    }\n",
       "\n",
       "    .dataframe tbody tr th {\n",
       "        vertical-align: top;\n",
       "    }\n",
       "\n",
       "    .dataframe thead th {\n",
       "        text-align: right;\n",
       "    }\n",
       "</style>\n",
       "<table border=\"1\" class=\"dataframe\">\n",
       "  <thead>\n",
       "    <tr style=\"text-align: right;\">\n",
       "      <th></th>\n",
       "      <th>price</th>\n",
       "    </tr>\n",
       "  </thead>\n",
       "  <tbody>\n",
       "    <tr>\n",
       "      <th>9.0</th>\n",
       "      <td>4</td>\n",
       "    </tr>\n",
       "    <tr>\n",
       "      <th>10.0</th>\n",
       "      <td>12</td>\n",
       "    </tr>\n",
       "    <tr>\n",
       "      <th>11.0</th>\n",
       "      <td>15</td>\n",
       "    </tr>\n",
       "    <tr>\n",
       "      <th>12.0</th>\n",
       "      <td>3</td>\n",
       "    </tr>\n",
       "    <tr>\n",
       "      <th>13.0</th>\n",
       "      <td>1</td>\n",
       "    </tr>\n",
       "    <tr>\n",
       "      <th>...</th>\n",
       "      <td>...</td>\n",
       "    </tr>\n",
       "    <tr>\n",
       "      <th>7724.0</th>\n",
       "      <td>1</td>\n",
       "    </tr>\n",
       "    <tr>\n",
       "      <th>8077.0</th>\n",
       "      <td>1</td>\n",
       "    </tr>\n",
       "    <tr>\n",
       "      <th>8437.0</th>\n",
       "      <td>1</td>\n",
       "    </tr>\n",
       "    <tr>\n",
       "      <th>8737.0</th>\n",
       "      <td>1</td>\n",
       "    </tr>\n",
       "    <tr>\n",
       "      <th>14917.0</th>\n",
       "      <td>1</td>\n",
       "    </tr>\n",
       "  </tbody>\n",
       "</table>\n",
       "<p>360 rows × 1 columns</p>\n",
       "</div>"
      ],
      "text/plain": [
       "         price\n",
       "9.0          4\n",
       "10.0        12\n",
       "11.0        15\n",
       "12.0         3\n",
       "13.0         1\n",
       "...        ...\n",
       "7724.0       1\n",
       "8077.0       1\n",
       "8437.0       1\n",
       "8737.0       1\n",
       "14917.0      1\n",
       "\n",
       "[360 rows x 1 columns]"
      ]
     },
     "execution_count": 19,
     "metadata": {},
     "output_type": "execute_result"
    }
   ],
   "source": [
    "df['price'].value_counts().to_frame().sort_index()"
   ]
  },
  {
   "cell_type": "markdown",
   "metadata": {},
   "source": [
    "Визуальная оценка проведеа. Отрицательных значений или каких-то неожиданых значений не замечено."
   ]
  },
  {
   "cell_type": "markdown",
   "metadata": {},
   "source": [
    "#### 1.5. Выявление и обработка дубликатов; <a id=\"step1.5.\"></a>"
   ]
  },
  {
   "cell_type": "code",
   "execution_count": 20,
   "metadata": {
    "scrolled": true
   },
   "outputs": [
    {
     "data": {
      "text/plain": [
       "0"
      ]
     },
     "execution_count": 20,
     "metadata": {},
     "output_type": "execute_result"
    }
   ],
   "source": [
    "df.duplicated().sum()"
   ]
  },
  {
   "cell_type": "markdown",
   "metadata": {},
   "source": [
    "Грубых дубликатов нет."
   ]
  },
  {
   "cell_type": "markdown",
   "metadata": {},
   "source": [
    "В датафрейме присутствуют дубликаты заказов, которые повторяются в разные дни/время. Скорее всего это отслеживание разных статусов заказов вроде \"Создан\", \"Оплачено\", \"Доставлен\" итп (но без указания статуса)"
   ]
  },
  {
   "cell_type": "code",
   "execution_count": 21,
   "metadata": {
    "scrolled": true
   },
   "outputs": [
    {
     "data": {
      "text/html": [
       "<div>\n",
       "<style scoped>\n",
       "    .dataframe tbody tr th:only-of-type {\n",
       "        vertical-align: middle;\n",
       "    }\n",
       "\n",
       "    .dataframe tbody tr th {\n",
       "        vertical-align: top;\n",
       "    }\n",
       "\n",
       "    .dataframe thead th {\n",
       "        text-align: right;\n",
       "    }\n",
       "</style>\n",
       "<table border=\"1\" class=\"dataframe\">\n",
       "  <thead>\n",
       "    <tr style=\"text-align: right;\">\n",
       "      <th></th>\n",
       "      <th></th>\n",
       "      <th></th>\n",
       "      <th>date</th>\n",
       "      <th>quantity</th>\n",
       "      <th>price</th>\n",
       "      <th>dt</th>\n",
       "      <th>month_year</th>\n",
       "      <th>month</th>\n",
       "      <th>year</th>\n",
       "      <th>hour</th>\n",
       "      <th>weekday</th>\n",
       "    </tr>\n",
       "    <tr>\n",
       "      <th>customer_id</th>\n",
       "      <th>order_id</th>\n",
       "      <th>product</th>\n",
       "      <th></th>\n",
       "      <th></th>\n",
       "      <th></th>\n",
       "      <th></th>\n",
       "      <th></th>\n",
       "      <th></th>\n",
       "      <th></th>\n",
       "      <th></th>\n",
       "      <th></th>\n",
       "    </tr>\n",
       "  </thead>\n",
       "  <tbody>\n",
       "    <tr>\n",
       "      <th rowspan=\"5\" valign=\"top\">1d6c8c1f-a799-4418-9af2-1ded47d7a85c</th>\n",
       "      <th rowspan=\"5\" valign=\"top\">14833</th>\n",
       "      <th>тагетис крупноцветковый рассада однолетних цветов в кассете по 10 шт</th>\n",
       "      <td>74</td>\n",
       "      <td>74</td>\n",
       "      <td>74</td>\n",
       "      <td>74</td>\n",
       "      <td>74</td>\n",
       "      <td>74</td>\n",
       "      <td>74</td>\n",
       "      <td>74</td>\n",
       "      <td>74</td>\n",
       "    </tr>\n",
       "    <tr>\n",
       "      <th>рассада огурец кристина ячейки по 6 шт е6</th>\n",
       "      <td>74</td>\n",
       "      <td>74</td>\n",
       "      <td>74</td>\n",
       "      <td>74</td>\n",
       "      <td>74</td>\n",
       "      <td>74</td>\n",
       "      <td>74</td>\n",
       "      <td>74</td>\n",
       "      <td>74</td>\n",
       "    </tr>\n",
       "    <tr>\n",
       "      <th>рассада кабачка сорт аэронавт, кассета по 6шт</th>\n",
       "      <td>74</td>\n",
       "      <td>74</td>\n",
       "      <td>74</td>\n",
       "      <td>74</td>\n",
       "      <td>74</td>\n",
       "      <td>74</td>\n",
       "      <td>74</td>\n",
       "      <td>74</td>\n",
       "      <td>74</td>\n",
       "    </tr>\n",
       "    <tr>\n",
       "      <th>рассада кабачка сорт горный, кассета по 6шт</th>\n",
       "      <td>74</td>\n",
       "      <td>74</td>\n",
       "      <td>74</td>\n",
       "      <td>74</td>\n",
       "      <td>74</td>\n",
       "      <td>74</td>\n",
       "      <td>74</td>\n",
       "      <td>74</td>\n",
       "      <td>74</td>\n",
       "    </tr>\n",
       "    <tr>\n",
       "      <th>рассада кабачка сорт зебра кассета 6 шт e6</th>\n",
       "      <td>74</td>\n",
       "      <td>74</td>\n",
       "      <td>74</td>\n",
       "      <td>74</td>\n",
       "      <td>74</td>\n",
       "      <td>74</td>\n",
       "      <td>74</td>\n",
       "      <td>74</td>\n",
       "      <td>74</td>\n",
       "    </tr>\n",
       "  </tbody>\n",
       "</table>\n",
       "</div>"
      ],
      "text/plain": [
       "                                                                                                  date  \\\n",
       "customer_id                          order_id product                                                    \n",
       "1d6c8c1f-a799-4418-9af2-1ded47d7a85c 14833    тагетис крупноцветковый рассада однолетних цвет...    74   \n",
       "                                              рассада огурец кристина ячейки по 6 шт е6             74   \n",
       "                                              рассада кабачка сорт аэронавт, кассета по 6шт         74   \n",
       "                                              рассада кабачка сорт горный, кассета по 6шт           74   \n",
       "                                              рассада кабачка сорт зебра кассета 6 шт e6            74   \n",
       "\n",
       "                                                                                                  quantity  \\\n",
       "customer_id                          order_id product                                                        \n",
       "1d6c8c1f-a799-4418-9af2-1ded47d7a85c 14833    тагетис крупноцветковый рассада однолетних цвет...        74   \n",
       "                                              рассада огурец кристина ячейки по 6 шт е6                 74   \n",
       "                                              рассада кабачка сорт аэронавт, кассета по 6шт             74   \n",
       "                                              рассада кабачка сорт горный, кассета по 6шт               74   \n",
       "                                              рассада кабачка сорт зебра кассета 6 шт e6                74   \n",
       "\n",
       "                                                                                                  price  \\\n",
       "customer_id                          order_id product                                                     \n",
       "1d6c8c1f-a799-4418-9af2-1ded47d7a85c 14833    тагетис крупноцветковый рассада однолетних цвет...     74   \n",
       "                                              рассада огурец кристина ячейки по 6 шт е6              74   \n",
       "                                              рассада кабачка сорт аэронавт, кассета по 6шт          74   \n",
       "                                              рассада кабачка сорт горный, кассета по 6шт            74   \n",
       "                                              рассада кабачка сорт зебра кассета 6 шт e6             74   \n",
       "\n",
       "                                                                                                  dt  \\\n",
       "customer_id                          order_id product                                                  \n",
       "1d6c8c1f-a799-4418-9af2-1ded47d7a85c 14833    тагетис крупноцветковый рассада однолетних цвет...  74   \n",
       "                                              рассада огурец кристина ячейки по 6 шт е6           74   \n",
       "                                              рассада кабачка сорт аэронавт, кассета по 6шт       74   \n",
       "                                              рассада кабачка сорт горный, кассета по 6шт         74   \n",
       "                                              рассада кабачка сорт зебра кассета 6 шт e6          74   \n",
       "\n",
       "                                                                                                  month_year  \\\n",
       "customer_id                          order_id product                                                          \n",
       "1d6c8c1f-a799-4418-9af2-1ded47d7a85c 14833    тагетис крупноцветковый рассада однолетних цвет...          74   \n",
       "                                              рассада огурец кристина ячейки по 6 шт е6                   74   \n",
       "                                              рассада кабачка сорт аэронавт, кассета по 6шт               74   \n",
       "                                              рассада кабачка сорт горный, кассета по 6шт                 74   \n",
       "                                              рассада кабачка сорт зебра кассета 6 шт e6                  74   \n",
       "\n",
       "                                                                                                  month  \\\n",
       "customer_id                          order_id product                                                     \n",
       "1d6c8c1f-a799-4418-9af2-1ded47d7a85c 14833    тагетис крупноцветковый рассада однолетних цвет...     74   \n",
       "                                              рассада огурец кристина ячейки по 6 шт е6              74   \n",
       "                                              рассада кабачка сорт аэронавт, кассета по 6шт          74   \n",
       "                                              рассада кабачка сорт горный, кассета по 6шт            74   \n",
       "                                              рассада кабачка сорт зебра кассета 6 шт e6             74   \n",
       "\n",
       "                                                                                                  year  \\\n",
       "customer_id                          order_id product                                                    \n",
       "1d6c8c1f-a799-4418-9af2-1ded47d7a85c 14833    тагетис крупноцветковый рассада однолетних цвет...    74   \n",
       "                                              рассада огурец кристина ячейки по 6 шт е6             74   \n",
       "                                              рассада кабачка сорт аэронавт, кассета по 6шт         74   \n",
       "                                              рассада кабачка сорт горный, кассета по 6шт           74   \n",
       "                                              рассада кабачка сорт зебра кассета 6 шт e6            74   \n",
       "\n",
       "                                                                                                  hour  \\\n",
       "customer_id                          order_id product                                                    \n",
       "1d6c8c1f-a799-4418-9af2-1ded47d7a85c 14833    тагетис крупноцветковый рассада однолетних цвет...    74   \n",
       "                                              рассада огурец кристина ячейки по 6 шт е6             74   \n",
       "                                              рассада кабачка сорт аэронавт, кассета по 6шт         74   \n",
       "                                              рассада кабачка сорт горный, кассета по 6шт           74   \n",
       "                                              рассада кабачка сорт зебра кассета 6 шт e6            74   \n",
       "\n",
       "                                                                                                  weekday  \n",
       "customer_id                          order_id product                                                      \n",
       "1d6c8c1f-a799-4418-9af2-1ded47d7a85c 14833    тагетис крупноцветковый рассада однолетних цвет...       74  \n",
       "                                              рассада огурец кристина ячейки по 6 шт е6                74  \n",
       "                                              рассада кабачка сорт аэронавт, кассета по 6шт            74  \n",
       "                                              рассада кабачка сорт горный, кассета по 6шт              74  \n",
       "                                              рассада кабачка сорт зебра кассета 6 шт e6               74  "
      ]
     },
     "execution_count": 21,
     "metadata": {},
     "output_type": "execute_result"
    }
   ],
   "source": [
    "df.groupby(['customer_id', 'order_id', 'product']).count().sort_values('date', ascending=False).head()"
   ]
  },
  {
   "cell_type": "code",
   "execution_count": 22,
   "metadata": {},
   "outputs": [],
   "source": [
    "#Избавимся от дубликатов таких заказов, оставим только самые первые.\n",
    "df = df.sort_values('date').drop_duplicates(subset=['order_id', 'product'], keep='first').reset_index()"
   ]
  },
  {
   "cell_type": "code",
   "execution_count": 23,
   "metadata": {},
   "outputs": [
    {
     "name": "stdout",
     "output_type": "stream",
     "text": [
      "<class 'pandas.core.frame.DataFrame'>\n",
      "RangeIndex: 4817 entries, 0 to 4816\n",
      "Data columns (total 13 columns):\n",
      " #   Column       Non-Null Count  Dtype         \n",
      "---  ------       --------------  -----         \n",
      " 0   index        4817 non-null   int64         \n",
      " 1   date         4817 non-null   datetime64[ns]\n",
      " 2   customer_id  4817 non-null   object        \n",
      " 3   order_id     4817 non-null   int64         \n",
      " 4   product      4817 non-null   object        \n",
      " 5   quantity     4817 non-null   int64         \n",
      " 6   price        4817 non-null   float64       \n",
      " 7   dt           4817 non-null   datetime64[ns]\n",
      " 8   month_year   4817 non-null   datetime64[ns]\n",
      " 9   month        4817 non-null   int64         \n",
      " 10  year         4817 non-null   int64         \n",
      " 11  hour         4817 non-null   int64         \n",
      " 12  weekday      4817 non-null   int64         \n",
      "dtypes: datetime64[ns](3), float64(1), int64(7), object(2)\n",
      "memory usage: 489.4+ KB\n"
     ]
    }
   ],
   "source": [
    "df.info()"
   ]
  },
  {
   "cell_type": "markdown",
   "metadata": {},
   "source": [
    "Удалили дубликаты, осталось 4 817 строк"
   ]
  },
  {
   "cell_type": "markdown",
   "metadata": {},
   "source": [
    "### ШАГ 2: Исследовательский анализ данных <a id=\"step2\"></a>"
   ]
  },
  {
   "cell_type": "markdown",
   "metadata": {},
   "source": [
    "#### 2.1. Определить период, за который представлены данные; <a id=\"step2.1.\"></a>"
   ]
  },
  {
   "cell_type": "code",
   "execution_count": 24,
   "metadata": {},
   "outputs": [
    {
     "data": {
      "text/plain": [
       "count                    4817\n",
       "unique                   2202\n",
       "top       2019-04-27 16:00:00\n",
       "freq                       51\n",
       "first     2018-10-01 00:00:00\n",
       "last      2019-10-31 14:00:00\n",
       "Name: date, dtype: object"
      ]
     },
     "execution_count": 24,
     "metadata": {},
     "output_type": "execute_result"
    }
   ],
   "source": [
    "df['date'].describe()"
   ]
  },
  {
   "cell_type": "markdown",
   "metadata": {},
   "source": [
    "Данные представлены за период с 2018-10-01 00:00:00 по 2019-10-31 16:00:00"
   ]
  },
  {
   "cell_type": "markdown",
   "metadata": {},
   "source": [
    "#### 2.2. Изучить распределение количества заказов за представленный период; <a id=\"step2.2.\"></a>"
   ]
  },
  {
   "cell_type": "code",
   "execution_count": 25,
   "metadata": {
    "scrolled": false
   },
   "outputs": [
    {
     "data": {
      "text/plain": [
       "(array([736999., 737060., 737119., 737180., 737241., 737303.]),\n",
       " <a list of 6 Text major ticklabel objects>)"
      ]
     },
     "execution_count": 25,
     "metadata": {},
     "output_type": "execute_result"
    },
    {
     "data": {
      "image/png": "[encoded data removed]",
      "text/plain": [
       "<Figure size 720x360 with 1 Axes>"
      ]
     },
     "metadata": {
      "needs_background": "light"
     },
     "output_type": "display_data"
    }
   ],
   "source": [
    "#Посмотрим распределение:\n",
    "df['month_year'].hist(figsize=(10,5), bins=13)\n",
    "plt.xticks(rotation=90)"
   ]
  },
  {
   "cell_type": "markdown",
   "metadata": {},
   "source": [
    "Из гистограммы видно, что количество проданных товаров увеличивается с февраля месяца и достигает своего пика в мае, после чего происходит падение продаж."
   ]
  },
  {
   "cell_type": "code",
   "execution_count": 26,
   "metadata": {},
   "outputs": [
    {
     "data": {
      "text/plain": [
       "<matplotlib.axes._subplots.AxesSubplot at 0x11c8ad3d0>"
      ]
     },
     "execution_count": 26,
     "metadata": {},
     "output_type": "execute_result"
    },
    {
     "data": {
      "image/png": "[encoded data removed]",
      "text/plain": [
       "<Figure size 432x288 with 1 Axes>"
      ]
     },
     "metadata": {
      "needs_background": "light"
     },
     "output_type": "display_data"
    }
   ],
   "source": [
    "df.groupby('month_year')['order_id'].count().plot(kind='bar')"
   ]
  },
  {
   "cell_type": "markdown",
   "metadata": {},
   "source": [
    "На гистограмме выше видно, что количество заказов также начинает расти с февраля месяца, достигает своего пика в мае, после чего происходит падение продаж.\n",
    "Возможно это сезонность, если бы были данные за несколько лет, мы бы могли сказать точно."
   ]
  },
  {
   "cell_type": "markdown",
   "metadata": {},
   "source": [
    "### 2.3. Определить количество уникальных покупателей: <a id=\"step2.3.\"></a>"
   ]
  },
  {
   "cell_type": "markdown",
   "metadata": {},
   "source": [
    "#### 2.3.1. Определить сколько покупок приходится на покупателя за имеющийся период; <a id=\"step2.3.1.\"></a>"
   ]
  },
  {
   "cell_type": "code",
   "execution_count": 27,
   "metadata": {},
   "outputs": [
    {
     "data": {
      "text/plain": [
       "2421"
      ]
     },
     "execution_count": 27,
     "metadata": {},
     "output_type": "execute_result"
    }
   ],
   "source": [
    "df['customer_id'].nunique()"
   ]
  },
  {
   "cell_type": "markdown",
   "metadata": {},
   "source": [
    "Всего в датафрейме представлено 2 451 уникальный покупатель"
   ]
  },
  {
   "cell_type": "code",
   "execution_count": 28,
   "metadata": {},
   "outputs": [
    {
     "data": {
      "text/html": [
       "<div>\n",
       "<style scoped>\n",
       "    .dataframe tbody tr th:only-of-type {\n",
       "        vertical-align: middle;\n",
       "    }\n",
       "\n",
       "    .dataframe tbody tr th {\n",
       "        vertical-align: top;\n",
       "    }\n",
       "\n",
       "    .dataframe thead th {\n",
       "        text-align: right;\n",
       "    }\n",
       "</style>\n",
       "<table border=\"1\" class=\"dataframe\">\n",
       "  <thead>\n",
       "    <tr style=\"text-align: right;\">\n",
       "      <th></th>\n",
       "      <th>customer_id</th>\n",
       "      <th>order_id</th>\n",
       "      <th>price</th>\n",
       "      <th>quantity</th>\n",
       "      <th>av_item_cost</th>\n",
       "    </tr>\n",
       "  </thead>\n",
       "  <tbody>\n",
       "    <tr>\n",
       "      <th>0</th>\n",
       "      <td>000d6849-084e-4d9f-ac03-37174eaf60c4</td>\n",
       "      <td>14943</td>\n",
       "      <td>555.0</td>\n",
       "      <td>4</td>\n",
       "      <td>138.75</td>\n",
       "    </tr>\n",
       "    <tr>\n",
       "      <th>1</th>\n",
       "      <td>001cee7f-0b29-4716-b202-0042213ab038</td>\n",
       "      <td>70290</td>\n",
       "      <td>442.0</td>\n",
       "      <td>1</td>\n",
       "      <td>442.00</td>\n",
       "    </tr>\n",
       "    <tr>\n",
       "      <th>2</th>\n",
       "      <td>00299f34-5385-4d13-9aea-c80b81658e1b</td>\n",
       "      <td>72965</td>\n",
       "      <td>457.0</td>\n",
       "      <td>2</td>\n",
       "      <td>228.50</td>\n",
       "    </tr>\n",
       "    <tr>\n",
       "      <th>3</th>\n",
       "      <td>002d4d3a-4a59-406b-86ec-c3314357e498</td>\n",
       "      <td>69990</td>\n",
       "      <td>1649.0</td>\n",
       "      <td>1</td>\n",
       "      <td>1649.00</td>\n",
       "    </tr>\n",
       "    <tr>\n",
       "      <th>4</th>\n",
       "      <td>003bbd39-0000-41ff-b7f9-2ddaec152037</td>\n",
       "      <td>72796</td>\n",
       "      <td>1162.0</td>\n",
       "      <td>2</td>\n",
       "      <td>581.00</td>\n",
       "    </tr>\n",
       "  </tbody>\n",
       "</table>\n",
       "</div>"
      ],
      "text/plain": [
       "                            customer_id  order_id   price  quantity  \\\n",
       "0  000d6849-084e-4d9f-ac03-37174eaf60c4     14943   555.0         4   \n",
       "1  001cee7f-0b29-4716-b202-0042213ab038     70290   442.0         1   \n",
       "2  00299f34-5385-4d13-9aea-c80b81658e1b     72965   457.0         2   \n",
       "3  002d4d3a-4a59-406b-86ec-c3314357e498     69990  1649.0         1   \n",
       "4  003bbd39-0000-41ff-b7f9-2ddaec152037     72796  1162.0         2   \n",
       "\n",
       "   av_item_cost  \n",
       "0        138.75  \n",
       "1        442.00  \n",
       "2        228.50  \n",
       "3       1649.00  \n",
       "4        581.00  "
      ]
     },
     "execution_count": 28,
     "metadata": {},
     "output_type": "execute_result"
    }
   ],
   "source": [
    "#Сформируем датафрейм по пользователям\n",
    "df_user_purch = df.groupby(['customer_id', 'order_id']).agg({'price':'sum', 'quantity':'sum'}).reset_index()\n",
    "df_user_purch['av_item_cost'] = df_user_purch['price'] / df_user_purch['quantity']\n",
    "df_user_purch.head()"
   ]
  },
  {
   "cell_type": "code",
   "execution_count": 29,
   "metadata": {},
   "outputs": [
    {
     "data": {
      "text/plain": [
       "count    2421.000000\n",
       "mean        1.150351\n",
       "std         2.671496\n",
       "min         1.000000\n",
       "25%         1.000000\n",
       "50%         1.000000\n",
       "75%         1.000000\n",
       "max       126.000000\n",
       "Name: order_id, dtype: float64"
      ]
     },
     "execution_count": 29,
     "metadata": {},
     "output_type": "execute_result"
    }
   ],
   "source": [
    "df_user_purch.groupby('customer_id')['order_id'].count().reset_index()['order_id'].describe()"
   ]
  },
  {
   "cell_type": "markdown",
   "metadata": {},
   "source": [
    "В среднем пользователи совершают 1.15 покупок за период. При этом есть пользователь, который совершил 126 покупок.\n",
    "Медианное значение - 1 покупка.\n",
    "\n",
    "Определим аномалии."
   ]
  },
  {
   "cell_type": "markdown",
   "metadata": {},
   "source": [
    "#### 2.3.2. Определить аномалии; <a id=\"step2.3.2.\"></a>"
   ]
  },
  {
   "cell_type": "code",
   "execution_count": 30,
   "metadata": {},
   "outputs": [
    {
     "data": {
      "text/plain": [
       "<matplotlib.axes._subplots.AxesSubplot at 0x11c96e690>"
      ]
     },
     "execution_count": 30,
     "metadata": {},
     "output_type": "execute_result"
    },
    {
     "data": {
      "image/png": "[encoded data removed]",
      "text/plain": [
       "<Figure size 432x288 with 1 Axes>"
      ]
     },
     "metadata": {
      "needs_background": "light"
     },
     "output_type": "display_data"
    }
   ],
   "source": [
    "#Построим boxplot и посмотрим выбросы\n",
    "df_amnt_orders = df_user_purch.groupby('customer_id')['order_id'].count().reset_index()\n",
    "df_amnt_orders.boxplot('order_id')"
   ]
  },
  {
   "cell_type": "markdown",
   "metadata": {},
   "source": [
    "Земетен выброс - пользвателб который совершлио 126 заказов. Посмотрим отрезок ближе"
   ]
  },
  {
   "cell_type": "code",
   "execution_count": 31,
   "metadata": {},
   "outputs": [
    {
     "data": {
      "text/plain": [
       "(0.0, 10.0)"
      ]
     },
     "execution_count": 31,
     "metadata": {},
     "output_type": "execute_result"
    },
    {
     "data": {
      "image/png": "[encoded data removed]",
      "text/plain": [
       "<Figure size 432x288 with 1 Axes>"
      ]
     },
     "metadata": {
      "needs_background": "light"
     },
     "output_type": "display_data"
    }
   ],
   "source": [
    "df_amnt_orders.boxplot('order_id')\n",
    "plt.ylim(0,10)"
   ]
  },
  {
   "cell_type": "markdown",
   "metadata": {},
   "source": [
    "Видно, что все пользователи, которые совершили более 1-ой покупки являются аномальными. Все-таки большинство пользователей совершает только 1 покупку. Посмотрим сколько пользователей совершает более 1-ой покупки"
   ]
  },
  {
   "cell_type": "code",
   "execution_count": 32,
   "metadata": {
    "scrolled": true
   },
   "outputs": [
    {
     "name": "stdout",
     "output_type": "stream",
     "text": [
      "Всего пользователей: 2421\n",
      "Кол-во пользователей, который совершают 1 покупку: 2263\n",
      "Кол-во пользователей, который совершают более 1 покупку: 158\n",
      "Доля пользователей, которые совершают более 1 покупки: 6.526229%\n"
     ]
    }
   ],
   "source": [
    "print('Всего пользователей:', len(df_amnt_orders))\n",
    "print(\"Кол-во пользователей, который совершают 1 покупку:\", len(df_amnt_orders.query('order_id == 1')))\n",
    "print(\"Кол-во пользователей, который совершают более 1 покупку:\", len(df_amnt_orders.query('order_id > 1')))\n",
    "print(\"Доля пользователей, которые совершают более 1 покупки: {:2%}\"\\\n",
    "      .format((len(df_amnt_orders.query('order_id > 1')) / len(df_amnt_orders))))"
   ]
  },
  {
   "cell_type": "markdown",
   "metadata": {},
   "source": [
    "### 2.3.3. Посчитать среднее количество покупок, которое будет считаться нормальным; <a id=\"step2.3.3.\"></a>"
   ]
  },
  {
   "cell_type": "markdown",
   "metadata": {},
   "source": [
    "Просто ичключим тех, кто совершал более одной покупки и наглядно выведем среднее. (хотя. и так все очевидно)"
   ]
  },
  {
   "cell_type": "code",
   "execution_count": 33,
   "metadata": {
    "scrolled": true
   },
   "outputs": [
    {
     "data": {
      "text/plain": [
       "count    2263.0\n",
       "mean        1.0\n",
       "std         0.0\n",
       "min         1.0\n",
       "25%         1.0\n",
       "50%         1.0\n",
       "75%         1.0\n",
       "max         1.0\n",
       "Name: order_id, dtype: float64"
      ]
     },
     "execution_count": 33,
     "metadata": {},
     "output_type": "execute_result"
    }
   ],
   "source": [
    "df_amnt_orders.query('order_id == 1')['order_id'].describe()"
   ]
  },
  {
   "cell_type": "code",
   "execution_count": 34,
   "metadata": {},
   "outputs": [],
   "source": [
    "df_amnt_orders_clean = df_amnt_orders.query('order_id == 1')\n",
    "order_1_buyers = df_amnt_orders_clean['customer_id']"
   ]
  },
  {
   "cell_type": "markdown",
   "metadata": {},
   "source": [
    "В среднем пользователи совершают только 1 покупку."
   ]
  },
  {
   "cell_type": "code",
   "execution_count": 35,
   "metadata": {},
   "outputs": [
    {
     "data": {
      "text/plain": [
       "0       000d6849-084e-4d9f-ac03-37174eaf60c4\n",
       "1       001cee7f-0b29-4716-b202-0042213ab038\n",
       "2       00299f34-5385-4d13-9aea-c80b81658e1b\n",
       "3       002d4d3a-4a59-406b-86ec-c3314357e498\n",
       "4       003bbd39-0000-41ff-b7f9-2ddaec152037\n",
       "                        ...                 \n",
       "2416    ff601403-b094-4b86-9ac6-264d725b9277\n",
       "2417    ffaeab76-3a8d-49ee-860f-17273b2fc8a2\n",
       "2418    ffb5976a-7a4d-460b-95c4-5ffaba31cb24\n",
       "2419    ffb80538-3fda-4351-8ea9-9d2bec58bb07\n",
       "2420    ffe82299-3f5b-4214-87fe-3d36ecccfac3\n",
       "Name: customer_id, Length: 2263, dtype: object"
      ]
     },
     "execution_count": 35,
     "metadata": {},
     "output_type": "execute_result"
    }
   ],
   "source": [
    "order_1_buyers"
   ]
  },
  {
   "cell_type": "markdown",
   "metadata": {},
   "source": [
    "### 2.4. Посчитать количество товаров в заказе: <a id=\"2.4.\">"
   ]
  },
  {
   "cell_type": "code",
   "execution_count": 36,
   "metadata": {},
   "outputs": [
    {
     "data": {
      "text/html": [
       "<div>\n",
       "<style scoped>\n",
       "    .dataframe tbody tr th:only-of-type {\n",
       "        vertical-align: middle;\n",
       "    }\n",
       "\n",
       "    .dataframe tbody tr th {\n",
       "        vertical-align: top;\n",
       "    }\n",
       "\n",
       "    .dataframe thead th {\n",
       "        text-align: right;\n",
       "    }\n",
       "</style>\n",
       "<table border=\"1\" class=\"dataframe\">\n",
       "  <thead>\n",
       "    <tr style=\"text-align: right;\">\n",
       "      <th></th>\n",
       "      <th>customer_id</th>\n",
       "      <th>order_id</th>\n",
       "      <th>price</th>\n",
       "      <th>quantity</th>\n",
       "      <th>av_item_cost</th>\n",
       "    </tr>\n",
       "  </thead>\n",
       "  <tbody>\n",
       "    <tr>\n",
       "      <th>0</th>\n",
       "      <td>000d6849-084e-4d9f-ac03-37174eaf60c4</td>\n",
       "      <td>14943</td>\n",
       "      <td>555.0</td>\n",
       "      <td>4</td>\n",
       "      <td>138.75</td>\n",
       "    </tr>\n",
       "    <tr>\n",
       "      <th>1</th>\n",
       "      <td>001cee7f-0b29-4716-b202-0042213ab038</td>\n",
       "      <td>70290</td>\n",
       "      <td>442.0</td>\n",
       "      <td>1</td>\n",
       "      <td>442.00</td>\n",
       "    </tr>\n",
       "    <tr>\n",
       "      <th>2</th>\n",
       "      <td>00299f34-5385-4d13-9aea-c80b81658e1b</td>\n",
       "      <td>72965</td>\n",
       "      <td>457.0</td>\n",
       "      <td>2</td>\n",
       "      <td>228.50</td>\n",
       "    </tr>\n",
       "    <tr>\n",
       "      <th>3</th>\n",
       "      <td>002d4d3a-4a59-406b-86ec-c3314357e498</td>\n",
       "      <td>69990</td>\n",
       "      <td>1649.0</td>\n",
       "      <td>1</td>\n",
       "      <td>1649.00</td>\n",
       "    </tr>\n",
       "    <tr>\n",
       "      <th>4</th>\n",
       "      <td>003bbd39-0000-41ff-b7f9-2ddaec152037</td>\n",
       "      <td>72796</td>\n",
       "      <td>1162.0</td>\n",
       "      <td>2</td>\n",
       "      <td>581.00</td>\n",
       "    </tr>\n",
       "    <tr>\n",
       "      <th>...</th>\n",
       "      <td>...</td>\n",
       "      <td>...</td>\n",
       "      <td>...</td>\n",
       "      <td>...</td>\n",
       "      <td>...</td>\n",
       "    </tr>\n",
       "    <tr>\n",
       "      <th>2780</th>\n",
       "      <td>ff601403-b094-4b86-9ac6-264d725b9277</td>\n",
       "      <td>72313</td>\n",
       "      <td>1649.0</td>\n",
       "      <td>1</td>\n",
       "      <td>1649.00</td>\n",
       "    </tr>\n",
       "    <tr>\n",
       "      <th>2781</th>\n",
       "      <td>ffaeab76-3a8d-49ee-860f-17273b2fc8a2</td>\n",
       "      <td>73136</td>\n",
       "      <td>397.0</td>\n",
       "      <td>1</td>\n",
       "      <td>397.00</td>\n",
       "    </tr>\n",
       "    <tr>\n",
       "      <th>2782</th>\n",
       "      <td>ffb5976a-7a4d-460b-95c4-5ffaba31cb24</td>\n",
       "      <td>69369</td>\n",
       "      <td>389.0</td>\n",
       "      <td>1</td>\n",
       "      <td>389.00</td>\n",
       "    </tr>\n",
       "    <tr>\n",
       "      <th>2783</th>\n",
       "      <td>ffb80538-3fda-4351-8ea9-9d2bec58bb07</td>\n",
       "      <td>72561</td>\n",
       "      <td>974.0</td>\n",
       "      <td>1</td>\n",
       "      <td>974.00</td>\n",
       "    </tr>\n",
       "    <tr>\n",
       "      <th>2784</th>\n",
       "      <td>ffe82299-3f5b-4214-87fe-3d36ecccfac3</td>\n",
       "      <td>73060</td>\n",
       "      <td>577.0</td>\n",
       "      <td>1</td>\n",
       "      <td>577.00</td>\n",
       "    </tr>\n",
       "  </tbody>\n",
       "</table>\n",
       "<p>2785 rows × 5 columns</p>\n",
       "</div>"
      ],
      "text/plain": [
       "                               customer_id  order_id   price  quantity  \\\n",
       "0     000d6849-084e-4d9f-ac03-37174eaf60c4     14943   555.0         4   \n",
       "1     001cee7f-0b29-4716-b202-0042213ab038     70290   442.0         1   \n",
       "2     00299f34-5385-4d13-9aea-c80b81658e1b     72965   457.0         2   \n",
       "3     002d4d3a-4a59-406b-86ec-c3314357e498     69990  1649.0         1   \n",
       "4     003bbd39-0000-41ff-b7f9-2ddaec152037     72796  1162.0         2   \n",
       "...                                    ...       ...     ...       ...   \n",
       "2780  ff601403-b094-4b86-9ac6-264d725b9277     72313  1649.0         1   \n",
       "2781  ffaeab76-3a8d-49ee-860f-17273b2fc8a2     73136   397.0         1   \n",
       "2782  ffb5976a-7a4d-460b-95c4-5ffaba31cb24     69369   389.0         1   \n",
       "2783  ffb80538-3fda-4351-8ea9-9d2bec58bb07     72561   974.0         1   \n",
       "2784  ffe82299-3f5b-4214-87fe-3d36ecccfac3     73060   577.0         1   \n",
       "\n",
       "      av_item_cost  \n",
       "0           138.75  \n",
       "1           442.00  \n",
       "2           228.50  \n",
       "3          1649.00  \n",
       "4           581.00  \n",
       "...            ...  \n",
       "2780       1649.00  \n",
       "2781        397.00  \n",
       "2782        389.00  \n",
       "2783        974.00  \n",
       "2784        577.00  \n",
       "\n",
       "[2785 rows x 5 columns]"
      ]
     },
     "execution_count": 36,
     "metadata": {},
     "output_type": "execute_result"
    }
   ],
   "source": [
    "df_user_purch"
   ]
  },
  {
   "cell_type": "markdown",
   "metadata": {},
   "source": [
    "#### 2.4.1. Определить сколько товаров приходится на заказ за имеющийся период; <a id=\"2.4.1.\">"
   ]
  },
  {
   "cell_type": "code",
   "execution_count": 37,
   "metadata": {},
   "outputs": [
    {
     "data": {
      "text/plain": [
       "array([[<matplotlib.axes._subplots.AxesSubplot object at 0x11ca55210>]],\n",
       "      dtype=object)"
      ]
     },
     "execution_count": 37,
     "metadata": {},
     "output_type": "execute_result"
    },
    {
     "data": {
      "image/png": "[encoded data removed]",
      "text/plain": [
       "<Figure size 432x288 with 1 Axes>"
      ]
     },
     "metadata": {
      "needs_background": "light"
     },
     "output_type": "display_data"
    }
   ],
   "source": [
    "df_user_purch.hist('quantity')"
   ]
  },
  {
   "cell_type": "code",
   "execution_count": 38,
   "metadata": {},
   "outputs": [
    {
     "data": {
      "text/plain": [
       "array([[<matplotlib.axes._subplots.AxesSubplot object at 0x11cb05590>]],\n",
       "      dtype=object)"
      ]
     },
     "execution_count": 38,
     "metadata": {},
     "output_type": "execute_result"
    },
    {
     "data": {
      "image/png": "[encoded data removed]",
      "text/plain": [
       "<Figure size 432x288 with 1 Axes>"
      ]
     },
     "metadata": {
      "needs_background": "light"
     },
     "output_type": "display_data"
    }
   ],
   "source": [
    "df_user_purch.hist('quantity', range=(0, 10), bins=30)"
   ]
  },
  {
   "cell_type": "markdown",
   "metadata": {},
   "source": [
    "Чаще всего в заказе присутствует лишь один товар, иногда 2. Тем не менее, есть пользователи, которые делают и 1000 заказов.\n"
   ]
  },
  {
   "cell_type": "markdown",
   "metadata": {},
   "source": [
    "Посмотрим среднее и медианное количество товаров:"
   ]
  },
  {
   "cell_type": "markdown",
   "metadata": {},
   "source": [
    "#### 2.4.2. Определить аномалии; <a id=\"2.4.2.\">"
   ]
  },
  {
   "cell_type": "code",
   "execution_count": 39,
   "metadata": {},
   "outputs": [
    {
     "data": {
      "text/plain": [
       "<matplotlib.axes._subplots.AxesSubplot at 0x11cbd4050>"
      ]
     },
     "execution_count": 39,
     "metadata": {},
     "output_type": "execute_result"
    },
    {
     "data": {
      "image/png": "[encoded data removed]",
      "text/plain": [
       "<Figure size 432x288 with 1 Axes>"
      ]
     },
     "metadata": {
      "needs_background": "light"
     },
     "output_type": "display_data"
    }
   ],
   "source": [
    "df_user_purch.boxplot('quantity')"
   ]
  },
  {
   "cell_type": "markdown",
   "metadata": {},
   "source": [
    "Видны выбросы, рассмотрим ближе"
   ]
  },
  {
   "cell_type": "code",
   "execution_count": 40,
   "metadata": {},
   "outputs": [
    {
     "data": {
      "text/plain": [
       "(0.0, 25.0)"
      ]
     },
     "execution_count": 40,
     "metadata": {},
     "output_type": "execute_result"
    },
    {
     "data": {
      "image/png": "[encoded data removed]",
      "text/plain": [
       "<Figure size 432x288 with 1 Axes>"
      ]
     },
     "metadata": {
      "needs_background": "light"
     },
     "output_type": "display_data"
    }
   ],
   "source": [
    "df_user_purch.boxplot('quantity')\n",
    "plt.ylim(0,25)"
   ]
  },
  {
   "cell_type": "markdown",
   "metadata": {},
   "source": [
    "Нормальные значения распределены от 1 до 6, присутсвуют выбросы."
   ]
  },
  {
   "cell_type": "code",
   "execution_count": 41,
   "metadata": {},
   "outputs": [
    {
     "data": {
      "text/plain": [
       "count    2785.000000\n",
       "mean        4.863914\n",
       "std        23.867536\n",
       "min         1.000000\n",
       "25%         1.000000\n",
       "50%         1.000000\n",
       "75%         3.000000\n",
       "max      1000.000000\n",
       "Name: quantity, dtype: float64"
      ]
     },
     "execution_count": 41,
     "metadata": {},
     "output_type": "execute_result"
    }
   ],
   "source": [
    "df_user_purch['quantity'].describe()"
   ]
  },
  {
   "cell_type": "markdown",
   "metadata": {},
   "source": [
    "Среднее значение - 6, медианное - 1. Достаточно больное среднее отклонение, что также говорит о выбросах. Почистим выбросы."
   ]
  },
  {
   "cell_type": "markdown",
   "metadata": {},
   "source": [
    "#### 2.4.3. Посчитать среднее количество товаров, которое будет считаться нормальным; <a id=\"2.4.3.\">"
   ]
  },
  {
   "cell_type": "code",
   "execution_count": 42,
   "metadata": {},
   "outputs": [],
   "source": [
    "def remove_outlier(data, col):\n",
    "    q1 = data[col].quantile(0.25)\n",
    "    q3 = data[col].quantile(0.75)\n",
    "    iqr = q3 - q1 \n",
    "    fence_low  = q1 - 1.5 * iqr\n",
    "    fence_high = q3 + 1.5 * iqr\n",
    "    df_out = data.loc[(data[col] > fence_low) & (data[col] < fence_high)]\n",
    "    return df_out\n",
    "df_quantity_clean = remove_outlier(df_user_purch, 'quantity')"
   ]
  },
  {
   "cell_type": "code",
   "execution_count": 43,
   "metadata": {
    "scrolled": true
   },
   "outputs": [
    {
     "data": {
      "text/plain": [
       "count    2343.000000\n",
       "mean        1.458813\n",
       "std         0.973995\n",
       "min         1.000000\n",
       "25%         1.000000\n",
       "50%         1.000000\n",
       "75%         1.000000\n",
       "max         5.000000\n",
       "Name: quantity, dtype: float64"
      ]
     },
     "execution_count": 43,
     "metadata": {},
     "output_type": "execute_result"
    }
   ],
   "source": [
    "df_quantity_clean['quantity'].describe()"
   ]
  },
  {
   "cell_type": "markdown",
   "metadata": {},
   "source": [
    "После очистки от выбросов, среднее значение равно - 1.5, а медиана 1.\n",
    "Возьмем за основу медиану."
   ]
  },
  {
   "cell_type": "code",
   "execution_count": 44,
   "metadata": {},
   "outputs": [],
   "source": [
    "df_quantity_clean_users =  df_quantity_clean['customer_id']"
   ]
  },
  {
   "cell_type": "markdown",
   "metadata": {},
   "source": [
    "### 2.5. Посчитать среднюю стоимость товара в заказе:<a id=\"step2.5.\"></a>"
   ]
  },
  {
   "cell_type": "markdown",
   "metadata": {},
   "source": [
    "#### 2.5.1. Выявить аномалии;<a id=\"step2.5.1.\"></a>"
   ]
  },
  {
   "cell_type": "code",
   "execution_count": 45,
   "metadata": {},
   "outputs": [
    {
     "data": {
      "text/html": [
       "<div>\n",
       "<style scoped>\n",
       "    .dataframe tbody tr th:only-of-type {\n",
       "        vertical-align: middle;\n",
       "    }\n",
       "\n",
       "    .dataframe tbody tr th {\n",
       "        vertical-align: top;\n",
       "    }\n",
       "\n",
       "    .dataframe thead th {\n",
       "        text-align: right;\n",
       "    }\n",
       "</style>\n",
       "<table border=\"1\" class=\"dataframe\">\n",
       "  <thead>\n",
       "    <tr style=\"text-align: right;\">\n",
       "      <th></th>\n",
       "      <th>customer_id</th>\n",
       "      <th>order_id</th>\n",
       "      <th>price</th>\n",
       "      <th>quantity</th>\n",
       "      <th>av_item_cost</th>\n",
       "    </tr>\n",
       "  </thead>\n",
       "  <tbody>\n",
       "    <tr>\n",
       "      <th>1078</th>\n",
       "      <td>685d3d84-aebb-485b-8e59-344b3df8b3d3</td>\n",
       "      <td>70841</td>\n",
       "      <td>20.0</td>\n",
       "      <td>150</td>\n",
       "      <td>0.133333</td>\n",
       "    </tr>\n",
       "    <tr>\n",
       "      <th>1730</th>\n",
       "      <td>a984c5b7-ff7e-4647-b84e-ef0b85a2762d</td>\n",
       "      <td>69289</td>\n",
       "      <td>29.0</td>\n",
       "      <td>200</td>\n",
       "      <td>0.145000</td>\n",
       "    </tr>\n",
       "    <tr>\n",
       "      <th>955</th>\n",
       "      <td>5d189e88-d4d6-4eac-ab43-fa65a3c4d106</td>\n",
       "      <td>71478</td>\n",
       "      <td>51.0</td>\n",
       "      <td>300</td>\n",
       "      <td>0.170000</td>\n",
       "    </tr>\n",
       "    <tr>\n",
       "      <th>2372</th>\n",
       "      <td>d933280e-5372-448f-be44-b269c8bafc2a</td>\n",
       "      <td>72885</td>\n",
       "      <td>19.0</td>\n",
       "      <td>100</td>\n",
       "      <td>0.190000</td>\n",
       "    </tr>\n",
       "    <tr>\n",
       "      <th>2244</th>\n",
       "      <td>cd09ea73-d9ce-48c3-b4c5-018113735e80</td>\n",
       "      <td>68611</td>\n",
       "      <td>57.0</td>\n",
       "      <td>300</td>\n",
       "      <td>0.190000</td>\n",
       "    </tr>\n",
       "    <tr>\n",
       "      <th>...</th>\n",
       "      <td>...</td>\n",
       "      <td>...</td>\n",
       "      <td>...</td>\n",
       "      <td>...</td>\n",
       "      <td>...</td>\n",
       "    </tr>\n",
       "    <tr>\n",
       "      <th>2332</th>\n",
       "      <td>d5584388-ffbe-42fd-a746-a98828ec919f</td>\n",
       "      <td>72992</td>\n",
       "      <td>7724.0</td>\n",
       "      <td>1</td>\n",
       "      <td>7724.000000</td>\n",
       "    </tr>\n",
       "    <tr>\n",
       "      <th>264</th>\n",
       "      <td>19d904d8-8d16-476d-8f66-b2a3b7a23660</td>\n",
       "      <td>71227</td>\n",
       "      <td>8077.0</td>\n",
       "      <td>1</td>\n",
       "      <td>8077.000000</td>\n",
       "    </tr>\n",
       "    <tr>\n",
       "      <th>1761</th>\n",
       "      <td>ac250053-a236-467a-97d2-ddbb9bf4a1ba</td>\n",
       "      <td>70423</td>\n",
       "      <td>8437.0</td>\n",
       "      <td>1</td>\n",
       "      <td>8437.000000</td>\n",
       "    </tr>\n",
       "    <tr>\n",
       "      <th>2007</th>\n",
       "      <td>c0c60544-3a99-49d0-8a8e-cf7f293c22cb</td>\n",
       "      <td>71035</td>\n",
       "      <td>8737.0</td>\n",
       "      <td>1</td>\n",
       "      <td>8737.000000</td>\n",
       "    </tr>\n",
       "    <tr>\n",
       "      <th>145</th>\n",
       "      <td>0d87f4ae-465a-4fac-81e6-5d629761783e</td>\n",
       "      <td>72139</td>\n",
       "      <td>14917.0</td>\n",
       "      <td>1</td>\n",
       "      <td>14917.000000</td>\n",
       "    </tr>\n",
       "  </tbody>\n",
       "</table>\n",
       "<p>2785 rows × 5 columns</p>\n",
       "</div>"
      ],
      "text/plain": [
       "                               customer_id  order_id    price  quantity  \\\n",
       "1078  685d3d84-aebb-485b-8e59-344b3df8b3d3     70841     20.0       150   \n",
       "1730  a984c5b7-ff7e-4647-b84e-ef0b85a2762d     69289     29.0       200   \n",
       "955   5d189e88-d4d6-4eac-ab43-fa65a3c4d106     71478     51.0       300   \n",
       "2372  d933280e-5372-448f-be44-b269c8bafc2a     72885     19.0       100   \n",
       "2244  cd09ea73-d9ce-48c3-b4c5-018113735e80     68611     57.0       300   \n",
       "...                                    ...       ...      ...       ...   \n",
       "2332  d5584388-ffbe-42fd-a746-a98828ec919f     72992   7724.0         1   \n",
       "264   19d904d8-8d16-476d-8f66-b2a3b7a23660     71227   8077.0         1   \n",
       "1761  ac250053-a236-467a-97d2-ddbb9bf4a1ba     70423   8437.0         1   \n",
       "2007  c0c60544-3a99-49d0-8a8e-cf7f293c22cb     71035   8737.0         1   \n",
       "145   0d87f4ae-465a-4fac-81e6-5d629761783e     72139  14917.0         1   \n",
       "\n",
       "      av_item_cost  \n",
       "1078      0.133333  \n",
       "1730      0.145000  \n",
       "955       0.170000  \n",
       "2372      0.190000  \n",
       "2244      0.190000  \n",
       "...            ...  \n",
       "2332   7724.000000  \n",
       "264    8077.000000  \n",
       "1761   8437.000000  \n",
       "2007   8737.000000  \n",
       "145   14917.000000  \n",
       "\n",
       "[2785 rows x 5 columns]"
      ]
     },
     "execution_count": 45,
     "metadata": {},
     "output_type": "execute_result"
    }
   ],
   "source": [
    "df_user_purch.sort_values('av_item_cost', ascending=True)"
   ]
  },
  {
   "cell_type": "markdown",
   "metadata": {},
   "source": [
    "Есть заказы, с очень низкой средней стоимостью товара в них. Рассмотрим их отдельно позже. "
   ]
  },
  {
   "cell_type": "code",
   "execution_count": 46,
   "metadata": {},
   "outputs": [
    {
     "data": {
      "text/plain": [
       "array([[<matplotlib.axes._subplots.AxesSubplot object at 0x11cb0c690>]],\n",
       "      dtype=object)"
      ]
     },
     "execution_count": 46,
     "metadata": {},
     "output_type": "execute_result"
    },
    {
     "data": {
      "image/png": "[encoded data removed]",
      "text/plain": [
       "<Figure size 432x288 with 1 Axes>"
      ]
     },
     "metadata": {
      "needs_background": "light"
     },
     "output_type": "display_data"
    }
   ],
   "source": [
    "df_user_purch.hist('av_item_cost')"
   ]
  },
  {
   "cell_type": "markdown",
   "metadata": {},
   "source": [
    "Основная масса средней стоимости товаров в заказе приходится на сумму до 1000 единиц. Но есть товары в заказе, которые достигают 14 000 единиц. Рассмотрим ближе участок с основной массой чеков"
   ]
  },
  {
   "cell_type": "code",
   "execution_count": 47,
   "metadata": {},
   "outputs": [
    {
     "data": {
      "text/plain": [
       "array([[<matplotlib.axes._subplots.AxesSubplot object at 0x11ca00890>]],\n",
       "      dtype=object)"
      ]
     },
     "execution_count": 47,
     "metadata": {},
     "output_type": "execute_result"
    },
    {
     "data": {
      "image/png": "[encoded data removed]",
      "text/plain": [
       "<Figure size 432x288 with 1 Axes>"
      ]
     },
     "metadata": {
      "needs_background": "light"
     },
     "output_type": "display_data"
    }
   ],
   "source": [
    "df_user_purch.hist('av_item_cost', range=(0,1000))"
   ]
  },
  {
   "cell_type": "markdown",
   "metadata": {},
   "source": [
    "В основном покупают товары стоимостью до 200 единиц"
   ]
  },
  {
   "cell_type": "code",
   "execution_count": 48,
   "metadata": {},
   "outputs": [
    {
     "data": {
      "text/plain": [
       "Text(0.5, 1.0, 'Сумма заказа')"
      ]
     },
     "execution_count": 48,
     "metadata": {},
     "output_type": "execute_result"
    },
    {
     "data": {
      "image/png": "[encoded data removed]",
      "text/plain": [
       "<Figure size 432x288 with 1 Axes>"
      ]
     },
     "metadata": {
      "needs_background": "light"
     },
     "output_type": "display_data"
    }
   ],
   "source": [
    "#решил перепроверить чеерез анадиз стоимости товара в исходном датафрейме.\n",
    "df.hist('price', range=(0,2000))\n",
    "plt.title('Сумма заказа')"
   ]
  },
  {
   "cell_type": "markdown",
   "metadata": {},
   "source": [
    "Картина похожа, основная масса продаж приходится на товары стоимостью до 200 рублей.\n",
    "Построим boxplot."
   ]
  },
  {
   "cell_type": "code",
   "execution_count": 49,
   "metadata": {},
   "outputs": [
    {
     "data": {
      "text/plain": [
       "<matplotlib.axes._subplots.AxesSubplot at 0x11cd8af10>"
      ]
     },
     "execution_count": 49,
     "metadata": {},
     "output_type": "execute_result"
    },
    {
     "data": {
      "image/png": "[encoded data removed]",
      "text/plain": [
       "<Figure size 432x288 with 1 Axes>"
      ]
     },
     "metadata": {
      "needs_background": "light"
     },
     "output_type": "display_data"
    }
   ],
   "source": [
    "df.boxplot('price')"
   ]
  },
  {
   "cell_type": "markdown",
   "metadata": {},
   "source": [
    "Видны выбросы. Посмотрим подробнее"
   ]
  },
  {
   "cell_type": "code",
   "execution_count": 50,
   "metadata": {},
   "outputs": [
    {
     "data": {
      "text/plain": [
       "(0.0, 1500.0)"
      ]
     },
     "execution_count": 50,
     "metadata": {},
     "output_type": "execute_result"
    },
    {
     "data": {
      "image/png": "[encoded data removed]",
      "text/plain": [
       "<Figure size 432x288 with 1 Axes>"
      ]
     },
     "metadata": {
      "needs_background": "light"
     },
     "output_type": "display_data"
    }
   ],
   "source": [
    "df.boxplot('price')\n",
    "plt.ylim(0,1500)"
   ]
  },
  {
   "cell_type": "code",
   "execution_count": 51,
   "metadata": {},
   "outputs": [
    {
     "name": "stdout",
     "output_type": "stream",
     "text": [
      "-507.0\n",
      "1085.0\n"
     ]
    }
   ],
   "source": [
    "#Посмотрим границы нормальных значений\n",
    "q1 = df['price'].quantile(0.25)\n",
    "q3 = df['price'].quantile(0.75)\n",
    "iqr = q3 - q1 \n",
    "fence_low  = q1 - 1.5 * iqr\n",
    "fence_high = q3 + 1.5 * iqr\n",
    "    \n",
    "print(fence_low)\n",
    "print(fence_high)"
   ]
  },
  {
   "cell_type": "code",
   "execution_count": 52,
   "metadata": {},
   "outputs": [
    {
     "data": {
      "text/plain": [
       "9.0"
      ]
     },
     "execution_count": 52,
     "metadata": {},
     "output_type": "execute_result"
    }
   ],
   "source": [
    "#Так как наша нижний придел ограничен стоимость самого дешевого товара, то посмотрим минимальную стоимость товара\n",
    "df['price'].min()"
   ]
  },
  {
   "cell_type": "markdown",
   "metadata": {},
   "source": [
    "Нормальные значения стоимости товара расположены в диапазоне от 9 до 1 085"
   ]
  },
  {
   "cell_type": "markdown",
   "metadata": {},
   "source": [
    "#### 2.5.2. Определить \"нормальную\" стоимость товара;<a id=\"step2.5.2.\"></a>"
   ]
  },
  {
   "cell_type": "code",
   "execution_count": 53,
   "metadata": {},
   "outputs": [
    {
     "data": {
      "text/plain": [
       "count     4817.000000\n",
       "mean       516.326759\n",
       "std        947.192739\n",
       "min          9.000000\n",
       "25%         90.000000\n",
       "50%        150.000000\n",
       "75%        488.000000\n",
       "max      14917.000000\n",
       "Name: price, dtype: float64"
      ]
     },
     "execution_count": 53,
     "metadata": {},
     "output_type": "execute_result"
    }
   ],
   "source": [
    "#Посмотрим среднее значение до очистки\n",
    "df['price'].describe()"
   ]
  },
  {
   "cell_type": "markdown",
   "metadata": {},
   "source": [
    "По исходному датафрейму средняя стоимость товара составляет 516 единциы, медиана - 150. Большой разброс. Очистим данные от выбросов."
   ]
  },
  {
   "cell_type": "code",
   "execution_count": 54,
   "metadata": {},
   "outputs": [
    {
     "data": {
      "text/plain": [
       "count    4169.000000\n",
       "mean      227.213720\n",
       "std       237.489765\n",
       "min         9.000000\n",
       "25%        89.000000\n",
       "50%       135.000000\n",
       "75%       225.000000\n",
       "max      1050.000000\n",
       "Name: price, dtype: float64"
      ]
     },
     "execution_count": 54,
     "metadata": {},
     "output_type": "execute_result"
    }
   ],
   "source": [
    "def remove_outlier(data, col):\n",
    "    q1 = data[col].quantile(0.25)\n",
    "    q3 = data[col].quantile(0.75)\n",
    "    iqr = q3 - q1 \n",
    "    fence_low  = q1 - 1.5 * iqr\n",
    "    fence_high = q3 + 1.5 * iqr\n",
    "    df_out = data.loc[(data[col] > fence_low) & (data[col] < fence_high)]\n",
    "    return df_out\n",
    "df_item_price_clean = remove_outlier(df, 'price')\n",
    "\n",
    "df_item_price_clean['price'].describe()"
   ]
  },
  {
   "cell_type": "markdown",
   "metadata": {},
   "source": [
    "После очистки средняя стоимость товара стала равна 227 единицам, а медиана - 135 единиц. Разброс сократился. Тем не менее, возьмем медиану, как показатель более устойчивый к выбросам."
   ]
  },
  {
   "cell_type": "code",
   "execution_count": 55,
   "metadata": {},
   "outputs": [],
   "source": [
    "df_item_price_clean_users = df_item_price_clean['order_id']"
   ]
  },
  {
   "cell_type": "markdown",
   "metadata": {},
   "source": [
    "### 2.6. Посчитать средний чек<a id=\"step2.6.\"></a>"
   ]
  },
  {
   "cell_type": "code",
   "execution_count": 56,
   "metadata": {},
   "outputs": [
    {
     "data": {
      "text/html": [
       "<div>\n",
       "<style scoped>\n",
       "    .dataframe tbody tr th:only-of-type {\n",
       "        vertical-align: middle;\n",
       "    }\n",
       "\n",
       "    .dataframe tbody tr th {\n",
       "        vertical-align: top;\n",
       "    }\n",
       "\n",
       "    .dataframe thead th {\n",
       "        text-align: right;\n",
       "    }\n",
       "</style>\n",
       "<table border=\"1\" class=\"dataframe\">\n",
       "  <thead>\n",
       "    <tr style=\"text-align: right;\">\n",
       "      <th></th>\n",
       "      <th>index</th>\n",
       "      <th>date</th>\n",
       "      <th>customer_id</th>\n",
       "      <th>order_id</th>\n",
       "      <th>product</th>\n",
       "      <th>quantity</th>\n",
       "      <th>price</th>\n",
       "      <th>dt</th>\n",
       "      <th>month_year</th>\n",
       "      <th>month</th>\n",
       "      <th>year</th>\n",
       "      <th>hour</th>\n",
       "      <th>weekday</th>\n",
       "    </tr>\n",
       "  </thead>\n",
       "  <tbody>\n",
       "    <tr>\n",
       "      <th>0</th>\n",
       "      <td>0</td>\n",
       "      <td>2018-10-01</td>\n",
       "      <td>ee47d746-6d2f-4d3c-9622-c31412542920</td>\n",
       "      <td>68477</td>\n",
       "      <td>комнатное растение в горшке алое вера, d12, h30</td>\n",
       "      <td>1</td>\n",
       "      <td>142.0</td>\n",
       "      <td>2018-10-01</td>\n",
       "      <td>2018-10-01</td>\n",
       "      <td>10</td>\n",
       "      <td>2018</td>\n",
       "      <td>0</td>\n",
       "      <td>0</td>\n",
       "    </tr>\n",
       "    <tr>\n",
       "      <th>1</th>\n",
       "      <td>1</td>\n",
       "      <td>2018-10-01</td>\n",
       "      <td>ee47d746-6d2f-4d3c-9622-c31412542920</td>\n",
       "      <td>68477</td>\n",
       "      <td>комнатное растение в горшке кофе арабика, d12,...</td>\n",
       "      <td>1</td>\n",
       "      <td>194.0</td>\n",
       "      <td>2018-10-01</td>\n",
       "      <td>2018-10-01</td>\n",
       "      <td>10</td>\n",
       "      <td>2018</td>\n",
       "      <td>0</td>\n",
       "      <td>0</td>\n",
       "    </tr>\n",
       "    <tr>\n",
       "      <th>2</th>\n",
       "      <td>2</td>\n",
       "      <td>2018-10-01</td>\n",
       "      <td>ee47d746-6d2f-4d3c-9622-c31412542920</td>\n",
       "      <td>68477</td>\n",
       "      <td>радермахера d-12 см h-20 см</td>\n",
       "      <td>1</td>\n",
       "      <td>112.0</td>\n",
       "      <td>2018-10-01</td>\n",
       "      <td>2018-10-01</td>\n",
       "      <td>10</td>\n",
       "      <td>2018</td>\n",
       "      <td>0</td>\n",
       "      <td>0</td>\n",
       "    </tr>\n",
       "    <tr>\n",
       "      <th>3</th>\n",
       "      <td>3</td>\n",
       "      <td>2018-10-01</td>\n",
       "      <td>ee47d746-6d2f-4d3c-9622-c31412542920</td>\n",
       "      <td>68477</td>\n",
       "      <td>хризолидокарпус лутесценс d-9 см</td>\n",
       "      <td>1</td>\n",
       "      <td>179.0</td>\n",
       "      <td>2018-10-01</td>\n",
       "      <td>2018-10-01</td>\n",
       "      <td>10</td>\n",
       "      <td>2018</td>\n",
       "      <td>0</td>\n",
       "      <td>0</td>\n",
       "    </tr>\n",
       "    <tr>\n",
       "      <th>4</th>\n",
       "      <td>4</td>\n",
       "      <td>2018-10-01</td>\n",
       "      <td>ee47d746-6d2f-4d3c-9622-c31412542920</td>\n",
       "      <td>68477</td>\n",
       "      <td>циперус зумула d-12 см h-25 см</td>\n",
       "      <td>1</td>\n",
       "      <td>112.0</td>\n",
       "      <td>2018-10-01</td>\n",
       "      <td>2018-10-01</td>\n",
       "      <td>10</td>\n",
       "      <td>2018</td>\n",
       "      <td>0</td>\n",
       "      <td>0</td>\n",
       "    </tr>\n",
       "  </tbody>\n",
       "</table>\n",
       "</div>"
      ],
      "text/plain": [
       "   index       date                           customer_id  order_id  \\\n",
       "0      0 2018-10-01  ee47d746-6d2f-4d3c-9622-c31412542920     68477   \n",
       "1      1 2018-10-01  ee47d746-6d2f-4d3c-9622-c31412542920     68477   \n",
       "2      2 2018-10-01  ee47d746-6d2f-4d3c-9622-c31412542920     68477   \n",
       "3      3 2018-10-01  ee47d746-6d2f-4d3c-9622-c31412542920     68477   \n",
       "4      4 2018-10-01  ee47d746-6d2f-4d3c-9622-c31412542920     68477   \n",
       "\n",
       "                                             product  quantity  price  \\\n",
       "0    комнатное растение в горшке алое вера, d12, h30         1  142.0   \n",
       "1  комнатное растение в горшке кофе арабика, d12,...         1  194.0   \n",
       "2                        радермахера d-12 см h-20 см         1  112.0   \n",
       "3                   хризолидокарпус лутесценс d-9 см         1  179.0   \n",
       "4                     циперус зумула d-12 см h-25 см         1  112.0   \n",
       "\n",
       "          dt month_year  month  year  hour  weekday  \n",
       "0 2018-10-01 2018-10-01     10  2018     0        0  \n",
       "1 2018-10-01 2018-10-01     10  2018     0        0  \n",
       "2 2018-10-01 2018-10-01     10  2018     0        0  \n",
       "3 2018-10-01 2018-10-01     10  2018     0        0  \n",
       "4 2018-10-01 2018-10-01     10  2018     0        0  "
      ]
     },
     "execution_count": 56,
     "metadata": {},
     "output_type": "execute_result"
    }
   ],
   "source": [
    "df.head()"
   ]
  },
  {
   "cell_type": "code",
   "execution_count": 57,
   "metadata": {
    "scrolled": false
   },
   "outputs": [
    {
     "data": {
      "text/html": [
       "<div>\n",
       "<style scoped>\n",
       "    .dataframe tbody tr th:only-of-type {\n",
       "        vertical-align: middle;\n",
       "    }\n",
       "\n",
       "    .dataframe tbody tr th {\n",
       "        vertical-align: top;\n",
       "    }\n",
       "\n",
       "    .dataframe thead th {\n",
       "        text-align: right;\n",
       "    }\n",
       "</style>\n",
       "<table border=\"1\" class=\"dataframe\">\n",
       "  <thead>\n",
       "    <tr style=\"text-align: right;\">\n",
       "      <th></th>\n",
       "      <th>customer_id</th>\n",
       "      <th>orders</th>\n",
       "      <th>total_price</th>\n",
       "      <th>avg_check</th>\n",
       "    </tr>\n",
       "  </thead>\n",
       "  <tbody>\n",
       "    <tr>\n",
       "      <th>0</th>\n",
       "      <td>000d6849-084e-4d9f-ac03-37174eaf60c4</td>\n",
       "      <td>1</td>\n",
       "      <td>555.0</td>\n",
       "      <td>555.000000</td>\n",
       "    </tr>\n",
       "    <tr>\n",
       "      <th>1579</th>\n",
       "      <td>aae3b3d2-8ab8-4558-a141-e23f0b77e63d</td>\n",
       "      <td>1</td>\n",
       "      <td>375.0</td>\n",
       "      <td>375.000000</td>\n",
       "    </tr>\n",
       "    <tr>\n",
       "      <th>1582</th>\n",
       "      <td>ab10dfb3-1f3e-4712-972a-729f5cec2eb2</td>\n",
       "      <td>1</td>\n",
       "      <td>553.0</td>\n",
       "      <td>553.000000</td>\n",
       "    </tr>\n",
       "    <tr>\n",
       "      <th>1584</th>\n",
       "      <td>ab46eafd-f9d3-4f91-af42-794d675d9c0c</td>\n",
       "      <td>1</td>\n",
       "      <td>157.0</td>\n",
       "      <td>157.000000</td>\n",
       "    </tr>\n",
       "    <tr>\n",
       "      <th>1585</th>\n",
       "      <td>ab938608-1b5b-4830-9fc0-dfc649c04b2f</td>\n",
       "      <td>1</td>\n",
       "      <td>59.0</td>\n",
       "      <td>59.000000</td>\n",
       "    </tr>\n",
       "    <tr>\n",
       "      <th>...</th>\n",
       "      <td>...</td>\n",
       "      <td>...</td>\n",
       "      <td>...</td>\n",
       "      <td>...</td>\n",
       "    </tr>\n",
       "    <tr>\n",
       "      <th>16</th>\n",
       "      <td>0184f535-b60a-4914-a982-231e3f615206</td>\n",
       "      <td>5</td>\n",
       "      <td>3310.0</td>\n",
       "      <td>662.000000</td>\n",
       "    </tr>\n",
       "    <tr>\n",
       "      <th>1727</th>\n",
       "      <td>b7b865ab-0735-407f-8d0c-31f74d2806cc</td>\n",
       "      <td>7</td>\n",
       "      <td>1501.0</td>\n",
       "      <td>214.428571</td>\n",
       "    </tr>\n",
       "    <tr>\n",
       "      <th>1088</th>\n",
       "      <td>73d1cd35-5e5f-4629-8cf2-3fda829d4e58</td>\n",
       "      <td>17</td>\n",
       "      <td>21361.0</td>\n",
       "      <td>1256.529412</td>\n",
       "    </tr>\n",
       "    <tr>\n",
       "      <th>732</th>\n",
       "      <td>4d93d3f6-8b24-403b-a74b-f5173e40d7db</td>\n",
       "      <td>35</td>\n",
       "      <td>30468.0</td>\n",
       "      <td>870.514286</td>\n",
       "    </tr>\n",
       "    <tr>\n",
       "      <th>1893</th>\n",
       "      <td>c971fb21-d54c-4134-938f-16b62ee86d3b</td>\n",
       "      <td>126</td>\n",
       "      <td>133397.0</td>\n",
       "      <td>1058.706349</td>\n",
       "    </tr>\n",
       "  </tbody>\n",
       "</table>\n",
       "<p>2421 rows × 4 columns</p>\n",
       "</div>"
      ],
      "text/plain": [
       "                               customer_id  orders  total_price    avg_check\n",
       "0     000d6849-084e-4d9f-ac03-37174eaf60c4       1        555.0   555.000000\n",
       "1579  aae3b3d2-8ab8-4558-a141-e23f0b77e63d       1        375.0   375.000000\n",
       "1582  ab10dfb3-1f3e-4712-972a-729f5cec2eb2       1        553.0   553.000000\n",
       "1584  ab46eafd-f9d3-4f91-af42-794d675d9c0c       1        157.0   157.000000\n",
       "1585  ab938608-1b5b-4830-9fc0-dfc649c04b2f       1         59.0    59.000000\n",
       "...                                    ...     ...          ...          ...\n",
       "16    0184f535-b60a-4914-a982-231e3f615206       5       3310.0   662.000000\n",
       "1727  b7b865ab-0735-407f-8d0c-31f74d2806cc       7       1501.0   214.428571\n",
       "1088  73d1cd35-5e5f-4629-8cf2-3fda829d4e58      17      21361.0  1256.529412\n",
       "732   4d93d3f6-8b24-403b-a74b-f5173e40d7db      35      30468.0   870.514286\n",
       "1893  c971fb21-d54c-4134-938f-16b62ee86d3b     126     133397.0  1058.706349\n",
       "\n",
       "[2421 rows x 4 columns]"
      ]
     },
     "execution_count": 57,
     "metadata": {},
     "output_type": "execute_result"
    }
   ],
   "source": [
    "df_average_check = df.groupby('customer_id').agg({'order_id':'nunique', 'price':'sum'}).reset_index().sort_values('order_id')\n",
    "df_average_check.columns = ['customer_id', 'orders', 'total_price']\n",
    "df_average_check['avg_check'] = df_average_check['total_price'] / df_average_check['orders']\n",
    "df_average_check"
   ]
  },
  {
   "cell_type": "code",
   "execution_count": 58,
   "metadata": {
    "scrolled": true
   },
   "outputs": [
    {
     "data": {
      "text/plain": [
       "893.0506283662478"
      ]
     },
     "execution_count": 58,
     "metadata": {},
     "output_type": "execute_result"
    }
   ],
   "source": [
    "df_average_check['total_price'].sum()  / df_average_check['orders'].sum() "
   ]
  },
  {
   "cell_type": "markdown",
   "metadata": {},
   "source": [
    "Средний чек исходного датафрейма - 893 единиц."
   ]
  },
  {
   "cell_type": "code",
   "execution_count": 59,
   "metadata": {},
   "outputs": [
    {
     "data": {
      "text/plain": [
       "array([[<matplotlib.axes._subplots.AxesSubplot object at 0x11cedf950>]],\n",
       "      dtype=object)"
      ]
     },
     "execution_count": 59,
     "metadata": {},
     "output_type": "execute_result"
    },
    {
     "data": {
      "image/png": "[encoded data removed]",
      "text/plain": [
       "<Figure size 432x288 with 1 Axes>"
      ]
     },
     "metadata": {
      "needs_background": "light"
     },
     "output_type": "display_data"
    }
   ],
   "source": [
    "df_average_check.hist('avg_check', range=(0,250))"
   ]
  },
  {
   "cell_type": "markdown",
   "metadata": {},
   "source": [
    "Видно 2 пика по среднему чеку, один в районе 60 единиц, другой - 150 единиц."
   ]
  },
  {
   "cell_type": "code",
   "execution_count": 60,
   "metadata": {},
   "outputs": [
    {
     "data": {
      "text/plain": [
       "(0.0, 5000.0)"
      ]
     },
     "execution_count": 60,
     "metadata": {},
     "output_type": "execute_result"
    },
    {
     "data": {
      "image/png": "[encoded data removed]",
      "text/plain": [
       "<Figure size 432x288 with 1 Axes>"
      ]
     },
     "metadata": {
      "needs_background": "light"
     },
     "output_type": "display_data"
    }
   ],
   "source": [
    "df_average_check.boxplot('avg_check')\n",
    "plt.ylim(0,5000)"
   ]
  },
  {
   "cell_type": "code",
   "execution_count": 61,
   "metadata": {},
   "outputs": [
    {
     "data": {
      "text/plain": [
       "count     2421.000000\n",
       "mean       895.710421\n",
       "std       1230.177860\n",
       "min         14.000000\n",
       "25%        150.000000\n",
       "50%        487.000000\n",
       "75%       1087.000000\n",
       "max      17060.000000\n",
       "Name: avg_check, dtype: float64"
      ]
     },
     "execution_count": 61,
     "metadata": {},
     "output_type": "execute_result"
    }
   ],
   "source": [
    "df_average_check['avg_check'].describe()"
   ]
  },
  {
   "cell_type": "code",
   "execution_count": 62,
   "metadata": {},
   "outputs": [
    {
     "data": {
      "text/plain": [
       "count    2217.000000\n",
       "mean      604.207756\n",
       "std       565.385351\n",
       "min        14.000000\n",
       "25%       145.500000\n",
       "50%       434.000000\n",
       "75%       916.000000\n",
       "max      2474.000000\n",
       "Name: avg_check, dtype: float64"
      ]
     },
     "execution_count": 62,
     "metadata": {},
     "output_type": "execute_result"
    }
   ],
   "source": [
    "def remove_outlier(data, col):\n",
    "    q1 = data[col].quantile(0.25)\n",
    "    q3 = data[col].quantile(0.75)\n",
    "    iqr = q3 - q1 \n",
    "    fence_low  = q1 - 1.5 * iqr\n",
    "    fence_high = q3 + 1.5 * iqr\n",
    "    df_out = data.loc[(data[col] > fence_low) & (data[col] < fence_high)]\n",
    "    return df_out\n",
    "df_avg_check_clean = remove_outlier(df_average_check, 'avg_check')\n",
    "\n",
    "df_avg_check_clean['avg_check'].describe()"
   ]
  },
  {
   "cell_type": "code",
   "execution_count": 63,
   "metadata": {},
   "outputs": [
    {
     "data": {
      "text/plain": [
       "626.8092643051771"
      ]
     },
     "execution_count": 63,
     "metadata": {},
     "output_type": "execute_result"
    }
   ],
   "source": [
    "df_avg_check_clean['total_price'].sum() / df_avg_check_clean['orders'].sum() "
   ]
  },
  {
   "cell_type": "markdown",
   "metadata": {},
   "source": [
    "После очистки данных от выбрососв, средний чек заказа составил 626 единиц."
   ]
  },
  {
   "cell_type": "markdown",
   "metadata": {},
   "source": [
    "### 2.7. Выделить и визуализировать категории товаров. Присовить категорию каждому товару;<a id=\"step2.7.\"></a>"
   ]
  },
  {
   "cell_type": "code",
   "execution_count": 64,
   "metadata": {},
   "outputs": [],
   "source": [
    "from pymystem3 import Mystem\n",
    "\n",
    "m = Mystem()\n",
    "def lemmatization(i):\n",
    "    lemmas = m.lemmatize(i)\n",
    "    return lemmas\n",
    "\n",
    "df['product_lemmas'] = df['product'].apply(lemmatization)"
   ]
  },
  {
   "cell_type": "code",
   "execution_count": 65,
   "metadata": {},
   "outputs": [],
   "source": [
    "all_lemmas = []\n",
    "for i in df['product_lemmas']:\n",
    "    all_lemmas += i\n"
   ]
  },
  {
   "cell_type": "code",
   "execution_count": 66,
   "metadata": {
    "scrolled": true
   },
   "outputs": [
    {
     "name": "stdout",
     "output_type": "stream",
     "text": [
      "Counter({' ': 30781, '\\n': 4810, 'см': 2122, '-': 1958, ', ': 1855, 'для': 1010, 'пеларгония': 823, 'рассада': 595, ',': 572, 'в': 548, 'л': 492, 'зональный': 487, 'd': 462, '. ': 456, 'диам': 452, '12': 447, 'с': 401, 'кассета': 399, '5': 390, 'шт': 371, ' (': 369, '0': 365, 'сорт': 360, 'тележка': 346, 'махровый': 342, 'черенок': 336, 'укоренять': 334, '9': 332, 'белый': 320, 'сумка': 314, ') ': 311, 'белье': 310, 'красный': 305, 'объем': 296, 'сушилка': 278, 'горшок': 275, '2': 261, 'по': 259, 'розебудный': 246, 'цветок': 245, '6': 239, 'доска': 235, 'gimi': 233, 'кухня': 225, 'зелень': 220, '10': 209, 'синий': 201, 'розовый': 196, '/': 193, 'гладильный': 192, '7': 190, 'однолетний': 187, '4': 186, 'полумахровый': 185, 'петуния': 174, 'россия': 171, 'муляж': 170, 'томат': 170, '30': 169, 'помидор': 162, 'кг': 161, '№': 160, 'ника': 156, 'м': 154, '1': 152, 'и': 152, 'h': 149, '20': 142, 'хозяйственный': 137, 'd12': 134, '*': 133, '25': 132, 'х': 131, 'сиреневый': 131, '3': 127, 'черный': 125, 'среднеспелый': 121, 'герань': 116, 'h25': 112, 'домашний': 110, 'цвести': 110, 'чехол': 108, 'колесный': 108, 'полиуретан': 107, 'растение': 106, 'из': 106, '50': 106, 'ванный': 106, 'коврик': 105, 'пластмассовый': 102, 'искусственный': 102, 'потолочный': 101, 'простой': 101, 'red': 101, 'желтый': 94, 'delta': 93, 'luminarc': 92, 'оранжевый': 91, 'лиана': 91, 'цвет': 89, 'багажный': 86, 'грузоподъемность': 86, 'роза': 86, 'индетерминантный': 86, 'attribute': 84, 'малиновый': 84, 'пластиковый': 82, 'комната': 80, 'ампельный': 80, '6шт': 79, 'г': 79, 'штора': 78, 'ручка': 77, 'зеленый': 75, 'мл': 75, 'каркас': 73, 'тбр': 72, 'zalger': 71, 'argo': 71, 'капуста': 69, 'таз': 68, '100': 68, 'на': 68, 'лососевый': 68, 'ассортимент': 67, 'хлопок': 66, 'детерминантный': 66, 'pandora': 65, 'серый': 63, 'штука': 62, 'e6': 62, 'настенный': 61, 'раннеспелый': 61, 'вешалка': 60, '% ': 58, 'крышка': 57, '8': 57, 'напольный': 56, 'калибрахоа': 56, '.': 55, 'придверный': 55, 'wellness': 55, 'prins': 55, 'nikolai': 55, 'коричневый': 53, 'мм': 52, '), ': 52, 'мята': 52, '18': 51, 'набор': 50, 'голубой': 50, 'арбуз': 50, 'тимьян': 49, 'стремянка': 49, 'мини': 48, '9х9': 48, 'бежевый': 47, 'со': 47, 'p': 47, 'микс': 46, 'садовый': 46, '21': 45, '60': 45, 'люкс': 45, 'алюминиевый': 44, 'сталь': 44, 'rolser': 44, 'leifheit': 44, 'angeleyes': 44, 'яблоко': 43, 'базилик': 43, 'joy': 42, 'фуксия': 42, '200': 41, '45': 41, 'пищевой': 41, '15': 41, 'огурец': 41, 'покрытие': 40, 'виолета': 40, 'пвх': 40, 'розмарин': 40, 'бакоп': 40, 'тарелка': 39, 'mary': 39, 'деревянный': 38, 'коралловый': 38, 'toscana': 37, ' \"': 36, 'lift': 36, 'hausmann': 36, 'дыня': 36, 'colombo': 35, 'bacchetta': 35, '13': 35, '16': 34, 'фиолетовый': 34, 'double': 34, 'корзина': 33, 'щетка': 33, '9см': 33, 'складной': 33, 'белокачать': 33, 'комнатный': 32, 'круглый': 32, '\" ': 32, 'скатерть': 32, '240х200': 32, 'овальный': 31, 'ванна': 31, '180х200': 31, 'смесь': 30, 'queen': 30, 'ingrid': 30, 'металлический': 29, 'полиэстер': 29, 'ярко': 29, 'margaretha': 29, 'большой': 28, 'rozenbal': 28, ' , ': 28, 'иж': 28, 'подвесной': 28, 'блю': 28, 'нержавеющий': 27, 'банка': 27, 'ступень': 27, 'кашпо': 27, 'кабачок': 27, '17': 26, 'нож': 26, 'прямоугольный': 26, '40': 26, 'кольцо': 26, 'вайт': 26, 'fancy': 25, 'fair': 25, '80': 25, 'поролон': 25, '22': 25, 'одежда': 25, 'blue': 25, 'салатник': 25, 'spirella': 24, 'webber': 24, 'хлопковый': 24, 'текстильный': 24, 'valiant': 24, '90': 24, 'ринго': 24, 'чайногибридный': 24, 'под': 23, 'andersen': 23, 'shopper': 23, 'лаванда': 23, 'цветной': 23, 'вт': 23, 'white': 23, 'ллп': 23, 'полка': 23, 'мега': 23, 'крупный': 23, 'стеклянный': 22, 'curver': 22, 'темнорозовый': 22, 'тыква': 22, 'розоцветный': 22, 'упаковка': 22, 'qwerty': 22, 'eurogold': 21, 'потолочно': 21, 'hm': 21, 'scala': 21, '_': 21, 'примула': 21, 'amarillo': 21, 'surfinia': 21, 'лобелия': 21, 'пластик': 20, '23': 20, '122х40': 20, 'раздвижной': 20, 'emma': 20, 'ff': 19, '14': 19, 'франция': 19, 'линия': 19, 'контейнер': 19, 'оцинковывать': 19, 'чайник': 19, '180': 19, 'плечики': 19, 'салфетка': 19, 'швабра': 19, 'р': 19, 'крупноцветковый': 19, 'вербена': 19, 'ерш': 18, '510': 18, 'без': 18, 'эвкалипт': 18, 'ступенчатый': 18, 'dogrular': 18, 'букет': 18, 'диаметр': 18, 'штанга': 18, 'ред': 18, '75': 18, 'rosebud': 18, 'aloha': 18, 'крючок': 17, '300': 17, 'мелисса': 17, 'prima': 17, '720': 17, 'веревочный': 17, 'гвоздик': 17, '24': 17, 'jet': 17, 'полимербыт': 17, ' / ': 17, 'малый': 17, 'универсальный': 17, '120': 17, 'виола': 17, 'basic': 16, 'клубника': 16, 'ложка': 16, '11': 16, 'кружка': 16, 'композиция': 16, 'петрушка': 16, 'flexi': 16, 'дерево': 16, 'фиалка': 16, 'ведро': 16, 'окраска': 16, 'трава': 16, 'окно': 16, 'мытье': 16, 'флокс': 16, 'bicolor': 16, 'мультиблум': 16, 'скарлет': 16, 'ай': 16, 'декабрист': 16, 'purple': 16, 'метельчатый': 16, 'резиновый': 15, 'тонус': 15, 'обеденный': 15, '\", ': 15, 'apache': 15, 'dasch': 15, 'цикламен': 15, '500': 15, 'угловой': 15, 'противоскользящий': 15, 'бегония': 15, '106': 15, 'подарочный': 15, 'стальной': 15, 'пряный': 15, 'mini': 15, 'famous': 15, 'перец': 14, 'подставка': 14, 'plus': 14, 'душа': 14, '55': 14, 'кухонный': 14, '400': 14, 'насадка': 14, 'арарат': 14, 'душица': 14, 'карниз': 14, 'десертный': 14, 'be': 14, 'звезда': 14, 'doble': 14, 'p9': 14, '10см': 14, 'тюльпановидный': 14, 'сковорода': 13, 'alpenkok': 13, 'ak': 13, 'чабрец': 13, 'ripple': 13, 'подкладка': 13, '135х50': 13, 'lux': 13, 'tris': 13, '112': 13, 'azul': 13, 'textil': 13, 'розебуд': 13, 'молодой': 13, 'l': 13, 'электрический': 13, '5х29': 13, '250': 13, 'rg': 13, '160': 13, 'helex': 13, 'ель': 13, 'золотой': 13, 'лист': 13, 'burgundy': 13, 'лагуна': 13, 'гибридный': 13, 'sweetunia': 13, 'прожилка': 13, '10шт': 13, 'чашелист': 13, 'огонек': 13, 'шуга': 13, 'dt': 13, 'кофе': 12, '35': 12, ' *': 12, '70': 12, 'унитазный': 12, 'ве': 12, 'сильвер': 12, 'hailo': 12, 'лестница': 12, '58': 12, 'эмалированный': 12, 'лавр': 12, 'декоративный': 12, 'полотенце': 12, '19': 12, 'хранение': 12, 'жаккард': 12, 'm': 12, 'дсп': 12, 'перекладина': 12, 'ромашка': 12, 'баклажан': 12, 'negro': 12, 'logic': 12, 'обувь': 12, 'мультиколор': 12, 'новогодний': 12, 'пуансеттия': 12, 'лиловый': 12, '210': 12, 'перечный': 12, 'бэби': 12, 'арабика': 11, '26': 11, 'персик': 11, 'столовый': 11, 'посуда': 11, 'овощ': 11, 'войлок': 11, '45х75': 11, '85': 11, 'м2': 11, 'стиральный': 11, 'подрукавник': 11, '00': 11, 'прозрачный': 11, '44': 11, 'резина': 11, '108': 11, 'galaxy': 11, 'крокус': 11, 'бальзамин': 11, 'easy': 11, 'шоколад': 11, 'предмет': 11, 'ротанг': 11, 'табак': 11, 'orange': 11, 'газание': 11, 'кольраби': 11, 'циперус': 10, 'зумул': 10, '1520': 10, 'clean': 10, '120х38': 10, 'антипригарный': 10, 'лимон': 10, 'груша': 10, 'виноград': 10, 'столовая': 10, 'гунни': 10, 'полиэфир': 10, 'чили': 10, 'ковер': 10, 'минеральный': 10, 'вода': 10, '50х80': 10, 'душистый': 10, '54': 10, '1404021': 10, 'york': 10, 'кориандр': 10, 'встроенный': 10, 'полиамидный': 10, 'hsc': 10, '1703009': 10, 'телескопический': 10, 'хром': 10, 'black': 10, 'одиночный': 10, 'pink': 10, 'суповой': 10, '123х46': 10, 'стакан': 10, 'новогвинейский': 10, 'go': 10, 'косметь': 10, 'эльфпласт': 10, '2000': 10, 'серебро': 10, 'взрослый': 10, 'dark': 10, 'h30': 9, 'super': 9, 'сметка': 9, 'комбинированный': 9, '1209021': 9, 'рисунок': 9, '27': 9, 'мыло': 9, 'ваир': 9, 'батарея': 9, 'связка': 9, 'перчатка': 9, 'comfort': 9, 'ажурный': 9, '280': 9, '28': 9, 'шалфей': 9, '1703011': 9, 'бэлль': 9, 'sarayli': 9, '+': 9, 'антуриум': 9, 'блэк': 9, 'обыкновенный': 9, 'мусор': 9, 'бамбук': 9, 'тюльпан': 9, 's': 9, 'php': 9, 'srl': 9, 'орегано': 9, 'сидение': 9, 'lini': 9, 'ideal': 9, 'средство': 9, 'светло': 9, 'алюминий': 9, '56': 9, 'алиссум': 9, 'сербский': 9, 'сбп1': 9, 'овощной': 9, 'колокольчик': 9, 'лимонный': 9, 'ячейка': 9, 'е6': 9, 'сибирский': 9, 'огонь': 9, 'e10': 9, 'корневой': 9, 'позднеспелый': 9, 'зебра': 9, 'листовой': 9, 'мягкий': 8, 'сердце': 8, '130х48': 8, 'рядная': 8, 'банан': 8, 'хозлэнд': 8, 'floral': 8, '1712012': 8, 'market': 8, 'marengo': 8, 'кувшин': 8, 'ufuk': 8, ') \"': 8, 'костюм': 8, 'color': 8, '140': 8, 'б': 8, '002': 8, 'бутон': 8, 'c': 8, 'scovo': 8, '170': 8, 'размер': 8, 'хризантема': 8, '65': 8, 'dl': 8, 'керамический': 8, 'металлизированный': 8, 'лекарственный': 8, 'лоток': 8, 'паста': 8, 'строительный': 8, 'коробка': 8, 'кокос': 8, 'metal': 8, '122х34': 8, 'морковь': 8, 'чайный': 8, 'мт': 8, '42': 8, 'classic': 8, 'blues': 8, 'пол': 8, 'львиный': 8, 'зев': 8, 'термокружок': 8, 'rosato': 8, 'морокан': 8, 'образный': 8, '80х170': 8, 'd9': 8, 'сальвия': 8, 'sweet': 8, 'bells': 8, 'golden': 8, 'пурпурный': 8, 'окномойка': 8, 'blossom': 8, 'сильвердроп': 8, 'lilac': 8, 'плющелистный': 8, 'дина': 8, 'патиссон': 8, 'beige': 7, '120х42': 7, 'пластика': 7, 'вилка': 7, 'стандарт': 7, '520114': 7, '133': 7, '051': 7, '40х60': 7, 'маргарита': 7, 'свисток': 7, ', \"': 7, 'оконный': 7, 'комплект': 7, 'искуственный': 7, 'три': 7, 'ребристый': 7, 'хлорофитум': 7, '48': 7, '240': 7, '122х42': 7, 'protec': 7, '30х43': 7, 'влаговпитывающий': 7, 'пэмби': 7, 'п': 7, 'зубной': 7, '150': 7, 'андрианум': 7, 'спирелла': 7, 'new': 7, 'стелла': 7, '60х90': 7, '41': 7, 'format': 7, 'эссенция': 7, 'fwm': 7, 'дизайн': 7, 'корыто': 7, 'бесшовный': 7, 'meiwa': 7, 'классик': 7, 'кутюр': 7, 'уличный': 7, 'эконом': 7, 'эк1': 7, 'василиса': 7, 'зми': 7, 'антик': 7, '180х180': 7, 'ручной': 7, 'бирюзовый': 7, 'fashion': 7, '124х46': 7, '5757': 7, 'twin': 7, '1000': 7, 'rigone': 7, 'convert': 7, '36': 7, 'meliconi': 7, 'miss': 7, 'кастрюля': 7, 'ландыш': 7, 'темный': 7, 'рябой': 7, 'factotum': 7, 'луковица': 7, 'март': 7, 'чудо': 7, 'кинг': 7, 'satin': 7, 'вечноцветущий': 7, '2810': 7, '125х43': 7, 'сельдерей': 7, 'полосатый': 7, 'surprise': 7, 'скороспелый': 7, 'сахарный': 7, 'шоколадный': 7, 'chocolate': 7, 'спрей': 7, 'алый': 6, 'вера': 6, '*, ': 6, '450': 6, 'мандарин': 6, 'гранат': 6, 'эхеверие': 6, '520140': 6, 'интерьерный': 6, 'чистка': 6, '01': 6, 'elba': 6, 'сб5': 6, 'д': 6, 'towa': 6, 'co': 6, 'silver': 6, 'простыня': 6, 'мак': 6, 'burstenmann': 6, '220': 6, '1703010': 6, 'стяжка': 6, 'цинк': 6, 'mix': 6, ' - ': 6, 'керамика': 6, 'азалия': 6, 'петля': 6, 'кофр': 6, '140х50': 6, '135х45': 6, '0000': 6, 'iron': 6, '750': 6, 'st04': 6, 'многофункциональный': 6, 'ящик': 6, 'эльза': 6, 'премиум': 6, 'лувр': 6, 'микрофибры': 6, '40х68': 6, 'темно-розовый': 6, '120х40': 6, 'св5': 6, 'quadretto': 6, '1800': 6, 'dos': 6, 'оранж': 6, '110': 6, 'радуга': 6, 'к': 6, '130х46': 6, 'decs': 6, '520': 6, 'медный': 6, '125х42': 6, 'деликатный': 6, 'мимоза': 6, '46': 6, 'lora': 6, 'hlf': 6, '\" (': 6, 'весы': 6, 'нидерланды': 6, 'стенка': 6, '60х140': 6, 'эклипсы': 6, 'stendy': 6, '1303007': 6, '1840': 6, '06': 6, 'mohawk': 6, 'отжим': 6, 'плантация': 6, 'd15': 6, 'tex': 6, 'средний': 6, 'prisma': 6, 'открытка': 6, 'парковый': 6, 'h20': 6, 'остеоспермум': 6, 'изя': 6, 'вейв': 6, 'закрытый': 6, 'колхозница': 6, 'июньский': 6, 'экспресс': 6, 'крым': 6, 'этуаль': 6, 'morn': 6, 'медовый': 6, 'шалун': 6, 'астра': 6, 'регатт': 6, 'regatta': 6, 'sky': 6, 'пчелоопыляемый': 6, 'brio': 5, '130х50': 5, 'полимерный': 5, 'магнит': 5, 'фон': 5, 'natural': 5, 'style': 5, '38': 5, '1860': 5, 'мультипласт': 5, 'тканевый': 5, 'фужер': 5, 'вино': 5, 'вишня': 5, '02': 5, 'флисовый': 5, '6194': 5, 'кумган': 5, '1408003': 5, 'rose': 5, 'металл': 5, 'пластхозторг': 5, 'series': 5, 'болт': 5, 'ст': 5, '1108354': 5, 'т': 5, 'capri': 5, 'jet017': 5, '* ': 5, 'пружина': 5, '5031': 5, 'мирт': 5, 'metalloni': 5, 'leonardo': 5, 'универсал': 5, '60х100': 5, '1404094': 5, '135х53': 5, 'аквамарин': 5, 'секционный': 5, '130': 5, '32': 5, 'гербера': 5, 'салатовый': 5, 'валиант': 5, 'синтетический': 5, 'грин': 5, 'framar': 5, '4062': 5, '140х60': 5, 'abm106': 5, 'топ': 5, 'rp60': 5, 'шнур': 5, 'урна': 5, '31': 5, 'nature': 5, 'кокосовый': 5, 'pegasus': 5, 'горох': 5, 'серия': 5, 'флауэр': 5, 'микрофибра': 5, 'ворсовый': 5, 'внп': 5, 'желудь': 5, 'вещь': 5, 'лилия': 5, 'браун': 5, 'замок': 5, 'воларэ': 5, '1703004': 5, 'dinamik': 5, 'русский': 5, 'выпечка': 5, 'король': 5, 'жестяной': 5, 'fragmmento': 5, '004': 5, '112х34': 5, 'лепесток': 5, 'domenik': 5, 'этажерка': 5, 'термос': 5, 'бест': 5, 'нб': 5, 'thermo': 5, 'свч': 5, 'сб1г': 5, 'сб3б': 5, 'текстиль': 5, 'спатифиллум': 5, 'pasabahce': 5, 'узор': 5, '2110': 5, '44х24х10': 5, '40х20х10': 5, '36х16х10': 5, 'плющ': 5, 'донна': 5, 'подарок': 5, 'ауреум': 5, 'голд': 5, 'эппл': 5, 'минт': 5, 'оффициналис': 5, 'la': 5, 'земляника': 5, 'свита': 5, 'калла': 5, 'тач': 5, 'tachi': 5, 'мандариновый': 5, 'рукав': 5, 'персиколистный': 5, 'баскью': 5, 'kona': 5, 'поздний': 5, 'eyes': 5, 'циния': 5, 'роуз': 5, 'продюсер': 5, 'улыбка': 5, 'эфиопка': 5, 'нло': 5, 'волгоградец': 5, 'золотинка': 5, 'камнеломка': 5, 'apple': 5, 'persia': 4, '5379': 4, 'брюки': 4, ': ': 4, 'star': 4, ' = ': 4, 'сетка': 4, 'фигурный': 4, 'ворс': 4, '1801096': 4, 'многолетний': 4, 'acr042': 4, 'прищепок': 4, 'wc': 4, 'сливочный': 4, 'плед': 4, '1404006': 4, 'латексный': 4, '152': 4, 'modular': 4, 'резинка': 4, 'bella': 4, 'есть': 4, 'кремовый': 4, 'квадратный': 4, 'разноцветный': 4, 'пузырек': 4, '180х200см': 4, 'welfull': 4, ', /': 4, '34': 4, 'мп': 4, 'дверной': 4, 'индик': 4, 'гортензия': 4, 'шар': 4, 'metallic': 4, 'металлизированый': 4, '110х30': 4, 'mama': 4, 'гр': 4, 'tepмокружка': 4, 'avex': 4, 'пыль': 4, '1703006': 4, 'em': 4, '520138': 4, 'eva': 4, 'haushalt': 4, 'иссоп': 4, '888': 4, 'кордан': 4, 'тх0252': 4, 'cannetto': 4, '4061': 4, 'веник': 4, 'сорго': 4, 'шов': 4, 'polyline': 4, 'аметист': 4, '6230': 4, 'r212522': 4, 'jet001': 4, 'стеганый': 4, 'закруглять': 4, 'нарцисс': 4, 'quartz': 4, 'бытовой': 4, 'slimmy': 4, 'planet': 4, 'love': 4, '350': 4, 'полипропиленовый': 4, 'h3529': 4, 'ананас': 4, '115х35': 4, 'дема': 4, 'перерабатывать': 4, 'стоунмания': 4, 'malva': 4, '37': 4, '350х150': 4, '05': 4, ')\\n': 4, '60x40': 4, 'amc015': 4, 'совок': 4, 'вафельный': 4, 'truper': 4, '250мл': 4, 'терка': 4, 'полоска': 4, 'better': 4, 'bt': 4, 'c2003e': 4, '43': 4, '320': 4, 'чай': 4, 'клубневой': 4, 'прибор': 4, '50х85': 4, 'светлый': 4, 'степанов': 4, 'акаулис': 4, 'измельчитель': 4, 'шк': 4, '1516020': 4, 'стэм': 4, 'светло-бежевый': 4, 'бордовый': 4, 'стекло': 4, 'арти': 4, 'дендробиум': 4, 'ствол': 4, 'стыдливый': 4, 'патио': 4, 'mito': 4, 'knit': 4, 'скребок': 4, 'комод': 4, '2350': 4, 'сб4': 4, '1703007': 4, '111': 4, 'страсть': 4, '122х38': 4, 'покрывало': 4, 'наволочка': 4, '50х70': 4, 'форма': 4, 'электронный': 4, 'фаленопсис': 4, 'saquet': 4, 'saq002': 4, 'миска': 4, 'белль': 4, 'одеяло': 4, 'alpina': 4, 'st194': 4, '60х180': 4, 'hera': 4, '119': 4, 'аптение': 4, 'канадский': 4, 'коника': 4, '1л': 4, 'листопад': 4, 'а': 4, 'юниор1': 4, 'объемный': 4, 'полк': 4, '30mt': 4, 'колба': 4, 'японский': 4, 'разделочный': 4, 'океан': 4, 'колесо': 4, 'корея': 4, 'сапфир': 4, 'с04': 4, 'кайма': 4, 'mop': 4, 'моп': 4, '=': 4, 'ткань': 4, '89': 4, 'проволочный': 4, 'xl': 4, 'бук': 4, 'серебристый': 4, 'хлебница': 4, 'де': 4, 'julia': 4, 'j': 4, 'мешок': 4, 'ориганум': 4, '90х60': 4, '60х110': 4, 'r261016': 4, 'подснежник': 4, 'junior': 4, 'моравский': 4, 'седум': 4, 'почвопокровный': 4, 'прованс': 4, 'овсянница': 4, 'сизый': 4, 'цинния': 4, 'пиперит': 4, 'мун': 4, '17х17х10': 4, 'махито': 4, 'japanosche': 4, 'mojito': 4, 'minze': 4, 'surprice': 4, 'yellow': 4, 'rave': 4, 'violet': 4, 'hausrein': 4, 'сладкий': 4, 'swingtime': 4, 'зенг': 4, 'зенган': 4, 'алтайский': 4, 'симпатия': 4, 'младой': 4, 'итальянский': 4, 'бычий': 4, 'ильди': 4, 'юсуповский': 4, 'узбекский': 4, '86': 4, 'индиго': 4, 'минусинский': 4, '94': 4, 'краснокачать': 4, 'победа': 4, 'мохнатый': 4, 'поцелуй': 4, '66': 4, 'гигант': 4, 'арбузный': 4, 'кабан': 4, 'райдер': 4, 'тагетис': 4, 'potunia': 4, 'd10': 4, 'стена': 4, 'telegant': 4, 'брызги': 4, 'сноуболла': 4, '1703002': 4, 'гулливер': 4, 'гарантия': 4, 'белогор': 4, 'форсаж': 4, 'зверобой': 4, 'продырявливать': 4, 'венский': 4, 'карпатский': 4, 'stiramaniche': 4, '53х13': 4, 'b138lgpw': 4, 'мединилла': 4, 'магнифика': 4, 'шеффлер': 3, 'c42': 3, 'одежный': 3, 'тонар': 3, 'плоский': 3, 'поиск': 3, 'риф': 3, 'черешня': 3, 'li95': 3, '03': 3, 'чайная': 3, 'acr033': 3, 'acr013': 3, 'acr023': 3, 'туалет': 3, 'перл': 3, 'нюрнберг': 3, '59': 3, '00708': 3, 'дозатор': 3, 'вишневый': 3, 'g': 3, 'мусорный': 3, '350х180': 3, '6195': 3, 'green': 3, 'line': 3, 'ми': 3, 'односпальный': 3, 'арктик': 3, '90х200': 3, '25001': 3, 'волокно': 3, 'ekko': 3, 'ahp224': 3, '1404047': 3, '1404045': 3, 'jp': 3, '47': 3, '190': 3, 'апельсин': 3, 'daisy': 3, 'alablock': 3, 'бархатный': 3, 'сэ': 3, 'материал': 3, '1205160': 3, 'калатея': 3, 'крепеж': 3, 'крепление': 3, 'биколор': 3, 'приварной': 3, 'гаражный': 3, 'lampo': 3, 'верона': 3, 'lino': 3, '114x34': 3, 'миксер': 3, 'режим': 3, 'diamante': 3, '4800': 3, 'настольный': 3, 'тх0253': 3, 'vestar': 3, '60х90см': 3, '- ': 3, 'st05': 3, 'до': 3, 'аспарагус': 3, 'сверло': 3, '4312600': 3, 'universal': 3, '122': 3, 'zact': 3, 'налет': 3, 'lion': 3, 'magic': 3, 'elegant': 3, '125x45': 3, 'al': 3, 'алюминевый': 3, 'ти': 3, 'унитаз': 3, 'flip': 3, 'bin': 3, '02171': 3, '001': 3, 'элп': 3, 'подголовник': 3, '25х34': 3, '1350': 3, 'сальса': 3, 'expedition': 3, 'блузка': 3, 'расширять': 3, '5х23': 3, 'japanese': 3, '19708': 3, '63': 3, 'avantgard': 3, '140х55': 3, '52': 3, 'i': 3, 'утюг': 3, '2200': 3, 'abm105': 3, '182х182': 3, 'холодный': 3, 'сварка': 3, 'mastix': 3, '55г': 3, 'чеснок': 3, 'dama': 3, '3655': 3, 'step': 3, '90х150': 3, 'sophy': 3, 'корица': 3, 'hsk': 3, '70х38': 3, 'светло-коричневый': 3, 'серо-коричневый': 3, 'fplus': 3, 'az': 3, 'hobbyka': 3, 'хоббик': 3, '88': 3, 'розебад': 3, 'овощеварка': 3, '045': 3, '1502079': 3, 'спать': 3, 'кот': 3, 'виктория': 3, 'длина': 3, 'tortora': 3, 'грань': 3, '308': 3, 'd1': 3, 'ягода': 3, 'teflonix': 3, 'sochi': 3, 'bruna': 3, 'hbm': 3, 'поверхность': 3, 'orthospa': 3, 'river': 3, 'rocks': 3, 'fh': 3, 'стойка': 3, 'пробка': 3, 'каланхое': 3, 'каландив': 3, '520116': 3, 'холодец': 3, 'centi': 3, 'мощность': 3, 'пурпл': 3, 'анис': 3, 'пинк': 3, 'ангора': 3, '1404092': 3, 'топпер': 3, 'день': 3, 'учитель': 3, 'бокал': 3, 'термометр': 3, 'настурция': 3, 'детский': 3, 'сб1': 3, '57': 3, '03676': 3, 'ковш': 3, 'нх': 3, 'метиз': 3, 'chef': 3, 'мок': 3, 'силиконовый': 3, 'fleur': 3, 'лапчатка': 3, 'пламень': 3, 'кореопсис': 3, 'календула': 3, 'снежный': 3, 'новый': 3, 'гардеробная': 3, 'ekspo': 3, 'soehnle': 3, 'karna': 3, '80x40': 3, 'amc080': 3, '6041': 3, 'с05': 3, 'treppensteiger': 3, 'ртк': 3, 'грандифлора': 3, 'инструмент': 3, 'супер': 3, '266': 3, '28х42': 3, '4630005364393': 3, 'вантуз': 3, ' % ': 3, 'rojo': 3, 'джулия': 3, 'капучино': 3, 'леди': 3, 'домин': 3, '223708': 3, 'алфавит': 3, '301о': 3, 'brava': 3, 'фарфоровый': 3, 'rolling': 3, 'латт': 3, '120x38': 3, 'гусь': 3, 'одноголовый': 3, 'italo': 3, 'сб3': 3, 'гидрофобный': 3, 'пропитка': 3, 'емкость': 3, 'стирка': 3, 'gothic': 3, 'slice': 3, 'готический': 3, '4468': 3, 'сн90': 3, '010': 3, 'чугунный': 3, 'pyrex': 3, '5кг': 3, 'лина': 3, '110х33': 3, 'длинный': 3, '028': 3, 'paris': 3, '0401': 3, 'ldn': 3, 'верхний': 3, 'колесико': 3, 'заварочный': 3, '55х110': 3, 'с03': 3, 'reflector': 3, '204к': 3, '103': 3, 'сб2г': 3, 'термостатический': 3, 'яромир': 3, 'кремль': 3, 'яр': 3, '2406м': 3, 'изящный': 3, 'аквилегия': 3, 'монгольский': 3, 'карлик': 3, '53': 3, 'wet': 3, 'bruschetta': 3, '4661': 3, 'высота': 3, 'чабер': 3, 'bolero': 3, 'нью-йорк': 3, 'правый': 3, '72012': 3, 'a': 3, 'hard': 3, 'котон': 3, 'телескоп': 3, 'красавица': 3, 'икс': 3, 'цитрат': 3, 'ясколка': 3, 'войлочный': 3, 'котовник': 3, 'вербейник': 3, 'монетчатый': 3, 'verga': 3, '57572': 3, '1804047': 3, 'tiki': 3, 'neon': 3, 'pineaple': 3, 'шайметь': 3, 'криг': 3, '117': 3, 'micro': 3, 'duo': 3, 'каучук': 3, 'mansonry': 3, 'foliage': 3, '5х89': 3, '5412': 3, 'мэджик': 3, 'нежинский': 3, 'g300a02w': 3, 'angel': 3, 'латекс': 3, 'гардения': 3, 'поворотный': 3, 'шарнир': 3, 'adf1768': 3, 'хоня': 3, 'calliope': 3, 'шпинат': 3, 'исуповский': 3, 'астраханский': 3, 'витаминный': 3, 'дачница': 3, 'sanguna': 3, 'patio': 3, 'красота': 3, 'кейт': 3, '95': 3, 'черри': 3, '101': 3, 'солнечный': 3, 'танец': 3, 'смурфик': 3, 'галактика': 3, '79': 3, 'разборный': 3, '57575': 3, '1804050': 3, '113': 3, 'marvelous': 3, 'винный': 3, 'небесно-голубой': 3, 'lavender': 3, 'бургундить': 3, 'портулак': 3, 'целозия': 3, 'вариегэйтид': 3, 'барбекю': 3, 'бодрость': 3, 'герман': 3, 'лечебный': 3, 'фараон': 3, 'каролина': 3, 'оптимист': 3, 'аэронавт': 3, 'горный': 3, 'f1': 3, 'нивянник': 3, 'вариегат': 3, 'аккорд': 3, 'съемный': 3, 'венг': 3, '187': 3, 'арендс': 3, 'флорал': 3, 'карпет': 3, '6196': 3, 'стеллаж': 3, 'telio': 3, 'opt': 3, '520109': 3, 'пц2913': 3, '1404051': 3, 'веревка': 3, 'd16': 3, 'торонто': 3, '40х10': 3, '35х10': 3, '30х10': 3, '25х10': 3, '72015': 3, 'италия': 3, '40х14х10': 3, '35х10х10': 3, '30х7х10': 3, '72006': 3, 'лузеан': 2, '3679': 2, 'marble': 2, 'marmiton': 2, 'professional': 2, '35748w': 2, 'festival': 2, '137x60': 2, '4738': 2, '1801095': 2, 'jz80': 2, 'sl90': 2, 'райский': 2, 'яблочко': 2, 'прима': 2, 'welcome': 2, 'magicstop': 2, '3x1': 2, 'сушка': 2, '2289': 2, 'гладить': 2, '213': 2, '60л': 2, 'пиво': 2, 'b0194r': 2, 'g85': 2, 'b': 2, 'shiny': 2, 'серо': 2, 'династия': 2, 'gp60': 2, 'multy': 2, 'rus': 2, 'дом': 2, 'утолщенный': 2, 'r105628': 2, 'толкушка': 2, '5173': 2, 'ltd': 2, '45см': 2, '2775': 2, '1404032': 2, 's280': 2, 'лдн': 2, 'латунь': 2, '40х50': 2, '55х55': 2, 'tl': 2, 'e': 2, 'закрывать': 2, '72': 2, 'эксперт': 2, 'влаговпитывать': 2, 'vortex': 2, 'мила': 2, 'подушка': 2, 'клетка': 2, 'атланта': 2, '1107055': 2, 'глоксиния': 2, '1703005': 2, '14х90': 2, '1103003': 2, 'c34f3m': 2, 'скоростной': 2, 'пятно': 2, 'медикамент': 2, 'отделение': 2, '30x22x12': 2, '4w': 2, '107': 2, 'recharge': 2, 'avex0681': 2, 'цветущий': 2, 'французский': 2, 'шарм': 2, '250x1': 2, 'g300a03w': 2, 'черый': 2, '3649': 2, 'w': 2, 'принт': 2, '2b': 2, 'jolly': 2, 'grill': 2, '6207': 2, 'лапша': 2, 'жидкий': 2, '1404079': 2, 'с12129': 2, '1404034': 2, '303': 2, '140х58': 2, 'сантолина': 2, 'навесный': 2, 'афеляндра': 2, 'скуаррос': 2, 'дания': 2, 'автополив': 2, 'фреза': 2, 'нитрид': 2, 'титан': 2, 'юниор2': 2, 'бю2': 2, '130x44': 2, 'перф': 2, '10+': 2, 'н10': 2, '8806325': 2, 'toothpaste': 2, '1404076': 2, '95х33': 2, '848n': 2, 'карнавал': 2, '125': 2, 'мя': 2, 'r206204': 2, 'держатель': 2, '300х150': 2, 'wto305': 2, 'фанера': 2, 'jk': 2, '960': 2, '0516': 2, '570': 2, 'треугольный': 2, 'y8110': 2, 'пц2950': 2, '1404003': 2, 'natures': 2, 'н': 2, 'val': 2, 'короб': 2, 'стеллажный': 2, 'ex': 2, 'box': 2, '226b10': 2, 'jb': 2, 'mezzaluna': 2, 'блу': 2, 'айза': 2, 'корейский': 2, 'extension': 2, 'тула': 2, '1205158': 2, '136': 2, 'krackle': 2, '5911': 2, 'труба': 2, '1205197': 2, 'сервировочный': 2, '26х41': 2, 'кружевной': 2, '88х38': 2, 'city': 2, 'стк1': 2, '5523': 2, '1290': 2, 'манго': 2, 'bab010': 2, '520133': 2, '60х91': 2, '45x76': 2, 'grey': 2, 'imx005': 2, 'touch': 2, '1700': 2, 'plain': 2, 'sarasa': 2, '1209001': 2, '1404085': 2, 'персиковый': 2, 'mc355': 2, 'ветка': 2, '00003a': 2, 'клипса': 2, '8925': 2, '901': 2, 'l9': 2, 'ванилла': 2, 'рыбочистка': 2, 'полипропилен': 2, '40х70': 2, 'kokarda': 2, 'халат': 2, 'измерительный': 2, 'угольник': 2, 'маскарад': 2, '054': 2, '312': 2, '31х31': 2, '4630005360012': 2, 'конус': 2, '1535027': 2, 'низкий': 2, 'лопатка': 2, 'bamboo': 2, 'обувной': 2, 'красить': 2, 'лили': 2, 'j8565': 2, 'rosario': 2, 'яйцо': 2, 'td1': 2, 'ирис': 2, 'abt142': 2, 'темно-зеленый': 2, '5801': 2, 'comfortline': 2, 'крассула': 2, ' + ': 2, 'удаление': 2, 'известковый': 2, 'atlant': 2, 'ролл': 2, 'крыло': 2, 'бензин': 2, 'зажигалка': 2, '1205214': 2, '140х200': 2, 'тесненый': 2, '286': 2, '132х178': 2, 'вл867': 2, '1100': 2, 'см3': 2, '1712007': 2, '2508кп': 2, 'спираль': 2, 'eurohouse': 2, 'g9212': 2, 'tr': 2, 'infinity': 2, 'n23': 2, '520111': 2, 'гарден': 2, 'дорожный': 2, 'аксинья': 2, 'кс': 2, 'корпус': 2, 'жаропрочный': 2, 'amбиантэ': 2, 'аморить': 2, 'санки': 2, '45х76': 2, 'flagstone': 2, '5415': 2, 'основа': 2, '71': 2, 'антижир': 2, 'мантоварка': 2, 'калитва': 2, 'ролик': 2, 'сменный': 2, 'липучка': 2, '1210035': 2, '202': 2, 'почтовый': 2, 'мунлайт': 2, 'h7253': 2, 'marine': 2, 'продукт': 2, 'темно-коричневый': 2, 'м2511': 2, '1404015': 2, '1404009': 2, 'с215': 2, '1406006': 2, 'мясо': 2, '175': 2, 'h7013': 2, 'кисточка': 2, '21х4': 2, '1440s': 2, 'кондитерский': 2, 'g9403': 2, 'g9402': 2, 'гель': 2, 'ultimate': 2, 'ecomatic': 2, 'cleaner': 2, 'испания': 2, '126109': 2, 'olive': 2, 'oil': 2, 'sideboard': 2, '56х86': 2, '5062': 2, '650': 2, 'abf135w': 2, 'цинерария': 2, 'серебряный': 2, 'клик': 2, 'лобулярий': 2, '4650091480302': 2, 'scab': 2, 'посудомоечный': 2, 'машина': 2, 'ludwik': 2, 'польша': 2, 'т33': 2, 'кекс': 2, 'диффенбахий': 2, 'постельный': 2, 'platinum': 2, 'пододеяльник': 2, '520132': 2, '114х37': 2, 'бязь': 2, '110х32': 2, 'королевский': 2, '40mt': 2, '4cf': 2, 'термостакан': 2, 'ракушка': 2, '69х39': 2, 'рондо': 2, 'элиз': 2, 'китай': 2, 'механический': 2, 'сб9': 2, 'работа': 2, 'airboard': 2, 'compact': 2, 'двойной': 2, 'бю1': 2, '701402ng': 2, 'защитный': 2, 'табурет': 2, 'l90': 2, 'ke': 2, '4442': 2, '701': 2, '2х2': 2, 'рояльный': 2, 'элатиор': 2, 'мясорубка': 2, '1512016': 2, 'apac': 2, 'сидней': 2, '81': 2, 'j8130': 2, '60х140х10': 2, '701403ag': 2, 'twist': 2, 'presea': 2, 'прямоуголный': 2, '120х150': 2, 'сепия': 2, '5514': 2, '213r11': 2, '04010a': 2, 'чпа': 2, '200х150': 2, 'зима': 2, 'alparaisa': 2, 'бронзовый': 2, '64': 2, 'mt355': 2, '3cf': 2, 'claudia': 2, 'jet006': 2, '20х30': 2, 'карин': 2, '6034': 2, 'l5079': 2, '1209020': 2, 'wt358': 2, 'арлета': 2, 'sintra': 2, '6039': 2, 'pack': 2, 'gloria': 2, 'pac036': 2, '40л': 2, '298': 2, 'бс': 2, 'тяжелый': 2, 'батарейка': 2, '200х180': 2, 'rw180': 2, 'подсолнух': 2, '115': 2, 'металический': 2, 'блюдце': 2, 'утро': 2, 'j3261': 2, 'беатрис': 2, 'c42f3m': 2, 'кустовой': 2, 'кения': 2, 'limited': 2, 'ag': 2, 'алоэ': 2, 'тефлон': 2, '11х9': 2, 'ц99h110v080': 2, '01339': 2, 'сциндапсус': 2, 'колибри': 2, 'больший': 2, 'j1762': 2, 'уголок': 2, 'шопен': 2, 'м2507': 2, '1404037': 2, 'муза': 2, '04': 2, 'мерный': 2, 'shine': 2, 'brabantia': 2, ',\\n': 2, 'de': 2, 'краник': 2, 'grape': 2, 'abs038': 2, 'берлин': 2, '72008': 2, 'просеиватель': 2, 'мука': 2, 'd27см': 2, 'rsb': 2, '3.6': 2, 'sc5ac24': 2, '5141': 2, 'медь': 2, '04711': 2, 'd41': 2, 'exclusive': 2, '67': 2, 'фиксатор': 2, 'tour': 2, '5х112см': 2, '1200006': 2, 'дл1': 2, 'эко': 2, 'рукоятка': 2, 'кб': 2, '35х28х19': 2, '1524002': 2, 'kangoo': 2, 'powder': 2, '122х152': 2, 'морской': 2, 'эмпилабль': 2, 'jet016': 2, '60х100х10': 2, 'forme': 2, 'delux': 2, 'пылесос': 2, 'сбор': 2, 'всасывание': 2, 'против': 2, 'тропик': 2, 'найт': 2, 'эхинокактус': 2, 'грузонь': 2, 'вакуумный': 2, 'мадрид': 2, '50х30х12': 2, '30х24х12': 2, '72019': 2, 'полоса': 2, '120x42': 2, 'dc42f3r': 2, 'фал': 2, 'hava': 2, 'jet029': 2, 'lois': 2, 'mono': 2, '2122': 2, 'duplo': 2, 'лилейник': 2, 'светло-лиловый': 2, 'стол': 2, '30x45': 2, '221': 2, 'химера': 2, 'поэма': 2, 'j1349': 2, 'сирень': 2, 'гипсофил': 2, 'аврора': 2, 'израиль': 2, 'токио': 2, '30х30х10': 2, '25х25х10': 2, '20х20х10': 2, '15х15х10': 2, '72007': 2, '105': 2, 'голдни': 2, 'селебрейшен': 2, 'roma': 2, ' & ': 2, 'классика': 2, 'родничок': 2, 'о': 2, 'vita': 2, '3d': 2, 'гиацинт': 2, 'top': 2, 'moving': 2, 'укроп': 2, 'обильнолистный': 2, '4660010772562': 2, 'балконный': 2, '4660010772531': 2, 'незабудка': 2, 'дюна': 2, 'валя': 2, '4660010775433': 2, 'барлоу': 2, 'эквадор': 2, 'retro': 2, '5758': 2, '5881': 2, 'bassi': 2, 'пакет': 2, 'petit': 2, 'сб8': 2, 'валенсия': 2, 'середина': 2, 'фильтр': 2, 'георгин': 2, 'любимец': 2, '4059': 2, 'стандартный': 2, 'колумбия': 2, 'тип': 2, 'afd028': 2, 'freeflow': 2, '700': 2, 'барселона': 2, '28х28х15': 2, '23х23х15': 2, '17х17х15': 2, '72009': 2, 'h2776': 2, 'фазенда': 2, 'пц2311злпр': 2, 'neo': 2, 'открытый': 2, 'попсокс': 2, 'цитриодорус': 2, 'прострэйт': 2, 'колосистый': 2, 'блюдо': 2, 'конья': 2, '354': 2, '54372b': 2, 'лайм': 2, '5974': 2, 'рио': 2, '5х21х10': 2, '72005': 2, '6040': 2, 'пепельница': 2, 'подметание': 2, 'bloomtastic': 2, 'рифленый': 2, '51120': 2, 'peva': 2, 'полиэтилен': 2, 'папоротник': 2, 'страусник': 2, 'мускад': 2, 'касаживать': 2, '76': 2, 'болгарский': 2, 'лидер': 2, 'лимбо': 2, 'керио': 2, '3646': 2, 'wicked': 2, 'wich': 2, 'powerslide': 2, '40х20': 2, '51520': 2, 'василек': 2, 'анемон': 2, 'казачка': 2, '1703019': 2, 'вкрапление': 2, 'резьба': 2, 'дрова': 2, 'дачный': 2, 'белорусский': 2, 'сибирячка': 2, 'колобок': 2, 'фаворит': 2, 'splash': 2, 'свет': 2, 'застольный': 2, '4660010775419': 2, 'этп3': 2, 'з': 2, 'квин': 2, 'силач': 2, 'максим': 2, 'триколор': 2, 'хуторянка': 2, 'тряпкодержатель': 2, '1804015': 2, 'gn': 2, '1гр': 2, '66161': 2, 'девичий': 2, 'пятилисточковый': 2, 'бельевой': 2, 'легенда': 2, 'тарасенко': 2, '91': 2, 'цилиндрический': 2, 'table': 2, '97': 2, '78': 2, 'капля': 2, '51': 2, 'мэризол': 2, 'куба': 2, 'канарейка': 2, 'тигр': 2, 'болгарск': 2, 'хала': 2, 'qeen': 2, 'of': 2, 'hearts': 2, '4311001': 2, 'premium': 2, 'мари': 2, 'москвичка': 2, '93': 2, 'пушистый': 2, 'кумато': 2, '49': 2, 'графити': 2, 'бугельный': 2, 'слава': 2, 'confetti': 2, 'mysweetheart': 2, 'цинерания': 2, 'колеус': 2, 'crazy': 2, 'маяк': 2, 'аргирантерум': 2, 'night': 2, 'strawberry': 2, 'ice': 2, 'baby': 2, 'doll': 2, 'свитуний': 2, 'johnny': 2, 'flame': 2, 'сердцевина': 2, 'темно': 2, 'дихондр': 2, 'вероника': 2, 'колосковый': 2, 'гребенчатый': 2, 'диск': 2, 'брокколи': 2, 'фортуна': 2, 'спэйниш': 2, 'персей': 2, 'амазонка': 2, 'жемчужина': 2, 'виолетта': 2, 'конни': 2, 'атос': 2, 'хилариса': 2, 'лемон': 2, 'фатсия': 2, 'paola': 2, '102': 2, 'портос': 2, 'сосновский': 2, 'скворушка': 2, 'ранний': 2, 'малахит': 2, 'лампион': 2, 'алтай': 2, 'альфа': 2, 'бренди': 2, 'tvs': 2, 'монард': 2, 'кадриль': 2, 'тряпка': 2, 'травянистый': 2, 'осина': 2, 'сакура': 2, 'слуга': 2, 'сосна': 2, '822502': 2, '5698': 2, 'эден': 2, 'скальный': 2, 'лен': 2, 'небесный': 2, 'лазурь': 2, 'тенистый': 2, 'прессованный': 2, '278': 2, '30х60': 2, 'шпагат': 2, 'ктекс': 2, '57373': 2, '1804049': 2, 'sсovo': 2, '1502081': 2, 'wtd180': 2, 'extra': 2, '350s': 2, 'бидон': 2, 'imx004': 2, 'лантан': 2, 'клен': 2, 'лидия': 2, 'девочка': 2, 'нежный': 2, '03619': 2, '885': 2, 'x64': 2, 'flower': 2, 'st798': 2, 'класс': 2, 'плюс': 2, '123304': 2, 'акрил': 2, 'прямой': 2, 'ahr141': 2, 'от': 2, 'стерилизация': 2, '1514008': 2, 'speed': 2, 'ярус': 2, 'atos': 2, 'telefix': 2, 'сахарница': 2, 'blade': 2, 'dm9247': 2, 'g110at4w': 2, 'профилактика': 2, 'заболевание': 2, 'десна': 2, 'kobayashi': 2, 'кипарис': 2, 'береза': 2, 'япония': 2, '4987072072752': 2, 'комбинировать': 2, '1209024': 2, 'защита': 2, 'рука': 2, 'darwin': 2, 'hammered': 2, '11х8': 2, '1015330': 2, 'соковарка': 2, 'жаклин': 2, 'тефлоновый': 2, 'dressfix': 2, '140х40': 2, 'жасмин': 2, '72328': 2, 'рим': 2, 'двуспальный': 2, 'салат': 2, 'рукол': 2, '4.5': 2, 'shaggy': 2, '70х100см': 2, '603001': 2, '003': 2, 'jet027': 2, 'family': 2, 'прямостоячий': 2, 'g110l04w': 2, 'березка': 2, '40х13х16': 2, 'радермахер': 1, 'хризолидокарпус': 1, 'лутесценс': 1, 'юкка': 1, 'нитчатый': 1, 'водолей': 1, 'с614': 1, '1404056': 1, 'ahs331': 1, 'рожковый': 1, 'металлик': 1, '1110027': 1, 'm2880': 1, '26gl': 1, '0039a': 1, '26n': 1, 'lg17085': 1, '3см': 1, 'scr30': 1, 't9': 1, 'rp8': 1, 'gp8': 1, 'nm90': 1, 'xj210': 1, 'фиц': 1, '25см': 1, 'g9547': 1, 'malibu': 1, 'фарфор': 1, '47х12': 1, '1001768': 1, 'котел': 1, 'балезино': 1, '1502050': 1, 'суккулент': 1, 'пиноккио': 1, 'r102312': 1, 'adp410': 1, '45х75см': 1, 'рельефный': 1, 'cr005': 1, 'гамбург': 1, '2шт': 1, '500мл': 1, 'h5072': 1, 'village': 1, 'street': 1, '50х107': 1, '4663': 1, '1712010': 1, '12х6': 1, '8х1': 1, '5275': 1, 'дампьер': 1, '260': 1, 'h7939': 1, 'tz90': 1, 'cr30': 1, 'g60': 1, 'y': 1, 'ванная': 1, 'bowl': 1, 'полистирол': 1, '14х16': 1, '1014964': 1, 'cuadro': 1, 'mh': 1, 'jet019': 1, 'wt355': 1, '185х240': 1, 'wp184': 1, 'айленд': 1, 'адиантум': 1, 'лиза': 1, '120х180см': 1, 'рр214': 1, '07034': 1, '4302': 1, '301': 1, 'livingstep': 1, 'jean': 1, '107х30': 1, 'картофель': 1, 'proline': 1, '03032': 1, 'готовый': 1, 'dia': 1, 'rm90': 1, 'бутылка': 1, 'натуральный': 1, '0473': 1, '0003': 1, 'тп': 1, '1404042': 1, '2776': 1, '1404043': 1, '4шт': 1, 'dscn4061': 1, '5030': 1, 's300': 1, 'тройной': 1, '1110182': 1, 'офелия': 1, '50х80см': 1, 'ntbm50804050': 1, '5755': 1, 'ricko': 1, '5м': 1, 'rk': 1, 'кампануть': 1, 'двухцветный': 1, 'противень': 1, '340х240х25': 1, '052': 1, '1503028': 1, '90х120': 1, 'k041': 1, '38х63': 1, '4630005366090': 1, 'wp44': 1, ' ) \"': 1, 'нолина': 1, '1107014': 1, 'космо': 1, 'tuscan': 1, 'wine': 1, '4660': 1, 'одри': 1, 'дв1о': 1, '24gl': 1, '28gl': 1, '6226': 1, 'вкладыш': 1, 'cm': 1, 'lg17056': 1, '5068': 1, 'серо-голубой': 1, 'турбореживать': 1, 'чистить': 1, 'крем': 1, 'трудновыводимый': 1, 'lemon': 1, 'stain': 1, 'remover': 1, 'индонезия': 1, '8998866106207': 1, 'биопорошок': 1, 'bonsai': 1, 'концентрировать': 1, '4607974420573': 1, 'индия': 1, 'зигзаг': 1, '6204': 1, '520135': 1, 'смахивание': 1, '0528': 1, 'sv3182': 1, '1807009': 1, 'утюжок': 1, 'миди': 1, 'standart': 1, 'g1126': 1, 'светильник': 1, 'led': 1, 'лампа': 1, 'светодиодный': 1, 'сенсорный': 1, 'диммер': 1, '0004': 1, 'perfectolight': 1, '60х95': 1, 'eve4214': 1, 'ea1104': 1, 'платье': 1, 'неткать': 1, '135': 1, '360135': 1, 'пена': 1, 'хвойный': 1, 'пихта': 1, '900': 1, '4620757212424': 1, '4620757212370': 1, '350х170': 1, 'м2506': 1, '1404091': 1, 'мерка': 1, '1404028': 1, '1404038': 1, 'с203': 1, '1404039': 1, '520125': 1, 'aquamarin': 1, 'st12': 1, 'adm125': 1, '6862060': 1, '0512262': 1, '6862080': 1, '0512263': 1, 'свереть': 1, '6867540': 1, '0512261': 1, 'са5': 1, '160х60': 1, 'abu004': 1, 'orion': 1, 'profiline': 1, 'solid': 1, '0514': 1, '089': 1, 'rainbow': 1, 'хромировать': 1, '201': 1, '5х55х93': 1, 'эффект': 1, 'отбеливание': 1, 'кофейный': 1, 'никотиновый': 1, '603849': 1, 'smokers': 1, '8850002805040': 1, 'whitening': 1, '8850002805064': 1, 'тонкий': 1, 'нарезка': 1, 'пилообразный': 1, '2082': 1, 'с202': 1, '1404052': 1, 'мейер': 1, 'молодило': 1, 'тобаго': 1, 'мерседес': 1, 'кристалл': 1, '1050767': 1, 'venise': 1, '4007036': 1, '547': 1, '535': 1, 'см4': 1, 'textilebox': 1, '34x20x13': 1, '03003': 1, 'палубный': 1, '215х80х20': 1, '1801088': 1, '1620': 1, 'стп2': 1, 'c1350': 1, 'd960': 1, 'dscn3579': 1, 'наматрасник': 1, 'wm180': 1, '4607101067749': 1, 'пластмасса': 1, '0703': 1, '0065': 1, 'tempo': 1, 'r105816': 1, 'r810001': 1, 'наматрицник': 1, 'стебель': 1, 'сб': 1, 'бамбуковый': 1, 'молочный': 1, '38х15': 1, '7054sb': 1, 'грязеулавливающий': 1, 'finger': 1, 'молния': 1, '5х20': 1, '5х13': 1, 'bb211': 1, 'ls': 1, 'lm': 1, '5884': 1, '5877': 1, 'tamara': 1, '125x42': 1, 'ahm791': 1, 'форест': 1, 'h7239': 1, 'полукруглый': 1, 'розетт': 1, '20657': 1, 'ножеточка': 1, 'рыбка': 1, '1519028': 1, 'раскрытый': 1, 'камушек': 1, 'транспарент': 1, '5187': 1, 'venezia': 1, 'нд': 1, ', (': 1, '751': 1, '1408004': 1, 'масленка': 1, 'коровка': 1, '17см': 1, '73115': 1, 'stabilo': 1, '0503': 1, 'se': 1, 'хоми': 1, '124х40': 1, 'abh010': 1, '1301031': 1, '1205037': 1, 'ванда': 1, '6001': 1, '5528': 1, '6023': 1, 'in': 1, 'traditional': 1, 'j2402': 1, 'j2397': 1, 'h3386': 1, 'чп2': 1, '040': 1, 'блин': 1, '1503020': 1, 'redstone': 1, '4651': 1, 'aberdeen': 1, '4395': 1, 'stonehedge': 1, '4652': 1, 'steel': 1, 'abs017': 1, 'h3557': 1, 'h3556': 1, 'h3558': 1, '152х228': 1, '5789': 1, '1209002': 1, 'mou041': 1, 'rd6': 1, 'гео': 1, '5см': 1, 'рейнбоу': 1, 'j5978': 1, 'текстильная180х200': 1, '3003': 1, 'рябина': 1, 'reffil': 1, 'utimate': 1, 'облепиха': 1, '8809193042321': 1, '48х23': 1, '7057gc': 1, '1216396': 1, 'росспласт': 1, 'ажур': 1, 'рп': 1, '813': 1, 'престиж': 1, 'g6207': 1, '20734': 1, 'abb004': 1, '265': 1, 'm2': 1, '2000000168616': 1, 'линейка': 1, 'rgl': 1, '14387': 1, '8x12': 1, '14386': 1, 'аллюр': 1, 'g5747': 1, 'g5544': 1, '81570': 1, '87х157х55': 1, 'bab008': 1, 'beach': 1, 'and': 1, 'bubbles': 1, '130x45': 1, '71596': 1, '048': 1, 'гармония': 1, '335': 1, '32х70': 1, '4630005362832': 1, 'салфетница': 1, 'хромированный': 1, '0293': 1, 'шампанский': 1, 'френч': 1, 'брассери': 1, '170мл': 1, 'h9452': 1, 'td2': 1, 'td3': 1, 'лабиринт': 1, 'напиток': 1, '05с1262': 1, '235': 1, 'касабланка': 1, '51258b': 1, 'agb110': 1, '1205156': 1, '1606': 1, 'ф13': 1, '005l': 1, 'приготовление': 1, 'глазунья': 1, 'c452': 1, 'прорезь': 1, 'agb111': 1, 'имитация': 1, 'd3700': 1, 'gobi': 1, '120х70': 1, '1012778': 1, 'альбук': 1, 'спиралиса': 1, 'фризлый': 1, 'сизл': 1, 'овощечистка': 1, 'плавать': 1, 'лезвие': 1, '03151': 1, 'оват': 1, 'flexinett': 1, 'r212585': 1, 'сантехнический': 1, 'антикальций': 1, '4660015923266': 1, 'артемизия': 1, 'полынь': 1, 'горький': 1, '4666': 1, '90х42': 1, 'vatl': 1, 'att101': 1, 'imperial': 1, '5174': 1, 'полировка': 1, 'гои': 1, 'стрела': 1, 'пс': 1, 'рыбинск': 1, '1104019': 1, '171': 1, 'wh': 1, '5785': 1, 'mickey': 1, '4811': 1, 't7': 1, '211': 1, 'rl': 1, '0071': 1, 'мыльный': 1, 'пузырь': 1, '1206155': 1, 'туалетный': 1, 'бумага': 1, 'с373': 1, '1713006': 1, '520124': 1, '1506085': 1, 'соломка': 1, '20135': 1, 'aruba': 1, 'губка': 1, 'eh3599': 1, 'r105817': 1, '137х60х10': 1, '107h': 1, '150x65': 1, 'mhe017': 1, 'подкроватный': 1, '80х40х15': 1, '28040': 1, '1712002': 1, '6222': 1, '04754': 1, 'цепочка': 1, '1206157': 1, 'мультя': 1, '10м': 1, '1002010520027': 1, 'adm110': 1, 'романтик': 1, 'j7900': 1, 'фен': 1, '0904': 1, '1400': 1, '1003': 1, 'hsp394': 1, 'водоросль': 1, '5919': 1, 'вн3': 1, 'самоклеять': 1, '1110008': 1, '\"': 1, 'h125': 1, 'l2858': 1, 'l6417': 1, 'l6415': 1, 'g9834': 1, 'рапсоди': 1, 'h8728': 1, 'j1392': 1, 'колорама': 1, 'рэд': 1, 'j7772': 1, 'j2113': 1, 'l2857': 1, 'сердечко': 1, 'дсг55029146': 1, 'полар': 1, 'файр': 1, 'калоцефалус': 1, 'брауни': 1, 'крашеный': 1, 'осенний': 1, 'хлор': 1, 'ддля': 1, 'сантехника': 1, 'другой': 1, '4660015923228': 1, 'соланум': 1, '200г': 1, 'мелис': 1, 'капсикум': 1, 'каллун': 1, 'герлс': 1, 'трехцветный': 1, 'posh': 1, 'one': 1, 'magnum': 1, '828': 1, '4580390': 1, '927058': 1, 'жесткий': 1, 'леопард': 1, 'lb301': 1, '1502074': 1, '1205155': 1, 'clear': 1, '* (': 1, 'слой': 1, '1205060': 1, 'блок': 1, 'r160071': 1, 'r510100': 1, '8150': 1, '507': 1, 'l50': 1, 'император': 1, '06707': 1, 'e5181': 1, 'виски': 1, 'карат': 1, '52885в': 1, 'тб': 1, '1210036': 1, 'ушко': 1, 'домик': 1, '1205251': 1, 'ретро': 1, 'дв1р': 1, 'каскад': 1, '4660010772784': 1, 'бархатцы': 1, 'веселый': 1, 'полянка': 1, '4660010777505': 1, 'драгоценность': 1, '4660010773316': 1, 'сладость': 1, '4660010775921': 1, 'очаровашка': 1, '4660010779578': 1, 'засолочный': 1, '4660010776102': 1, 'jet010': 1, 'шило': 1, 'утолщать': 1, '1205083': 1, '132х177': 1, '4022': 1, 'сб2б': 1, 'siluet': 1, 'cream': 1, 'ahn271': 1, 'jw': 1, 'сыпучий': 1, 'вкладка': 1, '0л': 1, '10мр': 1, '0001': 1, 'x59': 1, 'стк2': 1, 'g9399': 1, 'николь': 1, '1518024': 1, '285': 1, '38м': 1, '1519022': 1, '318': 1, 'гурман': 1, '14м': 1, '1519009': 1, '305': 1, '36м': 1, '1519003': 1, 'akf522': 1, 'ножницы': 1, 'орехокол': 1, '5208': 1, 'bleach': 1, '4660015923273': 1, '0368': 1, 'лавандовый': 1, 'мятный': 1, '339': 1, 'картофелемялка': 1, '1531002': 1, 'ароматизированный': 1, 'дудаление': 1, 'ржавчина': 1, '4660015923235': 1, 'бальзам': 1, 'ecosoda': 1, '044684': 1, 'ступенька': 1, 'abf100g': 1, 'эшшольция': 1, 'карминный': 1, '4660010770193': 1, '4660010770797': 1, 'друммонд': 1, '4650091480401': 1, 'волшебный': 1, '4660010779639': 1, 'кэнди': 1, 'страйп': 1, '4650091480272': 1, 'огненный': 1, '4650091480616': 1, 'клюквенный': 1, '4660010770421': 1, 'толла': 1, '4650091480258': 1, '4650091480234': 1, 'сюрпрайз': 1, '4650091480203': 1, 'годеция': 1, 'рембранд': 1, '4650091480128': 1, 'турецкий': 1, 'роковый': 1, '4660010773231': 1, '90h171v140': 1, '01014': 1, 'нордик': 1, '380мл': 1, 'h8502': 1, '1002': 1, 'stiro': 1, 'рассекатель': 1, 'газовый': 1, 'плита': 1, 'an8032': 1, 'ополаскиватель': 1, '5900861242715': 1, 'глажение': 1, 'ява': 1, 'ртк26': 1, '45х65': 1, '1200023': 1, '0037a': 1, '22n': 1, 'оля': 1, '1807010': 1, 'шенилл': 1, 'birhome': 1, 'valentin': 1, '240х260': 1, '9234567089661': 1, '299': 1, 'ч': 1, 'рр114': 1, '01019': 1, '4343': 1, 'wooden': 1, 'abb017': 1, 'с299': 1, '1704006': 1, 'pino': 1, '63747': 1, 'r185': 1, 'авеню': 1, '180х214': 1, '200х214': 1, 'kalven': 1, '260x260': 1, '8681914002162': 1, 'd3': 1, 'paco': 1, 'душевая': 1, 'кабина': 1, '4819': 1, 'sfera': 1, '4833': 1, '706': 1, '1535005': 1, 'бк1': 1, 'h8437': 1, '195': 1, '215': 1, 'микроволокно': 1, '17т': 1, '0034': 1, 'сб6': 1, 'двухъярусный': 1, 'скоба': 1, 'рс': 1, 'трибатрон': 1, '1108035': 1, 'подсолнечник': 1, 'низкорослый': 1, 'пуансетия': 1, '1506084': 1, 'пресс': 1, 'western': 1, 'agw050': 1, 'кашимый': 1, 'g9324': 1, 'примус': 1, '1203048': 1, 'лаура': 1, 'sv3020': 1, '6030': 1, 'гиностемма': 1, 'камешек': 1, '5520': 1, 'кипарисовик': 1, 'лавсон': 1, 'элвуди': 1, 'каучуковый': 1, 'p01': 1, 'фиорино': 1, 'g8487': 1, 'adp618': 1, 'дельта': 1, '2017': 1, '1205224': 1, '1404022': 1, 'палас': 1, 'рр120': 1, '343': 1, '100х60х10': 1, '106h': 1, 'ведерко': 1, 'мыльница': 1, 'м2221': 1, '1702010': 1, 'quadrifoglio': 1, '4809': 1, '5730': 1, 'натура': 1, '6223': 1, 'свинюшка': 1, 'грязюшко': 1, '71630': 1, 'adria': 1, '72708': 1, 'усиленный': 1, 'дюраль': 1, '1110015': 1, 'cervoise': 1, '320мл': 1, 'g3775': 1, 'экран': 1, 'дуршлаг': 1, 'силикон': 1, '0341s': 1, 'функция': 1, 'plb025l': 1, \"'/\": 1, 'pt00234': 1, '36х71': 1, '5526': 1, 'оксид': 1, '545': 1, '1103066': 1, 'вена': 1, 'счв107': 1, 'j1299': 1, 'oasis': 1, 'dm9634': 1, 'saint': 1, 'germain': 1, 'dm9638': 1, '1212': 1, 'farandole': 1, 'dm9635': 1, 'сельма': 1, '220мл': 1, 'g9434': 1, 'vrtw': 1, 'маг': 1, '1206002': 1, 'wplny152': 1, 'loreta': 1, 'golf': 1, 'hl': 1, 'фоторамка': 1, 'фотография': 1, '43х42': 1, 'с31': 1, '017': 1, 'узкий': 1, 'эт2': 1, 'j0276': 1, '6163': 1, '135х46': 1, 'abt044': 1, '1404055': 1, '1209004': 1, '21013': 1, 'скиммия': 1, 'рубелла': 1, 'спренжери': 1, 'завтрак': 1, 'rd0030': 1, 'st': 1, 'g1988': 1, 'оаэ': 1, 'шампанское': 1, 'даймонд': 1, 'g5208': 1, 'пористый': 1, 'd022': 1, 'g0688': 1, '350х175': 1, 'mlo357': 1, 'st387': 1, 'кондиционер': 1, 'sandokkaebi': 1, 'soft': 1, 'aroma': 1, 'aqua': 1, 'свежесть': 1, 'флакон': 1, '2100': 1, '8801353': 1, '003494': 1, 'бабочка': 1, '550': 1, 'ф16': 1, '013l': 1, '04009a': 1, 'четыре': 1, 'разъемный': 1, '18b30': 1, 'вп6с': 1, 'svb': 1, '1000h': 1, 'major': 1, 'tech': 1, '4126': 1, '150х130': 1, 'wplny135': 1, 'свweddel': 1, 'виниловый': 1, 'тисненый': 1, '137х182': 1, 'водонепроницаемый': 1, 'тд5': 1, '0077': 1, 'электроштопор': 1, '?': 1, '4хаа': 1, '71000': 1, '46х76': 1, 'drifted': 1, 'изменчивость': 1, '5007': 1, 'alpine': 1, 'wrought': 1, '4649': 1, 'colour': 1, '2х': 1, '2022r': 1, '2122r': 1, 'l5078': 1, 'history': 1, 'exp': 1, '5л': 1, 'черепаха': 1, '5538': 1, 'механизм': 1, '5х23х1': 1, 'romantic': 1, 'rm': 1, '16601s': 1, '029': 1, 'юбка': 1, '10.5': 1, '121b11': 1, '60х100х104': 1, 'ia': 1, '-\\n': 1, '4356200': 1, 'фиттоний': 1, 'скелетон': 1, '300х145': 1, 'ml304': 1, 'лейс': 1, 'waridi': 1, 'томрис': 1, 'лондон': 1, '27х27х10': 1, '23х23х10': 1, '72000': 1, 'бульонница': 1, 'мистигря': 1, 'j8770': 1, '5024': 1, '1518004': 1, 'nika': 1, 'hp1t': 1, 'родос': 1, 'subati': 1, 'flowers': 1, 'м5202': 1, 'ва': 1, '506': 1, 'ключница': 1, 'картина': 1, '35х30': 1, 'granite': 1, 'abx111': 1, 'porto': 1, '1033938': 1, 'т30': 1, 'пароварка': 1, 'картонный': 1, '30х20х15': 1, '9741': 1, 'клубок': 1, 'пряжа': 1, '5550': 1, 'r181900': 1, 'герметичный': 1, '092': 1, 'дымчатый': 1, 'соус': 1, 'ots131505': 1, '000': 1, 'фикус': 1, 'каучуконосный': 1, 'эластик': 1, 'абиджан': 1, 'мариса': 1, 'j7687': 1, 'соль': 1, '5900861242227': 1, 'гипоаллергенный': 1, 'концентрированный': 1, 'vpk': 1, '8809473130144': 1, 'м1552': 1, '1714003': 1, '150х120': 1, 'wt125': 1, 'куэн': 1, 'coffee': 1, '45x75': 1, '5420': 1, 'антискользящий': 1, '50320': 1, '180х150': 1, 'wto185': 1, '11600': 1, 'rings': 1, '1015184': 1, 'шампань': 1, '1015640': 1, 'модульный': 1, '298264': 1, 'simfony': 1, '1255': 1, 'одноуровневый': 1, '7х30': 1, '6х72': 1, '03977': 1, '856': 1, 'fabrikators': 1, 'ko2pu': 1, '6031': 1, 'imx001': 1, 'fortress': 1, 'acf622': 1, 'hermes': 1, 'luxe': 1, '010c': 1, '202st': 1, 'конек': 1, 'тс': 1, '277': 1, 'edition': 1, 'feet': 1, '1103055': 1, '132': 1, '5923': 1, '1110136': 1, 'bigbin': 1, 'swing': 1, '0845': 1, 'прямоугольная152х228': 1, '5140': 1, 'niveau': 1, '71325': 1, 'ксе': 1, 'мужчина': 1, 'дв1м': 1, '4620757211700': 1, '1110132': 1, 'stockholm': 1, 'classico': 1, ' ( ': 1, ' ) ': 1, '1530018': 1, '70х35': 1, '1дсж1': 1, 'йот': 1, 'комфорт': 1, 'вк6с': 1, 'r212608': 1, 'кодонант': 1, '21717': 1, 'добро': 1, 'пожаловать': 1, '6008': 1, '36х36х30': 1, '4c': 1, 'инж': 1, '224414': 1, 'быстрый': 1, 'жировой': 1, 'загрязнение': 1, '4660015923259': 1, 'r500028': 1, 'доминик': 1, '05322': 1, '877': 1, 'дивали': 1, 'd7358': 1, 'grown': 1, '45х125': 1, 'сити': 1, '223712': 1, 'j2132': 1, 'пикассо': 1, 'europa': 1, '21738f6ec': 1, '5953': 1, 'син': 1, 'l0886': 1, 'шэйдс': 1, 'h8401': 1, '52002': 1, 'дл2': 1, 'волна': 1, '52000': 1, '40x60': 1, 'рр105': 1, '01001': 1, 'эл': 1, \"'\": 1, 'cadesi': 1, 'hurrem': 1, '50х60': 1, 'вырез': 1, '315602': 1, 'велад': 1, 'l7997': 1, 'plata': 1, '701003ag': 1, 'lily': 1, 'tracery': 1, 'adl021': 1, '20920': 1, 'марля': 1, 'h9184': 1, 'гимнокалициум': 1, '6043': 1, '35348r': 1, '4.4': 1, '15537': 1, 'нетканый': 1, 'рулон': 1, 'eh4967': 1, 'бк2': 1, '0835': 1, '1600': 1, 'systema': 1, 'tartar': 1, 'образование': 1, 'камень': 1, '616764': 1, '4356000': 1, '204': 1, 'крокат': 1, 'ots161560': 1, '005': 1, 'orsini': 1, '1013512': 1, '04002a': 1, '37х58см': 1, 'asb386': 1, 'фита': 1, '315': 1, '34х35': 1, '4630005367202': 1, 'hello': 1, 'bonjour': 1, 'ciao': 1, 'ковровый': 1, '4658': 1, '20w': 1, 'h2258': 1, 'mats': 1, '5079': 1, '380': 1, '1206007': 1, '60х30': 1, 'промой': 1, 'expert': 1, '1503008': 1, 'ч2': 1, 'капроновый': 1, 'бухта': 1, '300м': 1, '1201050': 1, 'аlpenkok': 1, '6062s': 1, 'орехоколка': 1, 'viva': 1, 'atv600': 1, 'bright': 1, 'short': 1, 'вульгарис': 1, 'компактус': 1, 'отантик': 1, 'h8388': 1, 'alu': 1, 'увлажнять': 1, 'маска': 1, 'brown': 1, 'rice': 1, 'moisture': 1, '330': 1, '599928': 1, 'темно-серый': 1, '38х59': 1, '2х27': 1, 'napa': 1, 'ampari': 1, 'рт9061слроз': 1, '10рs': 1, 'сб2': 1, 'pickwick': 1, 'fabric': 1, '3656': 1, '64х38': 1, 'элий': 1, '42х28': 1, 'фреш': 1, 'amsterdam': 1, '40х30х24': 1, '04730': 1, 'm35': 1, '90x60': 1, 'sc4ac20': 1, 'серо-зеленый': 1, '31004': 1, '13s': 1, 'колетт': 1, 'императрица': 1, '1404046': 1, 'погружной': 1, '5061': 1, 'скорость': 1, 'эпипремнум': 1, 'b0058r': 1, 'vileda': 1, 'wring': 1, 'turbo': 1, '151153': 1, 'педальный': 1, 'сувенир': 1, 'd23': 1, 'иктерин': 1, '35х21х1': 1, 'а023': 1, '4543': 1, 'стрес': 1, 'женский': 1, 'алина': 1, 'нефролепис': 1, 'бостон': 1, 'медок': 1, '4660010776423': 1, 'барон': 1, 'солемахер': 1, '4660010775556': 1, '4650091480340': 1, 'амброзия': 1, '4660010772616': 1, 'юник': 1, 'ecuatorian': 1, '2238': 1, 'яблоневый': 1, 'louvre': 1, 'бахромчатый': 1, 'dry': 1, '55237': 1, 'штангенциркуль': 1, 'точность': 1, '3015515': 1, '0910007': 1, 'горошек': 1, 'ц099h145v110': 1, '01321': 1, 'pep001': 1, 'скраб': 1, 'мочалка': 1, 'люфа': 1, 'мандала': 1, 'около': 1, 'mountain': 1, 'mou076': 1, 'пуэбло': 1, 'корать': 1, '69883': 1, 'елочка': 1, 'удобрение': 1, 'prato': 1, '6029': 1, 'сн120': 1, 'karo': 1, 'полиакрил': 1, '1013110': 1, 'valensia': 1, '123х45': 1, 'нв1': 1, 'pearl': 1, 'скалка': 1, 'lekue': 1, '0200800m02u050': 1, '755': 1, 'подошва': 1, 'самоочистка': 1, 'паровой': 1, 'удар': 1, '7218': 1, '5570': 1, 'perfo': 1, 'midi': 1, '702': 1, 'прецизионный': 1, 'напильник': 1, 'двухкомпонентный': 1, 'lijo': 1, '6x': 1, '15240': 1, '1703003': 1, 'rattan': 1, '01704': 1, '500603': 1, '48х8': 1, '3.2': 1, '15552': 1, '4351107': 1, '1014625': 1, 'imx006': 1, 'ранункулус': 1, 'клуня': 1, 'ханой': 1, '3+': 1, 'н3': 1, 'бело-розовый': 1, '1015652': 1, 'монако': 1, 'h5124': 1, 'руно': 1, 'подмосковье': 1, 'фламинго': 1, 'челнок': 1, 'венчик': 1, 'хохломской': 1, 'роспись': 1, '1522013': 1, 'geoflora': 1, 'сито': 1, '7335': 1, 'бак': 1, '0744': 1, 'труднодоступный': 1, 'место': 1, 'r510075': 1, '1209057': 1, 'avex0759': 1, '0018': 1, '5979': 1, 'fly': 1, '1013539': 1, 'надверный': 1, 'нота': 1, 'внд': 1, '310': 1, 'а034': 1, '4545': 1, '81704': 1, '75х155х44': 1, 'многоцветковый': 1, 'ода': 1, 'g0707': 1, 'альто': 1, 'j1749': 1, 'нт11': 1, 'концентрат': 1, 'россиякорея': 1, '049320': 1, '6038s': 1, '; ': 1, 'ahs725': 1, '51010': 1, 'тортница': 1, '00416': 1, 'засор': 1, 'система': 1, 'водопровод': 1, 'антизасор': 1, '4660015923303': 1, 'хааг': 1, 'олд': 1, 'мехико': 1, '4650091480456': 1, 'ацтек': 1, 'бургунди': 1, '4650091480739': 1, 'смолевка': 1, 'звездный': 1, 'взрыв': 1, '4650091480630': 1, '4660010770414': 1, '4650091480562': 1, 'лимонад': 1, '4650091480500': 1, '4650091480746': 1, '4650091480579': 1, '4650091480555': 1, 'эа': 1, 'кологна': 1, 'крымский': 1, 'пастернак': 1, 'торх': 1, 'almira': 1, 'crispa': 1, 'aura': 1, 'эхинацея': 1, 'растопыривать': 1, 'травянка': 1, 'пц2211лм': 1, 'паровыпускной': 1, 'клапан': 1, '70х27х40': 1, '3011': 1, '2506кп': 1, '1506082': 1, '83': 1, '38см': 1, 'па022': 1, 'новий': 1, 'turflor': 1, 'зефир': 1, 'забава': 1, 'рк': 1, '0402м': 1, 'открытимый': 1, 'rolserjet': 1, 'иоген': 1, '77': 1, 'ола': 1, '96': 1, 'эфемер': 1, '121': 1, '30х20': 1, '51316': 1, 'bio': 1, '1024106': 1, 'rue': 1, 'papillion': 1, '3026': 1, '3640': 1, 'рогатый': 1, 'высокорослый': 1, 'платикодон': 1, 'энотера': 1, 'миссурийский': 1, '0831': 1, '1300': 1, 'adf1205': 1, 'ivory': 1, 'agi030': 1, 'royal': 1, '166': 1, '60х250': 1, 'с06': 1, 'picobello': 1, 'strong': 1, '33': 1, '57030': 1, '40020': 1, 'суперэкзотика': 1, '109': 1, 'хурма': 1, 'барао': 1, 'джессика': 1, 'аделин': 1, '30см': 1, 'tornado': 1, 'цитрофортунелла': 1, 'кумкват': 1, 'штамбовый': 1, 'пеперомия': 1, 'сб8б': 1, 'двухуровневый': 1, 'max': 1, '&': 1, '4х': 1, '2024': 1, '2124': 1, '701003cb': 1, 'dressetta': 1, '41000': 1, 'great': 1, 'грейта': 1, 'старый': 1, 'вим': 1, 'рина': 1, 'ремонтантный': 1, 'гранд': 1, 'нга': 1, 'синнингия': 1, 'metro': 1, '5910': 1, 'орхидея': 1, 'r190237': 1, 'валера': 1, 'канестрин': 1, '4660010773323': 1, '4660010770520': 1, 'суприма': 1, '4650091480227': 1, 'анна': 1, '225': 1, 'лунный': 1, '4660010779660': 1, 'орхидный': 1, '4650091480692': 1, 'solo': 1, 'light': 1, '35х115': 1, '2151': 1, 'цимбопогон': 1, 'лемонграсс': 1, 'тусканный': 1, 'хамаекипарисус': 1, 'наматрацник': 1, 'бб': 1, 'угол': 1, '1404062': 1, 't142': 1, 'темостеганый': 1, '140х205': 1, '4690659000306': 1, 'автоматический': 1, '51114': 1, 'mnb019': 1, 'g96010': 1, 'казацкий': 1, 'колоновидный': 1, 'джалп': 1, 'дисней': 1, 'микки': 1, 'колорс': 1, 'l2127': 1, 'валентина': 1, 'р6м5': 1, 'хвостик': 1, 'гост': 1, '10902': 1, '0512195': 1, 'надежда': 1, 'гудмен': 1, '8+': 1, 'хромой': 1, '1108349': 1, 'h2783': 1, 'd13': 1, 'жилка': 1, 'перцевидный': 1, '62': 1, 'черниченский': 1, '116': 1, '118': 1, 'голубика': 1, 'амурский': 1, 'минни': 1, 'h6441': 1, 'magenta': 1, 'halo': 1, 'пион': 1, '5527': 1, 'c34f3': 1, 'мускарь': 1, 'hj': 1, '1119': 1, 'милена': 1, '5820': 1, 'роджеро': 1, '104': 1, 'примарь': 1, 'колорзой': 1, '98': 1, 'фейерверк': 1, '114': 1, 'шахерезад': 1, '84': 1, 'ширли': 1, 'сердцевидный': 1, 'южный': 1, 'вечер': 1, 'пиретрум': 1, 'робинсон': 1, 'абрикос': 1, 'абрикосовый': 1, 'брендивайн': 1, 'абруццо': 1, 'грейпфрут': 1, 'ручей': 1, 'вернисаж': 1, 'jar500': 1, 'универс': 1, 'галс': 1, '1404057': 1, 'victoria': 1, 'агератум': 1, 'гелихризум': 1, 'мелкоцветковый': 1, 'муррайя': 1, 'глория': 1, 'радиаторный': 1, '1807007': 1, 'h7012': 1, '83100': 1, '5512': 1, 'левка': 1, 'gem': 1, 'crazytunia': 1, 'pulse': 1, 'bordeaux': 1, 'калибрахой': 1, 'snowberry': 1, 'd0503se': 1, 'белокочанный': 1, '3170': 1, 'home': 1, 'art': 1, 'tango': 1, 'рв322': 1, 'afd020': 1, 'мангольд': 1, 'кибица': 1, 'маттиола': 1, 'ночной': 1, '4660010770506': 1, 'fuhcsia': 1, 'ярко-розовый': 1, 'холодок': 1, 'бейби': 1, 'самурай': 1, 'мара': 1, 'буа': 1, 'клерить': 1, 'альба': 1, 'спас': 1, '749': 1, '753': 1, 'награда': 1, 'московский': 1, 'кучерявец': 1, 'стимул': 1, 'лук': 1, 'порей': 1, 'победитель': 1, 'амтаман': 1, 'грибовский': 1, 'н11': 1, 'джункус': 1, 'пенсил': 1, 'грасс': 1, 'россиянка': 1, 'реванш': 1, 'бандед': 1, 'амазон': 1, 'арбузик': 1, 'драцена': 1, 'фрагранс': 1, 'компакт': 1, 'найф': 1, 'g110at3w': 1, 'par015': 1, 'mandarina': 1, 'g110l03w': 1, 'мадонна': 1, 'аргентинский': 1, 'сливка': 1, 'есаул': 1, 'магнат': 1, 'эдельвейс': 1, 'булка': 1, '12х11': 1, 'imx002': 1, '100х65': 1, 'mhl06': 1, 'хоста': 1, '426беж': 1, 'ракета': 1, 'смайлик': 1, 'арамис': 1, 'дабла': 1, 'делайт': 1, 'сердолик': 1, 'грандесса': 1, 'государь': 1, 'боярский': 1, 'багратион': 1, 'аристократ': 1, 'rs50': 1, 'pro': 1, 'akl113': 1, 'бьянка': 1, 'вок': 1, '4l10520': 1, 'якорь': 1, 'даша': 1, 'тоффи': 1, 'greenrose': 1, 'тачка': 1, 'e9131': 1, 'h1496': 1, '6033': 1, '154': 1, '179х90х42': 1, '120х180': 1, 'с07': 1, 'рудбекия': 1, 'тайгер': 1, 'бергамо': 1, 'гайлардий': 1, 'валик': 1, 'вмм': 1, 'мех': 1, '0703011': 1, 'компактум': 1, 'дно': 1, 'фт': 1, '2рд': 1, 'r213414': 1, 'обувница': 1, 'квадро': 1, '70000001в': 1, 'снsapfir': 1, 'очиток': 1, 'видный': 1, 'кристина': 1, 'барвинок': 1, 'r214025': 1, '214х150': 1, 'rq150': 1, 'кармен': 1, 'папилон': 1, 'r211985': 1, 'молодить': 1, 'сн45': 1, 'вельсофт': 1, 'вышивка': 1, 'damask': 1, '200x220': 1, '9234567038126': 1, 'ahn261': 1, 'mld': 1, 'эстель': 1, 'биг': 1, 'перпл': 1, 'эдванс': 1, 'солидаго': 1, 'физостегия': 1, 'вергинский': 1, 'дежавю': 1, 'мими': 1, 'тауэр': 1, 'альпийский': 1, 'бузульник': 1, 'пржевальский': 1, 'кленолистный': 1, 'парфюм': 1, 'дипп': 1, 'ватер': 1, 'плетистый': 1, 'шванензей': 1, 'амнезия': 1, 'зонтик': 1, 'брюссельский': 1, '760': 1, 'jar760': 1, 'бадан': 1, 'сердцелистный': 1, 'balzo': 1, '762': 1, '3885': 1, 'p48': 1, '4607101069088': 1, 'антинакипин': 1, 'ампула': 1, 'un': 1, 'momento': 1, '4627096350107': 1, '60х50х35': 1, 'aa003': 1, '4314108': 1, 'plegamatic': 1, 'orbita': 1, 'gloriaфиолетовая': 1, 'ple055': 1, 'plegable': 1, 'h4702': 1, '1.0': 1, '100м': 1, 'бобина': 1, 'размотка': 1, 'изнутри': 1, '1201143': 1, '1110212': 1, '055': 1, 'deluxe': 1, '81530': 1, 'лион': 1, 'вязь': 1, '2060': 1, '0503sel': 1, '1505027': 1, 'магда': 1, 'h8579': 1, 'ahm751': 1, '5х53': 1, '83305': 1, 'сотейник': 1, 'хo': 1, '4l324242915201': 1, 'd14': 1, '0522': 1, 'н9': 1, 'вл869': 1, 'ahs711': 1, '36х140': 1, 'шарик': 1, '1103068': 1, 'ободок': 1, '7010': 1, 'rotor': 1, '821679': 1, '5700': 1, 'аспенный': 1, 'h4121': 1, 'atlas': 1, '120x200': 1, '4005719': 1, 'нобилис': 1, '1401118': 1, 'shadow': 1, 'строуберри': 1, 'бэррис': 1, 'энд': 1, 'крим': 1, 'грэйпфрут': 1, 'пуф': 1, 'пожарный': 1, 'машинка': 1, '55х26х31': 1, 'ot00285': 1, 'лаватер': 1, 'монт': 1, 'блан': 1, '4660010778588': 1, 'анастасия': 1, '20gr': 1, 'цветочный': 1, 'ливия': 1, 'm3140': 1, 'магнитогорск': 1, '1301016': 1, 'e4': 1, 'курительный': 1, 'юбилейный': 1, '142': 1, 'нектар': 1, 'любисток': 1, 'удалец': 1, 'мовир': 1, '74': 1, 'марвести': 1, 'сеазонс': 1, 'змееголовник': 1, 'молдавский': 1, 'горыныч': 1, 'валериана': 1, 'кардиола': 1, 'буддлей': 1, 'вейер': 1, 'teleclip': 1, '83304': 1, '5872': 1, 'корзинка': 1, 'amelia': 1, '401': 1, '115х30': 1, 'ваза': 1, 'g5541': 1, '5885': 1, 'свк102': 1, 'крупноплодный': 1, 'летний': 1, 'солнце': 1, '92': 1, 'закусочный': 1, 'изумруд': 1, 'вигна': 1, 'лилиана': 1, '1406003': 1, '064м': 1, '1502013': 1, 'удлиненный': 1, 'r190236': 1, 'a4': 1, '00778': 1, 'врезной': 1, 'почта': 1, '1205250': 1, 'хамедорей': 1, 'элк': 1, '20826': 1, '5374': 1, 'j1754': 1, '1110137': 1, 'белоруссия': 1, '1404049': 1, 'favori': 1, 'level': 1, 'впт11б': 1, 'spring': 1, 'prestige': 1, '9603': 1, 'z027': 1, 'calma': 1, 'киви': 1, '1014468': 1, 'bambus': 1, '1042057': 1, 'focus': 1, '1014213': 1, 'гриб': 1, '4314103': 1, '1404075': 1, 'рд': 1, '00055': 1, '33х24х1': 1, 'four': 1, '1016269': 1, 'азур': 1, 'z029': 1, 'g1529': 1, 'вельвет': 1, 'джэк': 1, 'румба': 1, 'аква': 1, 'блекнуть': 1, 'бакар': 1, 'сатин': 1, 'wpl152': 1, 'перфорировать': 1, '04742': 1, ') , ': 1, '1201013': 1, '427беж': 1, 'отделитель': 1, 'косточка': 1, '37200': 1, '31003': 1, '12s': 1, '1329': 1, 'mаrylin': 1, 'monroe': 1, 'долька': 1, 'поварской': 1, 'циркониевый': 1, 'ак': 1, '2062к': 1, 'p46': 1, 'авто': 1, '4607101069064': 1, '1810064': 1, '85210': 1, 'linomatic': 1, 'v': 1, '175х237х237': 1, 'mnb017': 1, 'fucsia': 1, 'ect': 1, '14369': 1, 'пикник': 1, 'персона': 1, '4380940': 1, 'лауретта': 1, '21719': 1, 'пиано': 1, '6009': 1, '1.2': 1, 'ками': 1, 'груп': 1, '1201104': 1, 'шприц': 1, '0331': 1, 'g8494': 1, 't101': 1, '25кг': 1, 'импатиенс': 1, 'нью': 1, 'гвинея': 1, 'п67': 1, '98h98v060': 1, '01338': 1, 'cotton': 1, 'защелка': 1, '72322': 1, 'asteria': 1, '100101': 1, 'с125': 1, '1404040': 1, 'т125': 1, '30кг': 1, '125х40': 1, 'leifneit': 1, 'арт': 1, '72373': 1, 'ложноплатановый': 1, 'леопольди': 1, 'пластмасовой': 1, '5.0': 1, 'р1673': 1, '1524004': 1, 'trendy': 1, 'act033': 1, '60х24': 1, '3х60': 1, '3013': 1, '8л': 1, '21008': 1, '1201031': 1, 'варение': 1, '037': 1, '1502083': 1, 'hugo': 1, '1001951': 1, '95х55': 1, '1803003': 1, 'jea021': 1, '141': 1, 'кейс': 1, 'кузьмич': 1, 'ник': 1, 'гигиенический': 1, 'впитывание': 1, 'антибактериальный': 1, '40000': 1, 'avex0776': 1, 'rollquick': 1, '4.2': 1, '83006': 1, 'замиокулькас': 1, 'отбеливатель': 1, 'пероксоль': 1, '4670008040078': 1, '1401119': 1, 'ежевика': 1, 'дсг424020311': 1, '50х30': 1, 'амели': 1, '50х70см': 1, 'alb257': 1, 'море': 1, '821726': 1, '5701': 1, 'сальвадор': 1, '02.021': 1, '46х110': 1, 'авангард': 1, 'боннтяжелый': 1, 'слbonn': 1, 'юниор': 1, 'эль': 1, 'чурленис': 1, 'полина': 1, 'петух': 1, 'reflecta': 1, '140х45': 1, '72382': 1, 'sfumature': 1, '4834': 1, 'плектрантус': 1, 'завертка': 1, 'форточный': 1, '1108287': 1, 'мебельный': 1, '1108416': 1, 'чайно': 1, 'восточный': 1, 'край': 1, 'чиппендейл': 1, 'latex': 1, 'free': 1, 'аллергия': 1, '40039': 1, '200х220': 1, '9234567049108': 1, 'кралье': 1, '1209055': 1, 'амариллис': 1, 'с12128': 1, '1404093': 1, 'derby': 1, 'ass305': 1, '42х15': 1, 'гладкий': 1, '55037': 1, 'стейк': 1, 'akc034': 1, '1205107': 1, 'dusty': 1, '41510': 1, '041': 1, '1502076': 1, 'пьезозажигалка': 1, 'мультиискра': 1, 'тд1': 1, '005в': 1, '140х140': 1, 'ml144': 1, 'блистер': 1, '2235': 1, 'etna': 1, '5х9': 1, '1016116': 1, 'тутти-фрутти': 1, '30001': 1, '1502124': 1, '0399': 1, '2в': 1, 'дождь': 1, '5951': 1, 'э2п': 1, 'соковыжималка': 1, 'цитрусовый': 1, 'ots131421': 1, '3202': 1, '34х34': 1, 'дакка': 1, 'r20030a': 1, 'внт3': 1, 'решетка': 1, 'вентиляционный': 1, 'золото': 1, '17х17': 1, '1710035': 1, 'запасный': 1, 'черно-белый': 1, '1021464': 1, 'сыр': 1, '03148': 1, 'plush': 1, 'vanilla': 1, 'нейлон': 1, '60х102': 1, 'ванильный': 1, '4683': 1, 'fc': 1, '51001d': 1, '214': 1, 'rp200': 1, 'ваниль': 1, '21560': 1, 'персия': 1, 'бордо': 1, '5606': 1, 'камилла': 1, 'гжель': 1, 'дракон': 1, 'земляничный': 1, 'суфле': 1, 'катенька': 1, 'катюша': 1, 'мотив': 1, '2252d': 1, 'fine': 1, 'специальный': 1, '40026': 1, 'bora': 1, 'n': 1, 'jet007': 1, '100х100': 1, '1109038': 1, 'сицилия': 1, '4660010772852': 1, 'дикий': 1, 'оливетта': 1, '4660010776898': 1, '4660010776553': 1, 'см5': 1, 'мисс': 1, 'джесоп': 1, 'evec0085': 1, '3201': 1, '36х57': 1, '5795': 1, 'лить': 1, 'чин': 1, 'хедер': 1, 'листва': 1, 'rosette': 1, 'adr131': 1, 'рязанский': 1, 'капелла': 1, 'siena': 1, '81151': 1, '35х30х33': 1, '00274': 1, 't37': 1, 'x66': 1, 'кафель': 1, 'паркет': 1, 'макси': 1, 'витнетта': 1, 'r212766': 1, '370': 1, '370v': 1, '1428': 1, '5667': 1, 'зола': 1, '1805003': 1, 'трубочка': 1, 'мяч': 1, 'jar501': 1, 'trio': 1, '0706': 1, 'половник': 1, 'agb305': 1, '30х40х25': 1, 'asb425': 1, 'татьяна': 1, 'вальс': 1, 'август': 1, 'луиза': 1, 'т31': 1, '56710': 1, 'wilmax': 1, 'wl': 1, '996004': 1, 'w185': 1, 'фимако': 1, 'плетеный': 1, 'хлеб': 1, 'кусок': 1, '13х10': 1, 'stabil': 1, '71816': 1, 'кипятильник': 1, '2.5': 1, 'квт': 1, '1601143': 1, '4096': 1, '1107054': 1, 'т28': 1, 'короткий': 1, '100х60': 1, 'хелло': 1, 'китти': 1, 'h5479': 1, 'briz': 1, 'сн': 1, 'ск80': 1, 'складываться': 1, 'parquet': 1, '75x45': 1, 'amc075': 1, 'rosella': 1, 'темно-фиолетовый': 1, 'нежно-розовый': 1, 'ahm781': 1, 'пахира': 1, 'акватик': 1, 'мультисть': 1, '1410': 1, 'пуховый': 1, 'пух': 1, '4607101064199': 1, 'ампельнвя': 1, 'pollicino': 1, '73x32': 1, '1404088': 1, 'эмалировать': 1, '1624': 1, '1506037': 1, 'сатиновый': 1, 'полутороспальный': 1, 'rpe150': 1, 'дримс': 1, '150х214': 1, 'влажный': 1, 'сухой': 1, '40002': 1, 'st460': 1, 'традесканция': 1, 'фанк': 1, 'лк': 1, 'f': 1, 'lk': 1, '40х40': 1, 'wr44t': 1, 'mnb012': 1, '8040': 1, '707': 1, 'xxl': 1, 'графитовый': 1, '686': 1, 'st797': 1, 'гранит': 1, '12см': 1, 'n6615': 1, 'luminar': 1, 'marmo': 1, '6027': 1, 'бутылочный': 1, 'y64': 1, '1807002': 1, 'пес': 1, '21417': 1, 'основание': 1, '1601164': 1, 'пекин': 1, '95х17': 1, '5х16': 1, '72017': 1, 'пластиков': 1, '1535026': 1, '108266': 1, 'резинопластиковый': 1, '1402018': 1, 'юпитер': 1, '02.012': 1, '38х38х60': 1, '5х38': 1, 'севилья': 1, 'шпингалет': 1, '1102188': 1, '5567': 1, 'freudenberg': 1, 'varadero': 1, 'a4p': 1, 'литопс': 1})\n"
     ]
    }
   ],
   "source": [
    "from collections import Counter\n",
    "print(Counter(all_lemmas))"
   ]
  },
  {
   "cell_type": "code",
   "execution_count": 67,
   "metadata": {},
   "outputs": [],
   "source": [
    "classification_dict = {\n",
    "    'хозтовары': ['сумка', 'термометр', 'сушилка', 'тележка', 'гладильная', 'гладильный', 'таз', 'искусственный',\n",
    "                 'прищепка', 'муляж', 'сиденье', 'шнур', 'чехол', 'крышка', 'вешалка', 'крючок', 'корзина',\n",
    "                 'полка', 'щетка', 'ерш', 'прищепок', 'прищепки', 'дозатор', 'шпингалет', 'мусорный', 'урна', 'перчатка', 'швабра',\n",
    "                 'салфетка', 'ведро', 'плечики', 'мусор', 'ткань', 'кофр', 'светильник', 'мыло', 'пена'],\n",
    "    'рассада': ['рассада'], \n",
    "    'растения': ['пеларгония', 'петуния', 'калибрахоа', 'бакопа', 'радермахер', 'растение', 'хризолидокарпус', 'циперус', 'литопс', 'мимоза',\n",
    "                'патиссон', 'герань', 'роза', 'шеффлер', 'юкка', 'эвкалипт', 'фиалка', 'каланхое', 'эхеверие', 'мирт', 'мединилла'\n",
    "                'лавр', 'суккулент', 'адиантум', 'тимьян', 'хлорофитум', 'душица', 'кампанула', 'калатея', 'кампатунь', 'нолина',\n",
    "                'цикламен', 'нолина', 'мята', 'кампануть', 'глоксиния', 'азалия', 'гортензия', 'хризантема', 'эхинокактус',\n",
    "                'зверобой', 'фуксия', 'пуантесия', 'кориандр', 'иссоп', 'сантолина', 'аспарагус', 'пуансеттия', 'пахира'], \n",
    "    'текстиль': ['коврик', 'белье', 'штора', 'полотенце', 'плед', 'скатерть', 'ковер', 'простыня', 'подушка', 'одеяло'],\n",
    "    'стройка': ['лестница', 'стремянка', 'стяжка', 'пробка', 'крепеж', 'пружина', 'петля', 'сварка', 'сверло'],\n",
    "    'кухня': ['luminarc', 'чайник', 'сковорода', 'вилка', 'ложка', 'нож', 'кастрюля', 'толкушка', 'стакан', 'противень', 'салатник',\n",
    "              'мука', 'кухня', 'миксер', 'термокружка', 'tepмокружка', 'посуда', 'термокружок', 'яйцо', 'кипятильник', 'сахарница']    \n",
    "}"
   ]
  },
  {
   "cell_type": "code",
   "execution_count": 68,
   "metadata": {},
   "outputs": [
    {
     "data": {
      "text/plain": [
       "хозтовары    1528\n",
       "растения     1308\n",
       "прочее        855\n",
       "рассада       595\n",
       "текстиль      250\n",
       "кухня         211\n",
       "стройка        70\n",
       "Name: product_type, dtype: int64"
      ]
     },
     "execution_count": 68,
     "metadata": {},
     "output_type": "execute_result"
    }
   ],
   "source": [
    "def classify(product_lemmas):\n",
    "    #\"\"\"Классификация названия продукта product по категориям словаря classification_dict\"\"\"\n",
    "    for category, items_list in classification_dict.items():\n",
    "        for item in items_list:\n",
    "            if item in product_lemmas:\n",
    "                return category\n",
    "    \n",
    "    return 'прочее'\n",
    "\n",
    "df['product_type'] = df['product_lemmas'].apply(classify)\n",
    "\n",
    "\n",
    "df['product_type'].value_counts()"
   ]
  },
  {
   "cell_type": "markdown",
   "metadata": {},
   "source": [
    "Больше всего товаров было продано в категории \"хозтовары\""
   ]
  },
  {
   "cell_type": "markdown",
   "metadata": {},
   "source": [
    "#### 2.7.1 Определить  количетсво товаров из каждой категории;"
   ]
  },
  {
   "cell_type": "code",
   "execution_count": 69,
   "metadata": {},
   "outputs": [
    {
     "data": {
      "text/plain": [
       "product_type\n",
       "хозтовары    774\n",
       "прочее       592\n",
       "растения     337\n",
       "рассада      221\n",
       "текстиль     189\n",
       "кухня        176\n",
       "стройка       52\n",
       "Name: product, dtype: int64"
      ]
     },
     "execution_count": 69,
     "metadata": {},
     "output_type": "execute_result"
    }
   ],
   "source": [
    "df.groupby('product_type')['product'].nunique().sort_values(ascending=False)"
   ]
  },
  {
   "cell_type": "markdown",
   "metadata": {},
   "source": [
    "Больше всего уникальных товаров было продано в категории хозтовары. Есть категории, в ассортимент которых ниже, но товаров продается больше. "
   ]
  },
  {
   "cell_type": "code",
   "execution_count": 70,
   "metadata": {},
   "outputs": [],
   "source": [
    "df_type_sales = df['product_type'].value_counts().reset_index()\\\n",
    "    .merge(df.groupby('product_type')['product'].nunique().reset_index(),\n",
    "           left_on='index', right_on='product_type')\n",
    "\n",
    "df_type_sales = df_type_sales.drop(['product_type_y'], axis=1)\n",
    "df_type_sales.columns = ['product_type', 'sales', 'items']\n",
    "df_type_sales['sales/items'] = df_type_sales['sales'] / df_type_sales['items']"
   ]
  },
  {
   "cell_type": "code",
   "execution_count": 71,
   "metadata": {},
   "outputs": [
    {
     "data": {
      "text/html": [
       "<div>\n",
       "<style scoped>\n",
       "    .dataframe tbody tr th:only-of-type {\n",
       "        vertical-align: middle;\n",
       "    }\n",
       "\n",
       "    .dataframe tbody tr th {\n",
       "        vertical-align: top;\n",
       "    }\n",
       "\n",
       "    .dataframe thead th {\n",
       "        text-align: right;\n",
       "    }\n",
       "</style>\n",
       "<table border=\"1\" class=\"dataframe\">\n",
       "  <thead>\n",
       "    <tr style=\"text-align: right;\">\n",
       "      <th></th>\n",
       "      <th>product_type</th>\n",
       "      <th>sales</th>\n",
       "      <th>items</th>\n",
       "      <th>sales/items</th>\n",
       "    </tr>\n",
       "  </thead>\n",
       "  <tbody>\n",
       "    <tr>\n",
       "      <th>0</th>\n",
       "      <td>хозтовары</td>\n",
       "      <td>1528</td>\n",
       "      <td>774</td>\n",
       "      <td>1.974160</td>\n",
       "    </tr>\n",
       "    <tr>\n",
       "      <th>1</th>\n",
       "      <td>растения</td>\n",
       "      <td>1308</td>\n",
       "      <td>337</td>\n",
       "      <td>3.881306</td>\n",
       "    </tr>\n",
       "    <tr>\n",
       "      <th>2</th>\n",
       "      <td>прочее</td>\n",
       "      <td>855</td>\n",
       "      <td>592</td>\n",
       "      <td>1.444257</td>\n",
       "    </tr>\n",
       "    <tr>\n",
       "      <th>3</th>\n",
       "      <td>рассада</td>\n",
       "      <td>595</td>\n",
       "      <td>221</td>\n",
       "      <td>2.692308</td>\n",
       "    </tr>\n",
       "    <tr>\n",
       "      <th>4</th>\n",
       "      <td>текстиль</td>\n",
       "      <td>250</td>\n",
       "      <td>189</td>\n",
       "      <td>1.322751</td>\n",
       "    </tr>\n",
       "    <tr>\n",
       "      <th>5</th>\n",
       "      <td>кухня</td>\n",
       "      <td>211</td>\n",
       "      <td>176</td>\n",
       "      <td>1.198864</td>\n",
       "    </tr>\n",
       "    <tr>\n",
       "      <th>6</th>\n",
       "      <td>стройка</td>\n",
       "      <td>70</td>\n",
       "      <td>52</td>\n",
       "      <td>1.346154</td>\n",
       "    </tr>\n",
       "  </tbody>\n",
       "</table>\n",
       "</div>"
      ],
      "text/plain": [
       "  product_type  sales  items  sales/items\n",
       "0    хозтовары   1528    774     1.974160\n",
       "1     растения   1308    337     3.881306\n",
       "2       прочее    855    592     1.444257\n",
       "3      рассада    595    221     2.692308\n",
       "4     текстиль    250    189     1.322751\n",
       "5        кухня    211    176     1.198864\n",
       "6      стройка     70     52     1.346154"
      ]
     },
     "execution_count": 71,
     "metadata": {},
     "output_type": "execute_result"
    }
   ],
   "source": [
    "df_type_sales"
   ]
  },
  {
   "cell_type": "code",
   "execution_count": 72,
   "metadata": {},
   "outputs": [
    {
     "data": {
      "image/png": "[encoded data removed]",
      "text/plain": [
       "<Figure size 432x288 with 1 Axes>"
      ]
     },
     "metadata": {
      "needs_background": "light"
     },
     "output_type": "display_data"
    }
   ],
   "source": [
    "df_type_sales.plot(x='product_type', y='sales/items', kind='bar')\n",
    "plt.title('Объем продаж на единицу товара')\n",
    "plt.show()"
   ]
  },
  {
   "cell_type": "markdown",
   "metadata": {},
   "source": [
    "В категории рассада в серднем приходится 2.7 продаж на одну единицу товара.\n",
    "\n",
    "В категории растения - 3.85;\n",
    "\n",
    "В категории хозтовары - 2;\n",
    "\n",
    "В категории прочее - 1.4.\n",
    "\n",
    "Меньше всего продаж на единицу товара приходится на категорию \"кухня\" - 1,2"
   ]
  },
  {
   "cell_type": "markdown",
   "metadata": {},
   "source": [
    "#### 2.7.2. Посмотреть средний чек по каждой категории, выручку, кол-во продаж; <a id=\"step2.7.2.\"></a>"
   ]
  },
  {
   "cell_type": "code",
   "execution_count": 73,
   "metadata": {
    "scrolled": true
   },
   "outputs": [
    {
     "data": {
      "text/html": [
       "<div>\n",
       "<style scoped>\n",
       "    .dataframe tbody tr th:only-of-type {\n",
       "        vertical-align: middle;\n",
       "    }\n",
       "\n",
       "    .dataframe tbody tr th {\n",
       "        vertical-align: top;\n",
       "    }\n",
       "\n",
       "    .dataframe thead th {\n",
       "        text-align: right;\n",
       "    }\n",
       "</style>\n",
       "<table border=\"1\" class=\"dataframe\">\n",
       "  <thead>\n",
       "    <tr style=\"text-align: right;\">\n",
       "      <th></th>\n",
       "      <th>index</th>\n",
       "      <th>date</th>\n",
       "      <th>customer_id</th>\n",
       "      <th>order_id</th>\n",
       "      <th>product</th>\n",
       "      <th>quantity</th>\n",
       "      <th>price</th>\n",
       "      <th>dt</th>\n",
       "      <th>month_year</th>\n",
       "      <th>month</th>\n",
       "      <th>year</th>\n",
       "      <th>hour</th>\n",
       "      <th>weekday</th>\n",
       "      <th>product_lemmas</th>\n",
       "      <th>product_type</th>\n",
       "    </tr>\n",
       "  </thead>\n",
       "  <tbody>\n",
       "    <tr>\n",
       "      <th>0</th>\n",
       "      <td>0</td>\n",
       "      <td>2018-10-01</td>\n",
       "      <td>ee47d746-6d2f-4d3c-9622-c31412542920</td>\n",
       "      <td>68477</td>\n",
       "      <td>комнатное растение в горшке алое вера, d12, h30</td>\n",
       "      <td>1</td>\n",
       "      <td>142.0</td>\n",
       "      <td>2018-10-01</td>\n",
       "      <td>2018-10-01</td>\n",
       "      <td>10</td>\n",
       "      <td>2018</td>\n",
       "      <td>0</td>\n",
       "      <td>0</td>\n",
       "      <td>[комнатный,  , растение,  , в,  , горшок,  , а...</td>\n",
       "      <td>растения</td>\n",
       "    </tr>\n",
       "    <tr>\n",
       "      <th>1</th>\n",
       "      <td>1</td>\n",
       "      <td>2018-10-01</td>\n",
       "      <td>ee47d746-6d2f-4d3c-9622-c31412542920</td>\n",
       "      <td>68477</td>\n",
       "      <td>комнатное растение в горшке кофе арабика, d12,...</td>\n",
       "      <td>1</td>\n",
       "      <td>194.0</td>\n",
       "      <td>2018-10-01</td>\n",
       "      <td>2018-10-01</td>\n",
       "      <td>10</td>\n",
       "      <td>2018</td>\n",
       "      <td>0</td>\n",
       "      <td>0</td>\n",
       "      <td>[комнатный,  , растение,  , в,  , горшок,  , к...</td>\n",
       "      <td>растения</td>\n",
       "    </tr>\n",
       "    <tr>\n",
       "      <th>2</th>\n",
       "      <td>2</td>\n",
       "      <td>2018-10-01</td>\n",
       "      <td>ee47d746-6d2f-4d3c-9622-c31412542920</td>\n",
       "      <td>68477</td>\n",
       "      <td>радермахера d-12 см h-20 см</td>\n",
       "      <td>1</td>\n",
       "      <td>112.0</td>\n",
       "      <td>2018-10-01</td>\n",
       "      <td>2018-10-01</td>\n",
       "      <td>10</td>\n",
       "      <td>2018</td>\n",
       "      <td>0</td>\n",
       "      <td>0</td>\n",
       "      <td>[радермахер,  , d, -, 12,  , см,  , h, -, 20, ...</td>\n",
       "      <td>растения</td>\n",
       "    </tr>\n",
       "    <tr>\n",
       "      <th>3</th>\n",
       "      <td>3</td>\n",
       "      <td>2018-10-01</td>\n",
       "      <td>ee47d746-6d2f-4d3c-9622-c31412542920</td>\n",
       "      <td>68477</td>\n",
       "      <td>хризолидокарпус лутесценс d-9 см</td>\n",
       "      <td>1</td>\n",
       "      <td>179.0</td>\n",
       "      <td>2018-10-01</td>\n",
       "      <td>2018-10-01</td>\n",
       "      <td>10</td>\n",
       "      <td>2018</td>\n",
       "      <td>0</td>\n",
       "      <td>0</td>\n",
       "      <td>[хризолидокарпус,  , лутесценс,  , d, -, 9,  ,...</td>\n",
       "      <td>растения</td>\n",
       "    </tr>\n",
       "    <tr>\n",
       "      <th>4</th>\n",
       "      <td>4</td>\n",
       "      <td>2018-10-01</td>\n",
       "      <td>ee47d746-6d2f-4d3c-9622-c31412542920</td>\n",
       "      <td>68477</td>\n",
       "      <td>циперус зумула d-12 см h-25 см</td>\n",
       "      <td>1</td>\n",
       "      <td>112.0</td>\n",
       "      <td>2018-10-01</td>\n",
       "      <td>2018-10-01</td>\n",
       "      <td>10</td>\n",
       "      <td>2018</td>\n",
       "      <td>0</td>\n",
       "      <td>0</td>\n",
       "      <td>[циперус,  , зумул,  , d, -, 12,  , см,  , h, ...</td>\n",
       "      <td>растения</td>\n",
       "    </tr>\n",
       "  </tbody>\n",
       "</table>\n",
       "</div>"
      ],
      "text/plain": [
       "   index       date                           customer_id  order_id  \\\n",
       "0      0 2018-10-01  ee47d746-6d2f-4d3c-9622-c31412542920     68477   \n",
       "1      1 2018-10-01  ee47d746-6d2f-4d3c-9622-c31412542920     68477   \n",
       "2      2 2018-10-01  ee47d746-6d2f-4d3c-9622-c31412542920     68477   \n",
       "3      3 2018-10-01  ee47d746-6d2f-4d3c-9622-c31412542920     68477   \n",
       "4      4 2018-10-01  ee47d746-6d2f-4d3c-9622-c31412542920     68477   \n",
       "\n",
       "                                             product  quantity  price  \\\n",
       "0    комнатное растение в горшке алое вера, d12, h30         1  142.0   \n",
       "1  комнатное растение в горшке кофе арабика, d12,...         1  194.0   \n",
       "2                        радермахера d-12 см h-20 см         1  112.0   \n",
       "3                   хризолидокарпус лутесценс d-9 см         1  179.0   \n",
       "4                     циперус зумула d-12 см h-25 см         1  112.0   \n",
       "\n",
       "          dt month_year  month  year  hour  weekday  \\\n",
       "0 2018-10-01 2018-10-01     10  2018     0        0   \n",
       "1 2018-10-01 2018-10-01     10  2018     0        0   \n",
       "2 2018-10-01 2018-10-01     10  2018     0        0   \n",
       "3 2018-10-01 2018-10-01     10  2018     0        0   \n",
       "4 2018-10-01 2018-10-01     10  2018     0        0   \n",
       "\n",
       "                                      product_lemmas product_type  \n",
       "0  [комнатный,  , растение,  , в,  , горшок,  , а...     растения  \n",
       "1  [комнатный,  , растение,  , в,  , горшок,  , к...     растения  \n",
       "2  [радермахер,  , d, -, 12,  , см,  , h, -, 20, ...     растения  \n",
       "3  [хризолидокарпус,  , лутесценс,  , d, -, 9,  ,...     растения  \n",
       "4  [циперус,  , зумул,  , d, -, 12,  , см,  , h, ...     растения  "
      ]
     },
     "execution_count": 73,
     "metadata": {},
     "output_type": "execute_result"
    }
   ],
   "source": [
    "df.head()"
   ]
  },
  {
   "cell_type": "code",
   "execution_count": 74,
   "metadata": {
    "scrolled": true
   },
   "outputs": [],
   "source": [
    "df_type_sales = df.groupby('product_type').agg({'price':'sum'}).reset_index().merge(df_type_sales, left_on='product_type', right_on='product_type')"
   ]
  },
  {
   "cell_type": "code",
   "execution_count": 75,
   "metadata": {},
   "outputs": [],
   "source": [
    "df_type_sales.columns = ['product_type', 'total_income', 'sales', 'items', 'sales/items']"
   ]
  },
  {
   "cell_type": "code",
   "execution_count": 76,
   "metadata": {
    "scrolled": true
   },
   "outputs": [
    {
     "data": {
      "text/html": [
       "<div>\n",
       "<style scoped>\n",
       "    .dataframe tbody tr th:only-of-type {\n",
       "        vertical-align: middle;\n",
       "    }\n",
       "\n",
       "    .dataframe tbody tr th {\n",
       "        vertical-align: top;\n",
       "    }\n",
       "\n",
       "    .dataframe thead th {\n",
       "        text-align: right;\n",
       "    }\n",
       "</style>\n",
       "<table border=\"1\" class=\"dataframe\">\n",
       "  <thead>\n",
       "    <tr style=\"text-align: right;\">\n",
       "      <th></th>\n",
       "      <th>product_type</th>\n",
       "      <th>total_income</th>\n",
       "      <th>sales</th>\n",
       "      <th>items</th>\n",
       "      <th>sales/items</th>\n",
       "      <th>avg_check</th>\n",
       "    </tr>\n",
       "  </thead>\n",
       "  <tbody>\n",
       "    <tr>\n",
       "      <th>0</th>\n",
       "      <td>кухня</td>\n",
       "      <td>84278.0</td>\n",
       "      <td>211</td>\n",
       "      <td>176</td>\n",
       "      <td>1.198864</td>\n",
       "      <td>399.421801</td>\n",
       "    </tr>\n",
       "    <tr>\n",
       "      <th>1</th>\n",
       "      <td>прочее</td>\n",
       "      <td>241383.0</td>\n",
       "      <td>855</td>\n",
       "      <td>592</td>\n",
       "      <td>1.444257</td>\n",
       "      <td>282.319298</td>\n",
       "    </tr>\n",
       "    <tr>\n",
       "      <th>2</th>\n",
       "      <td>рассада</td>\n",
       "      <td>73115.0</td>\n",
       "      <td>595</td>\n",
       "      <td>221</td>\n",
       "      <td>2.692308</td>\n",
       "      <td>122.882353</td>\n",
       "    </tr>\n",
       "    <tr>\n",
       "      <th>3</th>\n",
       "      <td>растения</td>\n",
       "      <td>211024.0</td>\n",
       "      <td>1308</td>\n",
       "      <td>337</td>\n",
       "      <td>3.881306</td>\n",
       "      <td>161.333333</td>\n",
       "    </tr>\n",
       "    <tr>\n",
       "      <th>4</th>\n",
       "      <td>стройка</td>\n",
       "      <td>106047.0</td>\n",
       "      <td>70</td>\n",
       "      <td>52</td>\n",
       "      <td>1.346154</td>\n",
       "      <td>1514.957143</td>\n",
       "    </tr>\n",
       "    <tr>\n",
       "      <th>5</th>\n",
       "      <td>текстиль</td>\n",
       "      <td>240256.0</td>\n",
       "      <td>250</td>\n",
       "      <td>189</td>\n",
       "      <td>1.322751</td>\n",
       "      <td>961.024000</td>\n",
       "    </tr>\n",
       "    <tr>\n",
       "      <th>6</th>\n",
       "      <td>хозтовары</td>\n",
       "      <td>1531043.0</td>\n",
       "      <td>1528</td>\n",
       "      <td>774</td>\n",
       "      <td>1.974160</td>\n",
       "      <td>1001.991492</td>\n",
       "    </tr>\n",
       "  </tbody>\n",
       "</table>\n",
       "</div>"
      ],
      "text/plain": [
       "  product_type  total_income  sales  items  sales/items    avg_check\n",
       "0        кухня       84278.0    211    176     1.198864   399.421801\n",
       "1       прочее      241383.0    855    592     1.444257   282.319298\n",
       "2      рассада       73115.0    595    221     2.692308   122.882353\n",
       "3     растения      211024.0   1308    337     3.881306   161.333333\n",
       "4      стройка      106047.0     70     52     1.346154  1514.957143\n",
       "5     текстиль      240256.0    250    189     1.322751   961.024000\n",
       "6    хозтовары     1531043.0   1528    774     1.974160  1001.991492"
      ]
     },
     "execution_count": 76,
     "metadata": {},
     "output_type": "execute_result"
    }
   ],
   "source": [
    "df_type_sales['avg_check'] = df_type_sales['total_income'] / df_type_sales['sales']\n",
    "df_type_sales"
   ]
  },
  {
   "cell_type": "code",
   "execution_count": 77,
   "metadata": {
    "scrolled": false
   },
   "outputs": [
    {
     "data": {
      "image/png": "[encoded data removed]",
      "text/plain": [
       "<Figure size 432x288 with 1 Axes>"
      ]
     },
     "metadata": {
      "needs_background": "light"
     },
     "output_type": "display_data"
    }
   ],
   "source": [
    "df_type_sales.plot(x='product_type', y='total_income', kind='bar')\n",
    "plt.title('Выручка по категориям')\n",
    "plt.show()"
   ]
  },
  {
   "cell_type": "code",
   "execution_count": 78,
   "metadata": {},
   "outputs": [
    {
     "data": {
      "image/png": "[encoded data removed]",
      "text/plain": [
       "<Figure size 432x288 with 1 Axes>"
      ]
     },
     "metadata": {
      "needs_background": "light"
     },
     "output_type": "display_data"
    }
   ],
   "source": [
    "df_type_sales.plot(x='product_type', y='sales', kind='bar')\n",
    "plt.title('Продажи по категориям')\n",
    "plt.show()"
   ]
  },
  {
   "cell_type": "code",
   "execution_count": 79,
   "metadata": {
    "scrolled": true
   },
   "outputs": [
    {
     "data": {
      "image/png": "[encoded data removed]",
      "text/plain": [
       "<Figure size 432x288 with 1 Axes>"
      ]
     },
     "metadata": {
      "needs_background": "light"
     },
     "output_type": "display_data"
    }
   ],
   "source": [
    "df_type_sales.plot(x='product_type', y='avg_check', kind='bar')\n",
    "plt.title('Средний чек по категориям')\n",
    "plt.show()"
   ]
  },
  {
   "cell_type": "markdown",
   "metadata": {},
   "source": [
    "Самый большой доход принесла категория - хозтовары, было продано 1478 едиинц товара, на общую сумму 1 496 987, категория обладает вторым по величине средним чеком - 1012.\n",
    "\n",
    "На втором месте по выручке категория - текстиль, было продано 284 едиинцы товара, на общую сумму 263 910, категория обладает третьим по величине средним чеком - 929\n",
    "\n",
    "Самый высокий средний чек у категории \"стройка\", но товаров было продано мало, всего 82, поэтому она принесла достаточно мало дохода - 117607.0.\n",
    "\n",
    "У категори \"рассада\" самый низкий средний чек - 122, не смотря на довольно внушительные объемы продаж - 595 единиц, у данной категории самамя низкая выручка.\n"
   ]
  },
  {
   "cell_type": "markdown",
   "metadata": {},
   "source": [
    "### ШАГ 3: Проверка гипотез "
   ]
  },
  {
   "cell_type": "markdown",
   "metadata": {},
   "source": [
    "#### 3.1. Проверить спрос на различные группы товаров в разные сезоны/месяцы;"
   ]
  },
  {
   "cell_type": "code",
   "execution_count": 80,
   "metadata": {
    "scrolled": false
   },
   "outputs": [
    {
     "data": {
      "text/plain": [
       "<matplotlib.axes._subplots.AxesSubplot at 0x11d58d1d0>"
      ]
     },
     "execution_count": 80,
     "metadata": {},
     "output_type": "execute_result"
    },
    {
     "data": {
      "image/png": "[encoded data removed]",
      "text/plain": [
       "<Figure size 864x720 with 1 Axes>"
      ]
     },
     "metadata": {
      "needs_background": "light"
     },
     "output_type": "display_data"
    }
   ],
   "source": [
    "df.pivot_table(index='month_year',\n",
    "              columns='product_type',\n",
    "              values='product',\n",
    "              aggfunc='count').plot(figsize=(12,10), title='График продаж категорий')"
   ]
  },
  {
   "cell_type": "code",
   "execution_count": 81,
   "metadata": {},
   "outputs": [
    {
     "data": {
      "text/plain": [
       "<matplotlib.axes._subplots.AxesSubplot at 0x11cec3150>"
      ]
     },
     "execution_count": 81,
     "metadata": {},
     "output_type": "execute_result"
    },
    {
     "data": {
      "image/png": "[encoded data removed]",
      "text/plain": [
       "<Figure size 864x720 with 1 Axes>"
      ]
     },
     "metadata": {
      "needs_background": "light"
     },
     "output_type": "display_data"
    }
   ],
   "source": [
    "df.pivot_table(index='month_year',\n",
    "              columns='product_type',\n",
    "              values='price',\n",
    "              aggfunc='sum').plot(figsize=(12,10), title='График выручки категорий')"
   ]
  },
  {
   "cell_type": "markdown",
   "metadata": {},
   "source": [
    "У растений и рассады есть выраженная сезонность. Продажи начинают расти в феврале, пик продаж приходится на май, после чего идет спад. Вероятно это связано с дачным сезоном.\n",
    "При этом в декабре никто не покупает рассаду, в отличие отрастений.\n",
    "\n",
    "Аналогичная сезонность наблюдается у товаров, попавших в катешгорию \"прочее\".\n",
    "\n",
    "Товары из категории \"хозтовары\" лучше продаются осенью. \n",
    "\n",
    "Продажи по остальным категориям относительно ровные за предоставленный период.\n",
    "\n",
    "Самую большую выручку приносят хозтовары. Падение выручки наблюдается в январе и в мае-июне;\n",
    "\n",
    "В декабре резко увеличивается выручка в категории “Прочее” .\n",
    "\n",
    "Выручка в категории “растения” и “рассада” растет с февраля по май;\n"
   ]
  },
  {
   "cell_type": "code",
   "execution_count": 82,
   "metadata": {},
   "outputs": [
    {
     "data": {
      "text/html": [
       "<div>\n",
       "<style scoped>\n",
       "    .dataframe tbody tr th:only-of-type {\n",
       "        vertical-align: middle;\n",
       "    }\n",
       "\n",
       "    .dataframe tbody tr th {\n",
       "        vertical-align: top;\n",
       "    }\n",
       "\n",
       "    .dataframe thead th {\n",
       "        text-align: right;\n",
       "    }\n",
       "</style>\n",
       "<table border=\"1\" class=\"dataframe\">\n",
       "  <thead>\n",
       "    <tr style=\"text-align: right;\">\n",
       "      <th>product_type</th>\n",
       "      <th>кухня</th>\n",
       "      <th>прочее</th>\n",
       "      <th>рассада</th>\n",
       "      <th>растения</th>\n",
       "      <th>стройка</th>\n",
       "      <th>текстиль</th>\n",
       "      <th>хозтовары</th>\n",
       "    </tr>\n",
       "    <tr>\n",
       "      <th>month_year</th>\n",
       "      <th></th>\n",
       "      <th></th>\n",
       "      <th></th>\n",
       "      <th></th>\n",
       "      <th></th>\n",
       "      <th></th>\n",
       "      <th></th>\n",
       "    </tr>\n",
       "  </thead>\n",
       "  <tbody>\n",
       "    <tr>\n",
       "      <th>2018-10-01</th>\n",
       "      <td>27.0</td>\n",
       "      <td>25.0</td>\n",
       "      <td>19.0</td>\n",
       "      <td>113.0</td>\n",
       "      <td>16.0</td>\n",
       "      <td>37.0</td>\n",
       "      <td>246.0</td>\n",
       "    </tr>\n",
       "    <tr>\n",
       "      <th>2018-11-01</th>\n",
       "      <td>46.0</td>\n",
       "      <td>59.0</td>\n",
       "      <td>5.0</td>\n",
       "      <td>85.0</td>\n",
       "      <td>5.0</td>\n",
       "      <td>33.0</td>\n",
       "      <td>195.0</td>\n",
       "    </tr>\n",
       "    <tr>\n",
       "      <th>2018-12-01</th>\n",
       "      <td>28.0</td>\n",
       "      <td>73.0</td>\n",
       "      <td>NaN</td>\n",
       "      <td>33.0</td>\n",
       "      <td>6.0</td>\n",
       "      <td>33.0</td>\n",
       "      <td>140.0</td>\n",
       "    </tr>\n",
       "    <tr>\n",
       "      <th>2019-01-01</th>\n",
       "      <td>18.0</td>\n",
       "      <td>22.0</td>\n",
       "      <td>2.0</td>\n",
       "      <td>37.0</td>\n",
       "      <td>6.0</td>\n",
       "      <td>22.0</td>\n",
       "      <td>76.0</td>\n",
       "    </tr>\n",
       "    <tr>\n",
       "      <th>2019-02-01</th>\n",
       "      <td>22.0</td>\n",
       "      <td>38.0</td>\n",
       "      <td>16.0</td>\n",
       "      <td>117.0</td>\n",
       "      <td>4.0</td>\n",
       "      <td>21.0</td>\n",
       "      <td>142.0</td>\n",
       "    </tr>\n",
       "    <tr>\n",
       "      <th>2019-03-01</th>\n",
       "      <td>13.0</td>\n",
       "      <td>78.0</td>\n",
       "      <td>34.0</td>\n",
       "      <td>165.0</td>\n",
       "      <td>1.0</td>\n",
       "      <td>14.0</td>\n",
       "      <td>106.0</td>\n",
       "    </tr>\n",
       "    <tr>\n",
       "      <th>2019-04-01</th>\n",
       "      <td>6.0</td>\n",
       "      <td>175.0</td>\n",
       "      <td>149.0</td>\n",
       "      <td>207.0</td>\n",
       "      <td>3.0</td>\n",
       "      <td>13.0</td>\n",
       "      <td>123.0</td>\n",
       "    </tr>\n",
       "    <tr>\n",
       "      <th>2019-05-01</th>\n",
       "      <td>10.0</td>\n",
       "      <td>146.0</td>\n",
       "      <td>297.0</td>\n",
       "      <td>211.0</td>\n",
       "      <td>6.0</td>\n",
       "      <td>5.0</td>\n",
       "      <td>54.0</td>\n",
       "    </tr>\n",
       "    <tr>\n",
       "      <th>2019-06-01</th>\n",
       "      <td>4.0</td>\n",
       "      <td>68.0</td>\n",
       "      <td>27.0</td>\n",
       "      <td>100.0</td>\n",
       "      <td>4.0</td>\n",
       "      <td>13.0</td>\n",
       "      <td>73.0</td>\n",
       "    </tr>\n",
       "    <tr>\n",
       "      <th>2019-07-01</th>\n",
       "      <td>6.0</td>\n",
       "      <td>83.0</td>\n",
       "      <td>27.0</td>\n",
       "      <td>75.0</td>\n",
       "      <td>5.0</td>\n",
       "      <td>18.0</td>\n",
       "      <td>98.0</td>\n",
       "    </tr>\n",
       "    <tr>\n",
       "      <th>2019-08-01</th>\n",
       "      <td>7.0</td>\n",
       "      <td>34.0</td>\n",
       "      <td>7.0</td>\n",
       "      <td>46.0</td>\n",
       "      <td>2.0</td>\n",
       "      <td>14.0</td>\n",
       "      <td>90.0</td>\n",
       "    </tr>\n",
       "    <tr>\n",
       "      <th>2019-09-01</th>\n",
       "      <td>11.0</td>\n",
       "      <td>45.0</td>\n",
       "      <td>11.0</td>\n",
       "      <td>53.0</td>\n",
       "      <td>2.0</td>\n",
       "      <td>15.0</td>\n",
       "      <td>82.0</td>\n",
       "    </tr>\n",
       "    <tr>\n",
       "      <th>2019-10-01</th>\n",
       "      <td>13.0</td>\n",
       "      <td>9.0</td>\n",
       "      <td>1.0</td>\n",
       "      <td>66.0</td>\n",
       "      <td>10.0</td>\n",
       "      <td>12.0</td>\n",
       "      <td>103.0</td>\n",
       "    </tr>\n",
       "  </tbody>\n",
       "</table>\n",
       "</div>"
      ],
      "text/plain": [
       "product_type  кухня  прочее  рассада  растения  стройка  текстиль  хозтовары\n",
       "month_year                                                                  \n",
       "2018-10-01     27.0    25.0     19.0     113.0     16.0      37.0      246.0\n",
       "2018-11-01     46.0    59.0      5.0      85.0      5.0      33.0      195.0\n",
       "2018-12-01     28.0    73.0      NaN      33.0      6.0      33.0      140.0\n",
       "2019-01-01     18.0    22.0      2.0      37.0      6.0      22.0       76.0\n",
       "2019-02-01     22.0    38.0     16.0     117.0      4.0      21.0      142.0\n",
       "2019-03-01     13.0    78.0     34.0     165.0      1.0      14.0      106.0\n",
       "2019-04-01      6.0   175.0    149.0     207.0      3.0      13.0      123.0\n",
       "2019-05-01     10.0   146.0    297.0     211.0      6.0       5.0       54.0\n",
       "2019-06-01      4.0    68.0     27.0     100.0      4.0      13.0       73.0\n",
       "2019-07-01      6.0    83.0     27.0      75.0      5.0      18.0       98.0\n",
       "2019-08-01      7.0    34.0      7.0      46.0      2.0      14.0       90.0\n",
       "2019-09-01     11.0    45.0     11.0      53.0      2.0      15.0       82.0\n",
       "2019-10-01     13.0     9.0      1.0      66.0     10.0      12.0      103.0"
      ]
     },
     "execution_count": 82,
     "metadata": {},
     "output_type": "execute_result"
    }
   ],
   "source": [
    "df.pivot_table(index='month_year',\n",
    "              columns='product_type',\n",
    "              values='product',\n",
    "              aggfunc='count')"
   ]
  },
  {
   "cell_type": "code",
   "execution_count": 83,
   "metadata": {
    "scrolled": false
   },
   "outputs": [
    {
     "name": "stderr",
     "output_type": "stream",
     "text": [
      "/usr/local/lib/python3.7/site-packages/numpy/core/_asarray.py:83: VisibleDeprecationWarning: Creating an ndarray from ragged nested sequences (which is a list-or-tuple of lists-or-tuples-or ndarrays with different lengths or shapes) is deprecated. If you meant to do this, you must specify 'dtype=object' when creating the ndarray\n",
      "  return array(a, dtype, copy=False, order=order)\n"
     ]
    },
    {
     "data": {
      "text/plain": [
       "<matplotlib.axes._subplots.AxesSubplot at 0x11cc35190>"
      ]
     },
     "execution_count": 83,
     "metadata": {},
     "output_type": "execute_result"
    },
    {
     "data": {
      "image/png": "[encoded data removed]",
      "text/plain": [
       "<Figure size 720x720 with 1 Axes>"
      ]
     },
     "metadata": {
      "needs_background": "light"
     },
     "output_type": "display_data"
    }
   ],
   "source": [
    "df.pivot_table(index='month_year',\n",
    "              columns='product_type',\n",
    "              values='product',\n",
    "              aggfunc='count').boxplot(figsize=(10,10))"
   ]
  },
  {
   "cell_type": "markdown",
   "metadata": {},
   "source": [
    "Для категории \"кухня\" нормальным значеним по продажам в месяц является - около 30 продаж в месяц;\n",
    "Для категории \"прочее\" нормальным значеним по продажам в месяц является - около 80 продаж в месяц;\n",
    "Для категории \"рассада\" нормальным значеним по продажам в месяц является - около 40 продаж в месяц;\n",
    "Для категории \"растения\" нормальным значеним по продажам в месяц является - около 220 продаж в месяц;\n",
    "Для категории \"стройка\" нормальным значеним по продажам в месяц является - около 15 продаж в месяц;\n",
    "Для категории \"текстиль\" нормальным значеним по продажам в месяц является - около 35 продаж в месяц;\n",
    "Для категории \"хозтовары\" нормальным значеним по продажам в месяц является - около 1900 продаж в месяц;\n",
    "\n"
   ]
  },
  {
   "cell_type": "markdown",
   "metadata": {},
   "source": [
    "#### 3.2. Проверить среднемесячные продажи по категориям"
   ]
  },
  {
   "cell_type": "code",
   "execution_count": 84,
   "metadata": {
    "scrolled": true
   },
   "outputs": [
    {
     "data": {
      "text/html": [
       "<div>\n",
       "<style scoped>\n",
       "    .dataframe tbody tr th:only-of-type {\n",
       "        vertical-align: middle;\n",
       "    }\n",
       "\n",
       "    .dataframe tbody tr th {\n",
       "        vertical-align: top;\n",
       "    }\n",
       "\n",
       "    .dataframe thead th {\n",
       "        text-align: right;\n",
       "    }\n",
       "</style>\n",
       "<table border=\"1\" class=\"dataframe\">\n",
       "  <thead>\n",
       "    <tr style=\"text-align: right;\">\n",
       "      <th>product_type</th>\n",
       "      <th>month_year</th>\n",
       "      <th>кухня</th>\n",
       "      <th>прочее</th>\n",
       "      <th>рассада</th>\n",
       "      <th>растения</th>\n",
       "      <th>стройка</th>\n",
       "      <th>текстиль</th>\n",
       "      <th>хозтовары</th>\n",
       "    </tr>\n",
       "  </thead>\n",
       "  <tbody>\n",
       "    <tr>\n",
       "      <th>0</th>\n",
       "      <td>2018-10-01</td>\n",
       "      <td>27.0</td>\n",
       "      <td>25.0</td>\n",
       "      <td>19.0</td>\n",
       "      <td>113.0</td>\n",
       "      <td>16.0</td>\n",
       "      <td>37.0</td>\n",
       "      <td>246.0</td>\n",
       "    </tr>\n",
       "    <tr>\n",
       "      <th>1</th>\n",
       "      <td>2018-11-01</td>\n",
       "      <td>46.0</td>\n",
       "      <td>59.0</td>\n",
       "      <td>5.0</td>\n",
       "      <td>85.0</td>\n",
       "      <td>5.0</td>\n",
       "      <td>33.0</td>\n",
       "      <td>195.0</td>\n",
       "    </tr>\n",
       "    <tr>\n",
       "      <th>2</th>\n",
       "      <td>2018-12-01</td>\n",
       "      <td>28.0</td>\n",
       "      <td>73.0</td>\n",
       "      <td>NaN</td>\n",
       "      <td>33.0</td>\n",
       "      <td>6.0</td>\n",
       "      <td>33.0</td>\n",
       "      <td>140.0</td>\n",
       "    </tr>\n",
       "    <tr>\n",
       "      <th>3</th>\n",
       "      <td>2019-01-01</td>\n",
       "      <td>18.0</td>\n",
       "      <td>22.0</td>\n",
       "      <td>2.0</td>\n",
       "      <td>37.0</td>\n",
       "      <td>6.0</td>\n",
       "      <td>22.0</td>\n",
       "      <td>76.0</td>\n",
       "    </tr>\n",
       "    <tr>\n",
       "      <th>4</th>\n",
       "      <td>2019-02-01</td>\n",
       "      <td>22.0</td>\n",
       "      <td>38.0</td>\n",
       "      <td>16.0</td>\n",
       "      <td>117.0</td>\n",
       "      <td>4.0</td>\n",
       "      <td>21.0</td>\n",
       "      <td>142.0</td>\n",
       "    </tr>\n",
       "    <tr>\n",
       "      <th>5</th>\n",
       "      <td>2019-03-01</td>\n",
       "      <td>13.0</td>\n",
       "      <td>78.0</td>\n",
       "      <td>34.0</td>\n",
       "      <td>165.0</td>\n",
       "      <td>1.0</td>\n",
       "      <td>14.0</td>\n",
       "      <td>106.0</td>\n",
       "    </tr>\n",
       "    <tr>\n",
       "      <th>6</th>\n",
       "      <td>2019-04-01</td>\n",
       "      <td>6.0</td>\n",
       "      <td>175.0</td>\n",
       "      <td>149.0</td>\n",
       "      <td>207.0</td>\n",
       "      <td>3.0</td>\n",
       "      <td>13.0</td>\n",
       "      <td>123.0</td>\n",
       "    </tr>\n",
       "    <tr>\n",
       "      <th>7</th>\n",
       "      <td>2019-05-01</td>\n",
       "      <td>10.0</td>\n",
       "      <td>146.0</td>\n",
       "      <td>297.0</td>\n",
       "      <td>211.0</td>\n",
       "      <td>6.0</td>\n",
       "      <td>5.0</td>\n",
       "      <td>54.0</td>\n",
       "    </tr>\n",
       "    <tr>\n",
       "      <th>8</th>\n",
       "      <td>2019-06-01</td>\n",
       "      <td>4.0</td>\n",
       "      <td>68.0</td>\n",
       "      <td>27.0</td>\n",
       "      <td>100.0</td>\n",
       "      <td>4.0</td>\n",
       "      <td>13.0</td>\n",
       "      <td>73.0</td>\n",
       "    </tr>\n",
       "    <tr>\n",
       "      <th>9</th>\n",
       "      <td>2019-07-01</td>\n",
       "      <td>6.0</td>\n",
       "      <td>83.0</td>\n",
       "      <td>27.0</td>\n",
       "      <td>75.0</td>\n",
       "      <td>5.0</td>\n",
       "      <td>18.0</td>\n",
       "      <td>98.0</td>\n",
       "    </tr>\n",
       "    <tr>\n",
       "      <th>10</th>\n",
       "      <td>2019-08-01</td>\n",
       "      <td>7.0</td>\n",
       "      <td>34.0</td>\n",
       "      <td>7.0</td>\n",
       "      <td>46.0</td>\n",
       "      <td>2.0</td>\n",
       "      <td>14.0</td>\n",
       "      <td>90.0</td>\n",
       "    </tr>\n",
       "    <tr>\n",
       "      <th>11</th>\n",
       "      <td>2019-09-01</td>\n",
       "      <td>11.0</td>\n",
       "      <td>45.0</td>\n",
       "      <td>11.0</td>\n",
       "      <td>53.0</td>\n",
       "      <td>2.0</td>\n",
       "      <td>15.0</td>\n",
       "      <td>82.0</td>\n",
       "    </tr>\n",
       "    <tr>\n",
       "      <th>12</th>\n",
       "      <td>2019-10-01</td>\n",
       "      <td>13.0</td>\n",
       "      <td>9.0</td>\n",
       "      <td>1.0</td>\n",
       "      <td>66.0</td>\n",
       "      <td>10.0</td>\n",
       "      <td>12.0</td>\n",
       "      <td>103.0</td>\n",
       "    </tr>\n",
       "  </tbody>\n",
       "</table>\n",
       "</div>"
      ],
      "text/plain": [
       "product_type month_year  кухня  прочее  рассада  растения  стройка  текстиль  \\\n",
       "0            2018-10-01   27.0    25.0     19.0     113.0     16.0      37.0   \n",
       "1            2018-11-01   46.0    59.0      5.0      85.0      5.0      33.0   \n",
       "2            2018-12-01   28.0    73.0      NaN      33.0      6.0      33.0   \n",
       "3            2019-01-01   18.0    22.0      2.0      37.0      6.0      22.0   \n",
       "4            2019-02-01   22.0    38.0     16.0     117.0      4.0      21.0   \n",
       "5            2019-03-01   13.0    78.0     34.0     165.0      1.0      14.0   \n",
       "6            2019-04-01    6.0   175.0    149.0     207.0      3.0      13.0   \n",
       "7            2019-05-01   10.0   146.0    297.0     211.0      6.0       5.0   \n",
       "8            2019-06-01    4.0    68.0     27.0     100.0      4.0      13.0   \n",
       "9            2019-07-01    6.0    83.0     27.0      75.0      5.0      18.0   \n",
       "10           2019-08-01    7.0    34.0      7.0      46.0      2.0      14.0   \n",
       "11           2019-09-01   11.0    45.0     11.0      53.0      2.0      15.0   \n",
       "12           2019-10-01   13.0     9.0      1.0      66.0     10.0      12.0   \n",
       "\n",
       "product_type  хозтовары  \n",
       "0                 246.0  \n",
       "1                 195.0  \n",
       "2                 140.0  \n",
       "3                  76.0  \n",
       "4                 142.0  \n",
       "5                 106.0  \n",
       "6                 123.0  \n",
       "7                  54.0  \n",
       "8                  73.0  \n",
       "9                  98.0  \n",
       "10                 90.0  \n",
       "11                 82.0  \n",
       "12                103.0  "
      ]
     },
     "execution_count": 84,
     "metadata": {},
     "output_type": "execute_result"
    }
   ],
   "source": [
    "df_category_sales_pivot = df.pivot_table(index='month_year',\n",
    "              columns='product_type',\n",
    "              values='product',\n",
    "              aggfunc='count').reset_index()\n",
    "\n",
    "df_category_sales_pivot"
   ]
  },
  {
   "cell_type": "code",
   "execution_count": 85,
   "metadata": {},
   "outputs": [
    {
     "name": "stdout",
     "output_type": "stream",
     "text": [
      "Среднемесячные продажи в категории кухня 13.0\n",
      "\n",
      "Среднемесячные продажи в категории прочее 59.0\n",
      "\n",
      "Среднемесячные продажи в категории рассада 17.5\n",
      "\n",
      "Среднемесячные продажи в категории растения 85.0\n",
      "\n",
      "Среднемесячные продажи в категории стройка 5.0\n",
      "\n",
      "Среднемесячные продажи в категории текстиль 15.0\n",
      "\n",
      "Среднемесячные продажи в категории хозтовары 103.0\n",
      "\n"
     ]
    }
   ],
   "source": [
    "for i in ['кухня', 'прочее', 'рассада', 'растения', 'стройка',\n",
    "       'текстиль', 'хозтовары']:\n",
    "    print(\"Среднемесячные продажи в категории\", i, df_category_sales_pivot[i].median())\n",
    "    print()"
   ]
  },
  {
   "cell_type": "code",
   "execution_count": 86,
   "metadata": {
    "scrolled": false
   },
   "outputs": [
    {
     "data": {
      "text/plain": [
       "<matplotlib.axes._subplots.AxesSubplot at 0x11d6e9c10>"
      ]
     },
     "execution_count": 86,
     "metadata": {},
     "output_type": "execute_result"
    },
    {
     "data": {
      "image/png": "[encoded data removed]",
      "text/plain": [
       "<Figure size 864x720 with 1 Axes>"
      ]
     },
     "metadata": {
      "needs_background": "light"
     },
     "output_type": "display_data"
    }
   ],
   "source": [
    "#Посмотрим продажи по дням.\n",
    "df.pivot_table(index='weekday',\n",
    "              columns='product_type',\n",
    "              values='product',\n",
    "              aggfunc='count').plot(figsize=(12,10), title='График продаж категорий по дням недели')"
   ]
  },
  {
   "cell_type": "markdown",
   "metadata": {},
   "source": [
    "Растения и рассаду больше покупают по понедельникам. Также растения хорошо покупают в четверг.\n",
    "\n",
    "Товары из категория стройка хорошо покупают в начале недели. \n",
    "\n",
    "Осталбьные категории распределены достаточно равномерно."
   ]
  },
  {
   "cell_type": "markdown",
   "metadata": {},
   "source": [
    "### Выводы:<a id=\"step999\"></a>"
   ]
  },
  {
   "cell_type": "markdown",
   "metadata": {},
   "source": [
    "После очистки от дубликатов, Датасет имеет 4 817 строк и 6 колонок. Пропущенныз значений в датасете нет.\n",
    "Количество проданных товаров увеличивается с февраля месяца и достигает своего пика в мае, после чего происходит падение продаж. Также видно, что количество заказов также начинает расти с февраля месяца, достигает своего пика в мае, после чего происходит падение продаж. Возможно это сезонность, если бы были данные за несколько лет, мы бы могли сказать точно.\n",
    "\n",
    "Всего в датафрейме представлено 2 451 уникальный покупатель.\n",
    "все пользователи, которые совершили более 1-ой покупки являются аномальными. Все-таки большинство пользователей совершает только 1 покупку.\n",
    "\n",
    "Всего пользователей: 2451\n",
    "Кол-во пользователей, который совершают 1 покупку: 2263\n",
    "Кол-во пользователей, который совершают более 1 покупку: 158\n",
    "Доля пользователей, которые совершают более 1 покупки: 6.527948%\n",
    "\n",
    "\n",
    "После очистки от выбросов, среднее значение количества товаров в заказе равно - 1.5, а медиана 1. Возьмем за основу медиану - 1.\n",
    "\n",
    "Основная масса продаж приходится на товары стоимостью до 200 единиц. \n",
    "При этом нормальные значения стоимости товара расположены в диапазоне от 9 до 1 085.\n",
    "Средняя стоимость товара - 135 единиц;\n",
    "\n",
    "\n",
    "Средний чек исходного датафрейма - 893 единиц.\n",
    "Видно 2 пика по среднему чеку, один в районе 60 единиц, другой - 150 единиц.\n",
    "После очистки данных от выбрососв, средний чек составил 626 единиц.\n",
    "\n",
    "После проведения категоризации получили следующие категории товаров и количество уикальных товаров из этой категории:\n",
    "\n",
    "хозтовары    738\n",
    "прочее       587\n",
    "растения     342\n",
    "рассада      221\n",
    "текстиль     213\n",
    "кухня        178\n",
    "стройка       62\n",
    "\n",
    "Больше всего уникальных товаров было продано в категории хозтовары.\n",
    "\n",
    "В категории рассада в серднем приходится 2.7 продаж на одну единицу товара.\n",
    "\n",
    "В категории растения - 3.85;\n",
    "\n",
    "В категории хозтовары - 2;\n",
    "\n",
    "В категории прочее - 1.4.\n",
    "\n",
    "Меньше всего продаж на единицу товара приходится на категорию \"кухня\" - 1,2\n",
    "\n",
    "\n",
    "Самый большой доход принесла категория - хозтовары, было продано 1478 едиинц товара, на общую сумму 1 496 987, категория обладает вторым по величине средним чеком - 1012.\n",
    "\n",
    "На втором месте по выручке категория - текстиль, было продано 284 едиинцы товара, на общую сумму 263 910, категория обладает третьим по величине средним чеком - 929\n",
    "\n",
    "Самый высокий средний чек у категории \"стройка\", но товаров было продано мало, всего 82, поэтому она принесла достаточно мало дохода - 117607.0.\n",
    "\n",
    "У категори \"рассада\" самый низкий средний чек - 122, не смотря на довольно внушительные объемы продаж - 595 единиц, у данной категории самамя низкая выручка.\n",
    "\n",
    "У растений и рассады есть выраженная сезонность. Продажи начинают расти в феврале, пик продаж приходится на май, после чего идет спад. Вероятно это связано с дачным сезоном.\n",
    "При этом в декабре никто не покупает рассаду, в отличие отрастений.\n",
    "\n",
    "Аналогичная сезонность наблюдается у товаров, попавших в катешгорию \"прочее\".\n",
    "\n",
    "Товары из категории \"хозтовары\" лучше продаются осенью. \n",
    "\n",
    "Продажи по остальным категориям относительно ровные за предоставленный период.\n",
    "\n",
    "\n",
    "Среднемесячные продажи в категории кухня 13.0\n",
    "\n",
    "Среднемесячные продажи в категории прочее 59.0\n",
    "\n",
    "Среднемесячные продажи в категории рассада 17.5\n",
    "\n",
    "Среднемесячные продажи в категории растения 84.0\n",
    "\n",
    "Среднемесячные продажи в категории стройка 6.0\n",
    "\n",
    "Среднемесячные продажи в категории текстиль 17.0\n",
    "\n",
    "Среднемесячные продажи в категории хозтовары 98.0\n",
    "\n",
    "\n",
    "Растения и рассаду больше покупают по понедельникам. Также растения хорошо покупают в четверг.\n",
    "\n",
    "Товары из категория стройка хорошо покупают в начале недели.\n",
    "\n",
    "Остальные категории распределены достаточно равномерно.\n",
    "\n",
    "\n",
    "\n",
    "\n",
    "Рекомендации:\n",
    "- С марта по май рекомендовать приобрести растения и рассаду.\n",
    "- Строительные материалы также можно активно рекомендовать в нвачале недели.\n",
    "\n"
   ]
  },
  {
   "cell_type": "code",
   "execution_count": null,
   "metadata": {},
   "outputs": [],
   "source": []
  }
 ],
 "metadata": {
  "kernelspec": {
   "display_name": "Python 3",
   "language": "python",
   "name": "python3"
  },
  "language_info": {
   "codemirror_mode": {
    "name": "ipython",
    "version": 3
   },
   "file_extension": ".py",
   "mimetype": "text/x-python",
   "name": "python",
   "nbconvert_exporter": "python",
   "pygments_lexer": "ipython3",
   "version": "3.7.7"
  }
 },
 "nbformat": 4,
 "nbformat_minor": 4
}
